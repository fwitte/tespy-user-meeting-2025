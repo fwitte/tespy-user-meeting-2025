{
 "cells": [
  {
   "cell_type": "markdown",
   "id": "74c2fed0",
   "metadata": {},
   "source": [
    "# User Defined Equations\n",
    "\n",
    "Examples:\n",
    "\n",
    "- find value of evaporation temperature to achieve specific COP\n",
    "- a custom superheat specification\n",
    "- set the minimal pinch across a number of heat exchangers\n",
    "\n",
    "## General info\n",
    "\n",
    "- Formulate an equation $0 = ...$ in a custom function and return residual\n",
    "- Specify which variables the equation depends on in a second function\n",
    "- Pass all other relevant information to an instance of UserDefinedEquation\n",
    "  - connections available through ude.conns\n",
    "  - components available through ude.comps\n",
    "  - function to calculate the partial derivatives explicitly instead of doing\n",
    "    it via dependents\n",
    "  - other parameters (dictionary) available through ude.params\n",
    "- For more, readthedocs: https://tespy.readthedocs.io/en/main/modules/ude.html\n",
    "\n",
    "## Specification of COP\n",
    "\n",
    "- heat pump\n",
    "- fixed efficiency of compressor\n",
    "- fixed superheat and subcooling\n",
    "- fixed evaporation and condensation temperature level\n",
    "- target amount of heat production by condenser"
   ]
  },
  {
   "cell_type": "code",
   "execution_count": 1,
   "id": "c2f756df",
   "metadata": {
    "execution": {
     "iopub.execute_input": "2025-10-15T15:11:24.259860Z",
     "iopub.status.busy": "2025-10-15T15:11:24.259550Z",
     "iopub.status.idle": "2025-10-15T15:11:26.076148Z",
     "shell.execute_reply": "2025-10-15T15:11:26.075257Z"
    }
   },
   "outputs": [],
   "source": [
    "from tespy.components import SimpleHeatExchanger, CycleCloser, Valve, Compressor\n",
    "from tespy.connections import Connection\n",
    "from tespy.networks import Network"
   ]
  },
  {
   "cell_type": "code",
   "execution_count": 2,
   "id": "db7b48d2",
   "metadata": {
    "execution": {
     "iopub.execute_input": "2025-10-15T15:11:26.079079Z",
     "iopub.status.busy": "2025-10-15T15:11:26.078786Z",
     "iopub.status.idle": "2025-10-15T15:11:26.103047Z",
     "shell.execute_reply": "2025-10-15T15:11:26.102310Z"
    }
   },
   "outputs": [],
   "source": [
    "nw = Network()\n",
    "nw.units.set_defaults(\n",
    "    temperature=\"°C\",\n",
    "    pressure=\"bar\",\n",
    "    power=\"kW\",\n",
    "    heat=\"kW\"\n",
    ")"
   ]
  },
  {
   "cell_type": "code",
   "execution_count": 3,
   "id": "12dfc81a",
   "metadata": {
    "execution": {
     "iopub.execute_input": "2025-10-15T15:11:26.105303Z",
     "iopub.status.busy": "2025-10-15T15:11:26.105124Z",
     "iopub.status.idle": "2025-10-15T15:11:26.120452Z",
     "shell.execute_reply": "2025-10-15T15:11:26.119975Z"
    }
   },
   "outputs": [],
   "source": [
    "evaporator = SimpleHeatExchanger(\"evaporator\")\n",
    "superheater = SimpleHeatExchanger(\"superheater\")\n",
    "compressor = Compressor(\"compressor\")\n",
    "condenser = SimpleHeatExchanger(\"condenser\")\n",
    "valve = Valve(\"valve\")\n",
    "cc = CycleCloser(\"cc\")\n",
    "\n",
    "c1 = Connection(evaporator, \"out1\", superheater, \"in1\", label=\"c1\")\n",
    "c1b = Connection(superheater, \"out1\", compressor, \"in1\", label=\"c1b\")\n",
    "c2 = Connection(compressor, \"out1\", condenser, \"in1\", label=\"c2\")\n",
    "c3 = Connection(condenser, \"out1\", valve, \"in1\", label=\"c3\")\n",
    "c4 = Connection(valve, \"out1\", cc, \"in1\", label=\"c4\")\n",
    "c5 = Connection(cc, \"out1\", evaporator, \"in1\", label=\"c5\")\n",
    "\n",
    "nw.add_conns(c1, c1b, c2, c3, c4, c5)"
   ]
  },
  {
   "cell_type": "code",
   "execution_count": 4,
   "id": "c2722a1b",
   "metadata": {
    "execution": {
     "iopub.execute_input": "2025-10-15T15:11:26.122846Z",
     "iopub.status.busy": "2025-10-15T15:11:26.122654Z",
     "iopub.status.idle": "2025-10-15T15:11:26.195360Z",
     "shell.execute_reply": "2025-10-15T15:11:26.194923Z"
    }
   },
   "outputs": [
    {
     "name": "stdout",
     "output_type": "stream",
     "text": [
      "\n",
      " iter  | residual   | progress   | massflow   | pressure   | enthalpy   | fluid      | component  \n",
      "-------+------------+------------+------------+------------+------------+------------+------------\n",
      " 1     | 5.93e+05   | 2 %        | 1.83e+00   | 0.00e+00   | 2.30e+04   | 0.00e+00   | 0.00e+00   \n",
      " 2     | 4.21e+04   | 15 %       | 1.13e-01   | 0.00e+00   | 9.09e-11   | 0.00e+00   | 0.00e+00   \n",
      " 3     | 4.71e-10   | 100 %      | 1.32e-15   | 0.00e+00   | 9.09e-11   | 0.00e+00   | 0.00e+00   \n",
      " 4     | 7.84e-11   | 100 %      | 1.26e-17   | 0.00e+00   | 9.09e-11   | 0.00e+00   | 0.00e+00   \n",
      "Total iterations: 4, Calculation time: 0.00 s, Iterations per second: 1501.59\n"
     ]
    }
   ],
   "source": [
    "c1.set_attr(fluid={\"R600\": 1}, T_dew=10, td_dew=2)\n",
    "c1b.set_attr(td_dew=12)\n",
    "c3.set_attr(T_bubble=60, td_bubble=5)\n",
    "\n",
    "evaporator.set_attr(dp=0)\n",
    "superheater.set_attr(dp=1)\n",
    "condenser.set_attr(dp=0, Q=-100)\n",
    "compressor.set_attr(eta_s=0.8)\n",
    "\n",
    "nw.solve(\"design\")"
   ]
  },
  {
   "cell_type": "code",
   "execution_count": 5,
   "id": "dab740e5",
   "metadata": {
    "execution": {
     "iopub.execute_input": "2025-10-15T15:11:26.197629Z",
     "iopub.status.busy": "2025-10-15T15:11:26.197444Z",
     "iopub.status.idle": "2025-10-15T15:11:26.202533Z",
     "shell.execute_reply": "2025-10-15T15:11:26.202157Z"
    }
   },
   "outputs": [
    {
     "data": {
      "text/plain": [
       "2.8616514142579312"
      ]
     },
     "execution_count": 5,
     "metadata": {},
     "output_type": "execute_result"
    }
   ],
   "source": [
    "abs(condenser.Q.val) / compressor.P.val"
   ]
  },
  {
   "cell_type": "code",
   "execution_count": 6,
   "id": "551fada5",
   "metadata": {
    "execution": {
     "iopub.execute_input": "2025-10-15T15:11:26.204609Z",
     "iopub.status.busy": "2025-10-15T15:11:26.204443Z",
     "iopub.status.idle": "2025-10-15T15:11:26.260305Z",
     "shell.execute_reply": "2025-10-15T15:11:26.259730Z"
    }
   },
   "outputs": [
    {
     "name": "stdout",
     "output_type": "stream",
     "text": [
      "\n",
      " iter  | residual   | progress   | massflow   | pressure   | enthalpy   | fluid      | component  \n",
      "-------+------------+------------+------------+------------+------------+------------+------------\n",
      " 1     | 3.64e+05   | 4 %        | 2.15e-02   | 9.51e+04   | 7.61e+04   | 0.00e+00   | 0.00e+00   \n",
      " 2     | 3.67e+04   | 15 %       | 9.00e-03   | 8.21e+04   | 1.70e+04   | 0.00e+00   | 0.00e+00   \n",
      " 3     | 6.27e+03   | 24 %       | 1.20e-03   | 2.32e+04   | 2.55e+03   | 0.00e+00   | 0.00e+00   \n",
      " 4     | 2.55e+02   | 39 %       | 4.07e-05   | 1.12e+03   | 7.96e+01   | 0.00e+00   | 0.00e+00   \n",
      " 5     | 5.21e-01   | 69 %       | 8.12e-08   | 2.38e+00   | 1.48e-01   | 0.00e+00   | 0.00e+00   \n",
      " 6     | 2.73e-06   | 100 %      | 8.20e-13   | 1.31e-05   | 1.53e-06   | 0.00e+00   | 0.00e+00   \n",
      " 7     | 7.97e-10   | 100 %      | 2.80e-17   | 2.01e-09   | 4.73e-10   | 0.00e+00   | 0.00e+00   \n",
      "Total iterations: 7, Calculation time: 0.02 s, Iterations per second: 421.45\n"
     ]
    }
   ],
   "source": [
    "from tespy.tools import UserDefinedEquation\n",
    "\n",
    "\n",
    "c1.set_attr(T_dew=None)\n",
    "\n",
    "def cop_ude(ude):\n",
    "    c1, c2, c3 = ude.conns\n",
    "    target_cop = ude.params[\"target_cop\"]\n",
    "    return target_cop * (c2.h.val_SI - c1.h.val_SI) - (c2.h.val_SI - c3.h.val_SI)\n",
    "\n",
    "def cop_ude_dependents(ude):\n",
    "    return [c.h for c in ude.conns]\n",
    "\n",
    "cop = 7\n",
    "\n",
    "myude = UserDefinedEquation(\n",
    "    \"cop ude\",\n",
    "    cop_ude,\n",
    "    cop_ude_dependents,\n",
    "    conns=[c1, c2, c3],\n",
    "    params={\"target_cop\": cop}\n",
    ")\n",
    "\n",
    "nw.add_ude(myude)\n",
    "nw.solve(\"design\")"
   ]
  },
  {
   "cell_type": "code",
   "execution_count": 7,
   "id": "3307ec93",
   "metadata": {
    "execution": {
     "iopub.execute_input": "2025-10-15T15:11:26.262601Z",
     "iopub.status.busy": "2025-10-15T15:11:26.262434Z",
     "iopub.status.idle": "2025-10-15T15:11:26.266391Z",
     "shell.execute_reply": "2025-10-15T15:11:26.265845Z"
    }
   },
   "outputs": [
    {
     "data": {
      "text/plain": [
       "7.276456922425378"
      ]
     },
     "execution_count": 7,
     "metadata": {},
     "output_type": "execute_result"
    }
   ],
   "source": [
    "abs(condenser.Q.val) / compressor.P.val"
   ]
  },
  {
   "cell_type": "code",
   "execution_count": 8,
   "id": "959d208b",
   "metadata": {
    "execution": {
     "iopub.execute_input": "2025-10-15T15:11:26.268838Z",
     "iopub.status.busy": "2025-10-15T15:11:26.268668Z",
     "iopub.status.idle": "2025-10-15T15:11:26.318689Z",
     "shell.execute_reply": "2025-10-15T15:11:26.318007Z"
    }
   },
   "outputs": [
    {
     "name": "stdout",
     "output_type": "stream",
     "text": [
      "\n",
      " iter  | residual   | progress   | massflow   | pressure   | enthalpy   | fluid      | component  \n",
      "-------+------------+------------+------------+------------+------------+------------+------------\n",
      " 1     | 1.53e+05   | 9 %        | 1.87e-03   | 2.54e+05   | 6.16e+04   | 0.00e+00   | 0.00e+00   \n",
      " 2     | 9.84e+03   | 22 %       | 3.98e-03   | 1.83e+03   | 6.94e+03   | 0.00e+00   | 0.00e+00   \n",
      " 3     | 2.97e+01   | 50 %       | 6.29e-05   | 5.61e+00   | 1.13e+01   | 0.00e+00   | 0.00e+00   \n",
      " 4     | 4.81e-04   | 100 %      | 1.29e-09   | 2.43e-04   | 1.17e-04   | 0.00e+00   | 0.00e+00   \n",
      " 5     | 9.73e-10   | 100 %      | 5.51e-16   | 2.09e-09   | 1.81e-09   | 0.00e+00   | 0.00e+00   \n",
      "Total iterations: 5, Calculation time: 0.01 s, Iterations per second: 450.79\n"
     ]
    },
    {
     "data": {
      "text/plain": [
       "17.11179350291286"
      ]
     },
     "execution_count": 8,
     "metadata": {},
     "output_type": "execute_result"
    }
   ],
   "source": [
    "myude.params[\"target_cop\"] = 4\n",
    "nw.solve(\"design\")\n",
    "c1.T.val"
   ]
  }
 ],
 "metadata": {
  "kernelspec": {
   "display_name": "tespy-user-meeting-2025",
   "language": "python",
   "name": "python3"
  },
  "language_info": {
   "codemirror_mode": {
    "name": "ipython",
    "version": 3
   },
   "file_extension": ".py",
   "mimetype": "text/x-python",
   "name": "python",
   "nbconvert_exporter": "python",
   "pygments_lexer": "ipython3",
   "version": "3.13.6"
  }
 },
 "nbformat": 4,
 "nbformat_minor": 5
}
