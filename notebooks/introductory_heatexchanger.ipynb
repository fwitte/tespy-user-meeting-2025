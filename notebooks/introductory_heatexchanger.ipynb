{
 "cells": [
  {
   "cell_type": "markdown",
   "id": "e5b91a08",
   "metadata": {},
   "source": [
    "# Introductory tutorial\n",
    "\n",
    "- simple heat exchanger design state calculations"
   ]
  },
  {
   "cell_type": "code",
   "execution_count": 1,
   "id": "827e71df",
   "metadata": {
    "execution": {
     "iopub.execute_input": "2025-10-15T15:10:35.811273Z",
     "iopub.status.busy": "2025-10-15T15:10:35.811011Z",
     "iopub.status.idle": "2025-10-15T15:10:37.614804Z",
     "shell.execute_reply": "2025-10-15T15:10:37.614251Z"
    }
   },
   "outputs": [],
   "source": [
    "from tespy.networks import Network\n",
    "from tespy.components import Source, Sink, SimpleHeatExchanger\n",
    "from tespy.connections import Connection"
   ]
  },
  {
   "cell_type": "code",
   "execution_count": 2,
   "id": "8e202a43",
   "metadata": {
    "execution": {
     "iopub.execute_input": "2025-10-15T15:10:37.618348Z",
     "iopub.status.busy": "2025-10-15T15:10:37.618053Z",
     "iopub.status.idle": "2025-10-15T15:10:37.642155Z",
     "shell.execute_reply": "2025-10-15T15:10:37.641531Z"
    }
   },
   "outputs": [],
   "source": [
    "nw = Network()"
   ]
  },
  {
   "cell_type": "code",
   "execution_count": 3,
   "id": "d4a22098",
   "metadata": {
    "execution": {
     "iopub.execute_input": "2025-10-15T15:10:37.644567Z",
     "iopub.status.busy": "2025-10-15T15:10:37.644373Z",
     "iopub.status.idle": "2025-10-15T15:10:37.648036Z",
     "shell.execute_reply": "2025-10-15T15:10:37.647354Z"
    }
   },
   "outputs": [],
   "source": [
    "nw.units.set_defaults(\n",
    "    temperature=\"°C\",\n",
    "    pressure=\"bar\",\n",
    "    heat=\"kW\",\n",
    "    volumetric_flow=\"l/h\"\n",
    ")"
   ]
  },
  {
   "cell_type": "code",
   "execution_count": 4,
   "id": "bb2ab966",
   "metadata": {
    "execution": {
     "iopub.execute_input": "2025-10-15T15:10:37.650106Z",
     "iopub.status.busy": "2025-10-15T15:10:37.649914Z",
     "iopub.status.idle": "2025-10-15T15:10:37.652795Z",
     "shell.execute_reply": "2025-10-15T15:10:37.652179Z"
    }
   },
   "outputs": [],
   "source": [
    "source = Source(\"water inflow\")\n",
    "sink = Sink(\"water outflow\")\n",
    "heatexchanger = SimpleHeatExchanger(\"boiler\")"
   ]
  },
  {
   "cell_type": "code",
   "execution_count": 5,
   "id": "60ee3ee6",
   "metadata": {
    "execution": {
     "iopub.execute_input": "2025-10-15T15:10:37.654567Z",
     "iopub.status.busy": "2025-10-15T15:10:37.654391Z",
     "iopub.status.idle": "2025-10-15T15:10:37.657970Z",
     "shell.execute_reply": "2025-10-15T15:10:37.657314Z"
    }
   },
   "outputs": [],
   "source": [
    "c1 = Connection(source, \"out1\", heatexchanger, \"in1\", label=\"c1\")\n",
    "c2 = Connection(heatexchanger, \"out1\", sink, \"in1\", label=\"c2\")"
   ]
  },
  {
   "cell_type": "code",
   "execution_count": 6,
   "id": "be1cbc5e",
   "metadata": {
    "execution": {
     "iopub.execute_input": "2025-10-15T15:10:37.659853Z",
     "iopub.status.busy": "2025-10-15T15:10:37.659668Z",
     "iopub.status.idle": "2025-10-15T15:10:37.667206Z",
     "shell.execute_reply": "2025-10-15T15:10:37.666647Z"
    }
   },
   "outputs": [],
   "source": [
    "nw.add_conns(c1, c2)"
   ]
  },
  {
   "cell_type": "code",
   "execution_count": 7,
   "id": "8e900454",
   "metadata": {
    "execution": {
     "iopub.execute_input": "2025-10-15T15:10:37.669302Z",
     "iopub.status.busy": "2025-10-15T15:10:37.669130Z",
     "iopub.status.idle": "2025-10-15T15:10:37.672157Z",
     "shell.execute_reply": "2025-10-15T15:10:37.671646Z"
    }
   },
   "outputs": [],
   "source": [
    "c1.set_attr(fluid={\"water\": 1}, m=5, p=2, T=80)\n",
    "c2.set_attr(T=150)\n",
    "heatexchanger.set_attr(dp=0.02)"
   ]
  },
  {
   "cell_type": "code",
   "execution_count": 8,
   "id": "f33d09a8",
   "metadata": {
    "execution": {
     "iopub.execute_input": "2025-10-15T15:10:37.674175Z",
     "iopub.status.busy": "2025-10-15T15:10:37.674010Z",
     "iopub.status.idle": "2025-10-15T15:10:37.710562Z",
     "shell.execute_reply": "2025-10-15T15:10:37.710100Z"
    }
   },
   "outputs": [
    {
     "name": "stdout",
     "output_type": "stream",
     "text": [
      "\n",
      " iter  | residual   | progress   | massflow   | pressure   | enthalpy   | fluid      | component  \n",
      "-------+------------+------------+------------+------------+------------+------------+------------\n",
      " 1     | 0.00e+00   | 100 %      | 0.00e+00   | 0.00e+00   | 0.00e+00   | 0.00e+00   | 0.00e+00   \n",
      " 2     | 0.00e+00   | 100 %      | 0.00e+00   | 0.00e+00   | 0.00e+00   | 0.00e+00   | 0.00e+00   \n",
      " 3     | 0.00e+00   | 100 %      | 0.00e+00   | 0.00e+00   | 0.00e+00   | 0.00e+00   | 0.00e+00   \n",
      " 4     | 0.00e+00   | 100 %      | 0.00e+00   | 0.00e+00   | 0.00e+00   | 0.00e+00   | 0.00e+00   \n",
      "Total iterations: 4, Calculation time: 0.00 s, Iterations per second: 4285.37\n"
     ]
    }
   ],
   "source": [
    "nw.solve(\"design\")"
   ]
  },
  {
   "cell_type": "code",
   "execution_count": 9,
   "id": "a14ea9b9",
   "metadata": {
    "execution": {
     "iopub.execute_input": "2025-10-15T15:10:37.713478Z",
     "iopub.status.busy": "2025-10-15T15:10:37.713278Z",
     "iopub.status.idle": "2025-10-15T15:10:37.725144Z",
     "shell.execute_reply": "2025-10-15T15:10:37.724353Z"
    }
   },
   "outputs": [
    {
     "name": "stdout",
     "output_type": "stream",
     "text": [
      "\n",
      "##### RESULTS (SimpleHeatExchanger) #####\n",
      "+--------+----------+----------+----------+----------+\n",
      "|        |        Q |       pr |       dp |     zeta |\n",
      "|--------+----------+----------+----------+----------|\n",
      "| boiler | 1.22e+04 | 9.90e-01 | \u001b[94m2.00e-02\u001b[0m | 2.03e+02 |\n",
      "+--------+----------+----------+----------+----------+\n",
      "##### RESULTS (Connection) #####\n",
      "+----+-----------+-----------+-----------+-----------+-----------+---------+\n",
      "|    |         m |         p |         h |         T |         x | phase   |\n",
      "|----+-----------+-----------+-----------+-----------+-----------+---------|\n",
      "| c1 | \u001b[94m5.000e+00\u001b[0m | \u001b[94m2.000e+00\u001b[0m | 3.351e+05 | \u001b[94m8.000e+01\u001b[0m | 0.000e+00 | l       |\n",
      "| c2 | 5.000e+00 | 1.980e+00 | 2.769e+06 | \u001b[94m1.500e+02\u001b[0m | 1.000e+00 | g       |\n",
      "+----+-----------+-----------+-----------+-----------+-----------+---------+\n"
     ]
    }
   ],
   "source": [
    "nw.print_results()"
   ]
  },
  {
   "cell_type": "code",
   "execution_count": 10,
   "id": "7679e0ce",
   "metadata": {
    "execution": {
     "iopub.execute_input": "2025-10-15T15:10:37.727457Z",
     "iopub.status.busy": "2025-10-15T15:10:37.727268Z",
     "iopub.status.idle": "2025-10-15T15:10:37.741213Z",
     "shell.execute_reply": "2025-10-15T15:10:37.740318Z"
    }
   },
   "outputs": [
    {
     "data": {
      "text/html": [
       "<div>\n",
       "<style scoped>\n",
       "    .dataframe tbody tr th:only-of-type {\n",
       "        vertical-align: middle;\n",
       "    }\n",
       "\n",
       "    .dataframe tbody tr th {\n",
       "        vertical-align: top;\n",
       "    }\n",
       "\n",
       "    .dataframe thead th {\n",
       "        text-align: right;\n",
       "    }\n",
       "</style>\n",
       "<table border=\"1\" class=\"dataframe\">\n",
       "  <thead>\n",
       "    <tr style=\"text-align: right;\">\n",
       "      <th></th>\n",
       "      <th>Q</th>\n",
       "      <th>Q_unit</th>\n",
       "      <th>pr</th>\n",
       "      <th>pr_unit</th>\n",
       "      <th>dp</th>\n",
       "      <th>dp_unit</th>\n",
       "      <th>zeta</th>\n",
       "      <th>zeta_unit</th>\n",
       "      <th>D</th>\n",
       "      <th>D_unit</th>\n",
       "      <th>L</th>\n",
       "      <th>L_unit</th>\n",
       "      <th>ks</th>\n",
       "      <th>ks_unit</th>\n",
       "      <th>ks_HW</th>\n",
       "      <th>ks_HW_unit</th>\n",
       "      <th>kA</th>\n",
       "      <th>kA_unit</th>\n",
       "      <th>Tamb</th>\n",
       "      <th>Tamb_unit</th>\n",
       "    </tr>\n",
       "  </thead>\n",
       "  <tbody>\n",
       "    <tr>\n",
       "      <th>boiler</th>\n",
       "      <td>12170.590735</td>\n",
       "      <td>kilowatt</td>\n",
       "      <td>0.99</td>\n",
       "      <td>dimensionless</td>\n",
       "      <td>0.02</td>\n",
       "      <td>bar</td>\n",
       "      <td>203.338834</td>\n",
       "      <td>dimensionless</td>\n",
       "      <td>NaN</td>\n",
       "      <td>meter</td>\n",
       "      <td>NaN</td>\n",
       "      <td>meter</td>\n",
       "      <td>NaN</td>\n",
       "      <td>meter</td>\n",
       "      <td>NaN</td>\n",
       "      <td>dimensionless</td>\n",
       "      <td>NaN</td>\n",
       "      <td>watt / kelvin</td>\n",
       "      <td>NaN</td>\n",
       "      <td>degree_Celsius</td>\n",
       "    </tr>\n",
       "  </tbody>\n",
       "</table>\n",
       "</div>"
      ],
      "text/plain": [
       "                   Q    Q_unit    pr        pr_unit    dp dp_unit        zeta  \\\n",
       "boiler  12170.590735  kilowatt  0.99  dimensionless  0.02     bar  203.338834   \n",
       "\n",
       "            zeta_unit    D D_unit    L L_unit   ks ks_unit ks_HW  \\\n",
       "boiler  dimensionless  NaN  meter  NaN  meter  NaN   meter   NaN   \n",
       "\n",
       "           ks_HW_unit   kA        kA_unit Tamb       Tamb_unit  \n",
       "boiler  dimensionless  NaN  watt / kelvin  NaN  degree_Celsius  "
      ]
     },
     "execution_count": 10,
     "metadata": {},
     "output_type": "execute_result"
    }
   ],
   "source": [
    "nw.results[\"SimpleHeatExchanger\"]"
   ]
  },
  {
   "cell_type": "code",
   "execution_count": 11,
   "id": "82e1b0bd",
   "metadata": {
    "execution": {
     "iopub.execute_input": "2025-10-15T15:10:37.743415Z",
     "iopub.status.busy": "2025-10-15T15:10:37.743219Z",
     "iopub.status.idle": "2025-10-15T15:10:37.758942Z",
     "shell.execute_reply": "2025-10-15T15:10:37.758085Z"
    }
   },
   "outputs": [
    {
     "data": {
      "text/html": [
       "<div>\n",
       "<style scoped>\n",
       "    .dataframe tbody tr th:only-of-type {\n",
       "        vertical-align: middle;\n",
       "    }\n",
       "\n",
       "    .dataframe tbody tr th {\n",
       "        vertical-align: top;\n",
       "    }\n",
       "\n",
       "    .dataframe thead th {\n",
       "        text-align: right;\n",
       "    }\n",
       "</style>\n",
       "<table border=\"1\" class=\"dataframe\">\n",
       "  <thead>\n",
       "    <tr style=\"text-align: right;\">\n",
       "      <th></th>\n",
       "      <th>m</th>\n",
       "      <th>m_unit</th>\n",
       "      <th>p</th>\n",
       "      <th>p_unit</th>\n",
       "      <th>h</th>\n",
       "      <th>h_unit</th>\n",
       "      <th>T</th>\n",
       "      <th>T_unit</th>\n",
       "      <th>v</th>\n",
       "      <th>v_unit</th>\n",
       "      <th>...</th>\n",
       "      <th>x</th>\n",
       "      <th>x_unit</th>\n",
       "      <th>Td_bp</th>\n",
       "      <th>Td_bp_unit</th>\n",
       "      <th>td_dew</th>\n",
       "      <th>td_dew_unit</th>\n",
       "      <th>td_bubble</th>\n",
       "      <th>td_bubble_unit</th>\n",
       "      <th>water</th>\n",
       "      <th>phase</th>\n",
       "    </tr>\n",
       "  </thead>\n",
       "  <tbody>\n",
       "    <tr>\n",
       "      <th>c1</th>\n",
       "      <td>5.0</td>\n",
       "      <td>kilogram / second</td>\n",
       "      <td>2.00</td>\n",
       "      <td>bar</td>\n",
       "      <td>3.351338e+05</td>\n",
       "      <td>joule / kilogram</td>\n",
       "      <td>80.0</td>\n",
       "      <td>degree_Celsius</td>\n",
       "      <td>1.852167e+04</td>\n",
       "      <td>liter / hour</td>\n",
       "      <td>...</td>\n",
       "      <td>0.0</td>\n",
       "      <td>dimensionless</td>\n",
       "      <td>-40.210091</td>\n",
       "      <td>delta_degree_Celsius</td>\n",
       "      <td>-40.210091</td>\n",
       "      <td>delta_degree_Celsius</td>\n",
       "      <td>40.210091</td>\n",
       "      <td>delta_degree_Celsius</td>\n",
       "      <td>1.0</td>\n",
       "      <td>l</td>\n",
       "    </tr>\n",
       "    <tr>\n",
       "      <th>c2</th>\n",
       "      <td>5.0</td>\n",
       "      <td>kilogram / second</td>\n",
       "      <td>1.98</td>\n",
       "      <td>bar</td>\n",
       "      <td>2.769252e+06</td>\n",
       "      <td>joule / kilogram</td>\n",
       "      <td>150.0</td>\n",
       "      <td>degree_Celsius</td>\n",
       "      <td>1.745506e+07</td>\n",
       "      <td>liter / hour</td>\n",
       "      <td>...</td>\n",
       "      <td>1.0</td>\n",
       "      <td>dimensionless</td>\n",
       "      <td>30.107329</td>\n",
       "      <td>delta_degree_Celsius</td>\n",
       "      <td>30.107329</td>\n",
       "      <td>delta_degree_Celsius</td>\n",
       "      <td>-30.107329</td>\n",
       "      <td>delta_degree_Celsius</td>\n",
       "      <td>1.0</td>\n",
       "      <td>g</td>\n",
       "    </tr>\n",
       "  </tbody>\n",
       "</table>\n",
       "<p>2 rows × 24 columns</p>\n",
       "</div>"
      ],
      "text/plain": [
       "      m             m_unit     p p_unit             h            h_unit  \\\n",
       "c1  5.0  kilogram / second  2.00    bar  3.351338e+05  joule / kilogram   \n",
       "c2  5.0  kilogram / second  1.98    bar  2.769252e+06  joule / kilogram   \n",
       "\n",
       "        T          T_unit             v        v_unit  ...    x  \\\n",
       "c1   80.0  degree_Celsius  1.852167e+04  liter / hour  ...  0.0   \n",
       "c2  150.0  degree_Celsius  1.745506e+07  liter / hour  ...  1.0   \n",
       "\n",
       "           x_unit      Td_bp            Td_bp_unit     td_dew  \\\n",
       "c1  dimensionless -40.210091  delta_degree_Celsius -40.210091   \n",
       "c2  dimensionless  30.107329  delta_degree_Celsius  30.107329   \n",
       "\n",
       "             td_dew_unit  td_bubble        td_bubble_unit  water phase  \n",
       "c1  delta_degree_Celsius  40.210091  delta_degree_Celsius    1.0     l  \n",
       "c2  delta_degree_Celsius -30.107329  delta_degree_Celsius    1.0     g  \n",
       "\n",
       "[2 rows x 24 columns]"
      ]
     },
     "execution_count": 11,
     "metadata": {},
     "output_type": "execute_result"
    }
   ],
   "source": [
    "nw.results[\"Connection\"]"
   ]
  },
  {
   "cell_type": "code",
   "execution_count": 12,
   "id": "30e56451",
   "metadata": {
    "execution": {
     "iopub.execute_input": "2025-10-15T15:10:37.761273Z",
     "iopub.status.busy": "2025-10-15T15:10:37.761065Z",
     "iopub.status.idle": "2025-10-15T15:10:37.782462Z",
     "shell.execute_reply": "2025-10-15T15:10:37.781641Z"
    }
   },
   "outputs": [
    {
     "name": "stdout",
     "output_type": "stream",
     "text": [
      "\n",
      " iter  | residual   | progress   | massflow   | pressure   | enthalpy   | fluid      | component  \n",
      "-------+------------+------------+------------+------------+------------+------------+------------\n",
      " 1     | 2.83e+06   | 0 %        | 1.16e+00   | 0.00e+00   | 0.00e+00   | 0.00e+00   | 0.00e+00   \n",
      " 2     | 1.07e-05   | 100 %      | 4.38e-12   | 0.00e+00   | 0.00e+00   | 0.00e+00   | 0.00e+00   \n",
      " 3     | 1.86e-09   | 100 %      | 7.65e-16   | 0.00e+00   | 0.00e+00   | 0.00e+00   | 0.00e+00   \n",
      " 4     | 1.86e-09   | 100 %      | 7.65e-16   | 0.00e+00   | 0.00e+00   | 0.00e+00   | 0.00e+00   \n",
      "Total iterations: 4, Calculation time: 0.00 s, Iterations per second: 2949.06\n"
     ]
    }
   ],
   "source": [
    "c1.set_attr(m=None)\n",
    "heatexchanger.set_attr(Q=15e3)\n",
    "nw.solve(\"design\")"
   ]
  },
  {
   "cell_type": "code",
   "execution_count": 13,
   "id": "510caf4d",
   "metadata": {
    "execution": {
     "iopub.execute_input": "2025-10-15T15:10:37.785015Z",
     "iopub.status.busy": "2025-10-15T15:10:37.784843Z",
     "iopub.status.idle": "2025-10-15T15:10:37.788997Z",
     "shell.execute_reply": "2025-10-15T15:10:37.788485Z"
    }
   },
   "outputs": [
    {
     "data": {
      "text/plain": [
       "6.162396027833738"
      ]
     },
     "execution_count": 13,
     "metadata": {},
     "output_type": "execute_result"
    }
   ],
   "source": [
    "c1.m.val"
   ]
  },
  {
   "cell_type": "code",
   "execution_count": 14,
   "id": "c147fce0",
   "metadata": {
    "execution": {
     "iopub.execute_input": "2025-10-15T15:10:37.791445Z",
     "iopub.status.busy": "2025-10-15T15:10:37.791283Z",
     "iopub.status.idle": "2025-10-15T15:10:37.796121Z",
     "shell.execute_reply": "2025-10-15T15:10:37.795433Z"
    }
   },
   "outputs": [
    {
     "data": {
      "text/html": [
       "6.162396027833738 kilogram/second"
      ],
      "text/latex": [
       "$6.162396027833738\\ \\frac{\\mathrm{kilogram}}{\\mathrm{second}}$"
      ],
      "text/plain": [
       "<Quantity(6.16239603, 'kilogram / second')>"
      ]
     },
     "execution_count": 14,
     "metadata": {},
     "output_type": "execute_result"
    }
   ],
   "source": [
    "c1.m.val_with_unit"
   ]
  },
  {
   "cell_type": "code",
   "execution_count": 15,
   "id": "b64b919b",
   "metadata": {
    "execution": {
     "iopub.execute_input": "2025-10-15T15:10:37.798550Z",
     "iopub.status.busy": "2025-10-15T15:10:37.798386Z",
     "iopub.status.idle": "2025-10-15T15:10:37.802398Z",
     "shell.execute_reply": "2025-10-15T15:10:37.801779Z"
    }
   },
   "outputs": [
    {
     "data": {
      "text/plain": [
       "353.14999999998435"
      ]
     },
     "execution_count": 15,
     "metadata": {},
     "output_type": "execute_result"
    }
   ],
   "source": [
    "c1.T.val_SI"
   ]
  },
  {
   "cell_type": "code",
   "execution_count": 16,
   "id": "c67a53b7",
   "metadata": {
    "execution": {
     "iopub.execute_input": "2025-10-15T15:10:37.804826Z",
     "iopub.status.busy": "2025-10-15T15:10:37.804660Z",
     "iopub.status.idle": "2025-10-15T15:10:37.808880Z",
     "shell.execute_reply": "2025-10-15T15:10:37.808374Z"
    }
   },
   "outputs": [
    {
     "data": {
      "text/html": [
       "22827.572356246237 liter/hour"
      ],
      "text/latex": [
       "$22827.572356246237\\ \\frac{\\mathrm{liter}}{\\mathrm{hour}}$"
      ],
      "text/plain": [
       "<Quantity(22827.5724, 'liter / hour')>"
      ]
     },
     "execution_count": 16,
     "metadata": {},
     "output_type": "execute_result"
    }
   ],
   "source": [
    "c1.v.val_with_unit"
   ]
  },
  {
   "cell_type": "code",
   "execution_count": 17,
   "id": "168a4598",
   "metadata": {
    "execution": {
     "iopub.execute_input": "2025-10-15T15:10:37.811329Z",
     "iopub.status.busy": "2025-10-15T15:10:37.811173Z",
     "iopub.status.idle": "2025-10-15T15:10:37.835676Z",
     "shell.execute_reply": "2025-10-15T15:10:37.834900Z"
    }
   },
   "outputs": [
    {
     "name": "stdout",
     "output_type": "stream",
     "text": [
      "\n",
      " iter  | residual   | progress   | massflow   | pressure   | enthalpy   | fluid      | component  \n",
      "-------+------------+------------+------------+------------+------------+------------+------------\n",
      " 1     | 7.85e-04   | 100 %      | 7.63e-01   | 0.00e+00   | 3.02e+05   | 0.00e+00   | 0.00e+00   \n",
      " 2     | 2.30e+05   | 7 %        | 8.43e-16   | 0.00e+00   | 4.26e+04   | 0.00e+00   | 0.00e+00   \n",
      " 3     | 1.88e-02   | 85 %       | 0.00e+00   | 0.00e+00   | 3.49e-03   | 0.00e+00   | 0.00e+00   \n",
      " 4     | 1.86e-09   | 100 %      | 0.00e+00   | 0.00e+00   | 3.45e-10   | 0.00e+00   | 0.00e+00   \n",
      " 5     | 1.86e-09   | 100 %      | 0.00e+00   | 0.00e+00   | 3.45e-10   | 0.00e+00   | 0.00e+00   \n",
      "Total iterations: 5, Calculation time: 0.01 s, Iterations per second: 988.62\n"
     ]
    }
   ],
   "source": [
    "c1.set_attr(v=20000)\n",
    "c2.set_attr(T=None)\n",
    "nw.solve(\"design\")"
   ]
  },
  {
   "cell_type": "code",
   "execution_count": 18,
   "id": "68b41dcd",
   "metadata": {
    "execution": {
     "iopub.execute_input": "2025-10-15T15:10:37.838622Z",
     "iopub.status.busy": "2025-10-15T15:10:37.838441Z",
     "iopub.status.idle": "2025-10-15T15:10:37.843005Z",
     "shell.execute_reply": "2025-10-15T15:10:37.842299Z"
    }
   },
   "outputs": [
    {
     "data": {
      "text/html": [
       "320.33232055574524 degree_Celsius"
      ],
      "text/latex": [
       "$320.33232055574524\\ \\mathrm{degree\\_Celsius}$"
      ],
      "text/plain": [
       "<Quantity(320.332321, 'degree_Celsius')>"
      ]
     },
     "execution_count": 18,
     "metadata": {},
     "output_type": "execute_result"
    }
   ],
   "source": [
    "c2.T.val_with_unit"
   ]
  },
  {
   "cell_type": "code",
   "execution_count": 19,
   "id": "d45e67b2",
   "metadata": {
    "execution": {
     "iopub.execute_input": "2025-10-15T15:10:37.845623Z",
     "iopub.status.busy": "2025-10-15T15:10:37.845464Z",
     "iopub.status.idle": "2025-10-15T15:10:38.175179Z",
     "shell.execute_reply": "2025-10-15T15:10:38.174303Z"
    }
   },
   "outputs": [
    {
     "name": "stderr",
     "output_type": "stream",
     "text": [
      "You have provided too many parameters: 1 required, 2 supplied. Aborting calculation!\n"
     ]
    },
    {
     "ename": "TESPyNetworkError",
     "evalue": "You have provided too many parameters: 1 required, 2 supplied. Aborting calculation!",
     "output_type": "error",
     "traceback": [
      "\u001b[31m---------------------------------------------------------------------------\u001b[39m",
      "\u001b[31mTESPyNetworkError\u001b[39m                         Traceback (most recent call last)",
      "\u001b[36mCell\u001b[39m\u001b[36m \u001b[39m\u001b[32mIn[19]\u001b[39m\u001b[32m, line 2\u001b[39m\n\u001b[32m      1\u001b[39m c2.set_attr(T=\u001b[32m320\u001b[39m)\n\u001b[32m----> \u001b[39m\u001b[32m2\u001b[39m \u001b[43mnw\u001b[49m\u001b[43m.\u001b[49m\u001b[43msolve\u001b[49m\u001b[43m(\u001b[49m\u001b[33;43m\"\u001b[39;49m\u001b[33;43mdesign\u001b[39;49m\u001b[33;43m\"\u001b[39;49m\u001b[43m)\u001b[49m\n",
      "\u001b[36mFile \u001b[39m\u001b[32m~/gitprojects/tespy/src/tespy/networks/network.py:2486\u001b[39m, in \u001b[36mNetwork.solve\u001b[39m\u001b[34m(self, mode, init_path, design_path, max_iter, min_iter, init_only, init_previous, use_cuda, print_results, robust_relax)\u001b[39m\n\u001b[32m   2483\u001b[39m msg = \u001b[33m'\u001b[39m\u001b[33mStarting solver.\u001b[39m\u001b[33m'\u001b[39m\n\u001b[32m   2484\u001b[39m logger.info(msg)\n\u001b[32m-> \u001b[39m\u001b[32m2486\u001b[39m \u001b[38;5;28;43mself\u001b[39;49m\u001b[43m.\u001b[49m\u001b[43msolve_determination\u001b[49m\u001b[43m(\u001b[49m\u001b[43m)\u001b[49m\n\u001b[32m   2488\u001b[39m \u001b[38;5;28;01mtry\u001b[39;00m:\n\u001b[32m   2489\u001b[39m     \u001b[38;5;28mself\u001b[39m.solve_loop(print_results=print_results)\n",
      "\u001b[36mFile \u001b[39m\u001b[32m~/gitprojects/tespy/src/tespy/networks/network.py:2603\u001b[39m, in \u001b[36mNetwork.solve_determination\u001b[39m\u001b[34m(self)\u001b[39m\n\u001b[32m   2601\u001b[39m     logger.error(msg)\n\u001b[32m   2602\u001b[39m     \u001b[38;5;28mself\u001b[39m.status = \u001b[32m12\u001b[39m\n\u001b[32m-> \u001b[39m\u001b[32m2603\u001b[39m     \u001b[38;5;28;01mraise\u001b[39;00m hlp.TESPyNetworkError(msg)\n\u001b[32m   2604\u001b[39m \u001b[38;5;28;01melif\u001b[39;00m n < \u001b[38;5;28mself\u001b[39m.variable_counter:\n\u001b[32m   2605\u001b[39m     msg = (\n\u001b[32m   2606\u001b[39m         \u001b[33mf\u001b[39m\u001b[33m\"\u001b[39m\u001b[33mYou have not provided enough parameters: \u001b[39m\u001b[38;5;132;01m{\u001b[39;00m\u001b[38;5;28mself\u001b[39m.variable_counter\u001b[38;5;132;01m}\u001b[39;00m\u001b[33m \u001b[39m\u001b[33m\"\u001b[39m\n\u001b[32m   2607\u001b[39m         \u001b[33mf\u001b[39m\u001b[33m\"\u001b[39m\u001b[33mrequired, \u001b[39m\u001b[38;5;132;01m{\u001b[39;00mn\u001b[38;5;132;01m}\u001b[39;00m\u001b[33m supplied. Aborting calculation!\u001b[39m\u001b[33m\"\u001b[39m\n\u001b[32m   2608\u001b[39m     )\n",
      "\u001b[31mTESPyNetworkError\u001b[39m: You have provided too many parameters: 1 required, 2 supplied. Aborting calculation!"
     ]
    }
   ],
   "source": [
    "c2.set_attr(T=320)\n",
    "nw.solve(\"design\")"
   ]
  },
  {
   "cell_type": "code",
   "execution_count": 20,
   "id": "9940f91b",
   "metadata": {
    "execution": {
     "iopub.execute_input": "2025-10-15T15:10:38.177670Z",
     "iopub.status.busy": "2025-10-15T15:10:38.177486Z",
     "iopub.status.idle": "2025-10-15T15:10:38.181820Z",
     "shell.execute_reply": "2025-10-15T15:10:38.181324Z"
    }
   },
   "outputs": [
    {
     "data": {
      "text/plain": [
       "{0: ('boiler', ('Q', 0)), 1: ('c1', ('v', 0))}"
      ]
     },
     "execution_count": 20,
     "metadata": {},
     "output_type": "execute_result"
    }
   ],
   "source": [
    "nw.get_equations()"
   ]
  },
  {
   "cell_type": "code",
   "execution_count": 21,
   "id": "ada65aad",
   "metadata": {
    "execution": {
     "iopub.execute_input": "2025-10-15T15:10:38.183886Z",
     "iopub.status.busy": "2025-10-15T15:10:38.183724Z",
     "iopub.status.idle": "2025-10-15T15:10:38.187513Z",
     "shell.execute_reply": "2025-10-15T15:10:38.186909Z"
    }
   },
   "outputs": [
    {
     "data": {
      "text/plain": [
       "{(0, 'm'): [('c1', 'm'), ('c2', 'm')]}"
      ]
     },
     "execution_count": 21,
     "metadata": {},
     "output_type": "execute_result"
    }
   ],
   "source": [
    "nw.get_variables()"
   ]
  },
  {
   "cell_type": "code",
   "execution_count": 22,
   "id": "e3a98f38",
   "metadata": {
    "execution": {
     "iopub.execute_input": "2025-10-15T15:10:38.189235Z",
     "iopub.status.busy": "2025-10-15T15:10:38.189084Z",
     "iopub.status.idle": "2025-10-15T15:10:38.192008Z",
     "shell.execute_reply": "2025-10-15T15:10:38.191382Z"
    }
   },
   "outputs": [],
   "source": [
    "c2.set_attr(T=None)"
   ]
  },
  {
   "cell_type": "code",
   "execution_count": 23,
   "id": "f96d93c4",
   "metadata": {
    "execution": {
     "iopub.execute_input": "2025-10-15T15:10:38.193862Z",
     "iopub.status.busy": "2025-10-15T15:10:38.193699Z",
     "iopub.status.idle": "2025-10-15T15:10:38.196574Z",
     "shell.execute_reply": "2025-10-15T15:10:38.195910Z"
    }
   },
   "outputs": [],
   "source": [
    "from tespy.connections import Ref"
   ]
  },
  {
   "cell_type": "code",
   "execution_count": 24,
   "id": "17f4c0ac",
   "metadata": {
    "execution": {
     "iopub.execute_input": "2025-10-15T15:10:38.198328Z",
     "iopub.status.busy": "2025-10-15T15:10:38.198175Z",
     "iopub.status.idle": "2025-10-15T15:10:38.208770Z",
     "shell.execute_reply": "2025-10-15T15:10:38.208224Z"
    }
   },
   "outputs": [
    {
     "name": "stderr",
     "output_type": "stream",
     "text": [
      "Found singularity in Jacobian matrix, calculation aborted! The setup of you problem seems to be solvable. It failed due to partial derivatives in the Jacobian being zero, which were expected not to be zero, or the other way around. The reason for this usually lies in starting value selection or bad convergence. The following equations (key of outer dict) may have an unexpected zero/non-zero in the partial derivative towards the variable (value of outer dict) and be the root of evil: {1: ('c2', ('T_ref', 0))}: {(0, 'h'): [('c2', 'h')]}The following equations of your problem do not depend on any variable: ('c2', ('T_ref', 0))\n",
      "\n"
     ]
    },
    {
     "name": "stdout",
     "output_type": "stream",
     "text": [
      "\n",
      " iter  | residual   | progress   | massflow   | pressure   | enthalpy   | fluid      | component  \n",
      "-------+------------+------------+------------+------------+------------+------------+------------\n",
      " 1     | 2.10e+02   | 40 %       | 8.31e-01   | 0.00e+00   | 4.28e+05   | 0.00e+00   | 0.00e+00   \n",
      " 2     | 3.56e+05   | 4 %        | NaN        | NaN        | NaN        | NaN        | NaN        \n",
      "Total iterations: 2, Calculation time: 0.00 s, Iterations per second: 767.41\n"
     ]
    }
   ],
   "source": [
    "c1.set_attr(v=None)\n",
    "c2.set_attr(T=Ref(c1, 1, 30))  # starting value for enthalpy necessary\n",
    "nw.solve(\"design\")"
   ]
  },
  {
   "cell_type": "code",
   "execution_count": 25,
   "id": "5fb579e4",
   "metadata": {
    "execution": {
     "iopub.execute_input": "2025-10-15T15:10:38.210915Z",
     "iopub.status.busy": "2025-10-15T15:10:38.210723Z",
     "iopub.status.idle": "2025-10-15T15:10:38.215216Z",
     "shell.execute_reply": "2025-10-15T15:10:38.214473Z"
    }
   },
   "outputs": [
    {
     "data": {
      "text/plain": [
       "{(0, 'h'): [('c2', 'h')], (1, 'm'): [('c1', 'm'), ('c2', 'm')]}"
      ]
     },
     "execution_count": 25,
     "metadata": {},
     "output_type": "execute_result"
    }
   ],
   "source": [
    "nw.get_variables()"
   ]
  },
  {
   "cell_type": "code",
   "execution_count": 26,
   "id": "ef1ac477",
   "metadata": {
    "execution": {
     "iopub.execute_input": "2025-10-15T15:10:38.217512Z",
     "iopub.status.busy": "2025-10-15T15:10:38.217316Z",
     "iopub.status.idle": "2025-10-15T15:10:38.221448Z",
     "shell.execute_reply": "2025-10-15T15:10:38.220953Z"
    }
   },
   "outputs": [
    {
     "data": {
      "text/plain": [
       "array([[6.23052660e+00, 2.35040626e+06],\n",
       "       [0.00000000e+00, 0.00000000e+00]])"
      ]
     },
     "execution_count": 26,
     "metadata": {},
     "output_type": "execute_result"
    }
   ],
   "source": [
    "nw.jacobian"
   ]
  },
  {
   "cell_type": "code",
   "execution_count": 27,
   "id": "305f0d12",
   "metadata": {
    "execution": {
     "iopub.execute_input": "2025-10-15T15:10:38.223458Z",
     "iopub.status.busy": "2025-10-15T15:10:38.223257Z",
     "iopub.status.idle": "2025-10-15T15:10:38.249641Z",
     "shell.execute_reply": "2025-10-15T15:10:38.249198Z"
    }
   },
   "outputs": [
    {
     "name": "stdout",
     "output_type": "stream",
     "text": [
      "\n",
      " iter  | residual   | progress   | massflow   | pressure   | enthalpy   | fluid      | component  \n",
      "-------+------------+------------+------------+------------+------------+------------+------------\n",
      " 1     | 1.68e+07   | 0 %        | 4.28e+01   | 0.00e+00   | 4.63e+05   | 0.00e+00   | 0.00e+00   \n",
      " 2     | 1.98e+07   | 0 %        | 1.53e+02   | 0.00e+00   | 2.72e+03   | 0.00e+00   | 0.00e+00   \n",
      " 3     | 4.15e+05   | 4 %        | 3.29e+00   | 0.00e+00   | 2.91e-01   | 0.00e+00   | 0.00e+00   \n",
      " 4     | 9.55e-01   | 66 %       | 7.56e-06   | 0.00e+00   | 2.28e-08   | 0.00e+00   | 0.00e+00   \n",
      " 5     | 1.82e-12   | 100 %      | 7.23e-12   | 0.00e+00   | 7.69e-09   | 0.00e+00   | 0.00e+00   \n",
      " 6     | 1.53e-12   | 100 %      | 6.10e-12   | 0.00e+00   | 6.49e-09   | 0.00e+00   | 0.00e+00   \n",
      "Total iterations: 6, Calculation time: 0.01 s, Iterations per second: 835.69\n"
     ]
    }
   ],
   "source": [
    "c2.set_attr(h0=1e3)  # starting value for enthalpy necessary\n",
    "nw.solve(\"design\")"
   ]
  },
  {
   "cell_type": "code",
   "execution_count": 28,
   "id": "befbf069",
   "metadata": {
    "execution": {
     "iopub.execute_input": "2025-10-15T15:10:38.252131Z",
     "iopub.status.busy": "2025-10-15T15:10:38.251954Z",
     "iopub.status.idle": "2025-10-15T15:10:38.261257Z",
     "shell.execute_reply": "2025-10-15T15:10:38.260821Z"
    }
   },
   "outputs": [
    {
     "name": "stdout",
     "output_type": "stream",
     "text": [
      "\n",
      "##### RESULTS (SimpleHeatExchanger) #####\n",
      "+--------+----------+----------+----------+----------+\n",
      "|        |        Q |       pr |       dp |     zeta |\n",
      "|--------+----------+----------+----------+----------|\n",
      "| boiler | \u001b[94m1.50e+04\u001b[0m | 9.90e-01 | \u001b[94m2.00e-02\u001b[0m | 1.68e+02 |\n",
      "+--------+----------+----------+----------+----------+\n",
      "##### RESULTS (Connection) #####\n",
      "+----+-----------+-----------+-----------+-----------+-----------+---------+\n",
      "|    |         m |         p |         h |         T |         x | phase   |\n",
      "|----+-----------+-----------+-----------+-----------+-----------+---------|\n",
      "| c1 | 1.187e+02 | \u001b[94m2.000e+00\u001b[0m | 3.351e+05 | \u001b[94m8.000e+01\u001b[0m | 0.000e+00 | l       |\n",
      "| c2 | 1.187e+02 | 1.980e+00 | 4.615e+05 | 1.100e+02 | 0.000e+00 | l       |\n",
      "+----+-----------+-----------+-----------+-----------+-----------+---------+\n"
     ]
    }
   ],
   "source": [
    "nw.print_results()"
   ]
  },
  {
   "cell_type": "code",
   "execution_count": null,
   "id": "31d5316d",
   "metadata": {},
   "outputs": [],
   "source": []
  }
 ],
 "metadata": {
  "kernelspec": {
   "display_name": "tespy-user-meeting-2025",
   "language": "python",
   "name": "python3"
  },
  "language_info": {
   "codemirror_mode": {
    "name": "ipython",
    "version": 3
   },
   "file_extension": ".py",
   "mimetype": "text/x-python",
   "name": "python",
   "nbconvert_exporter": "python",
   "pygments_lexer": "ipython3",
   "version": "3.13.6"
  }
 },
 "nbformat": 4,
 "nbformat_minor": 5
}
