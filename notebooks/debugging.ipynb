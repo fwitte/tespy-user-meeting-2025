{
 "cells": [
  {
   "cell_type": "markdown",
   "id": "23b5a3c2",
   "metadata": {},
   "source": [
    "# How to debug tespy models\n",
    "\n",
    "This notebooks gives some hints on how to use the internal debugging\n",
    "capabilities of tespy. The user interface of the current implementation might\n",
    "still need some refinement, and will change based on the feedback in this\n",
    "session. The outputs shown here are based on the following version:"
   ]
  },
  {
   "cell_type": "code",
   "execution_count": 1,
   "id": "383d7922",
   "metadata": {
    "execution": {
     "iopub.execute_input": "2025-10-08T10:12:42.306788Z",
     "iopub.status.busy": "2025-10-08T10:12:42.306547Z",
     "iopub.status.idle": "2025-10-08T10:12:43.769662Z",
     "shell.execute_reply": "2025-10-08T10:12:43.768810Z"
    }
   },
   "outputs": [],
   "source": [
    "from tespy import __version__"
   ]
  },
  {
   "cell_type": "code",
   "execution_count": 2,
   "id": "418ca77a",
   "metadata": {
    "execution": {
     "iopub.execute_input": "2025-10-08T10:12:43.772638Z",
     "iopub.status.busy": "2025-10-08T10:12:43.772297Z",
     "iopub.status.idle": "2025-10-08T10:12:43.779454Z",
     "shell.execute_reply": "2025-10-08T10:12:43.778900Z"
    }
   },
   "outputs": [
    {
     "data": {
      "text/plain": [
       "'0.9.8.dev0'"
      ]
     },
     "execution_count": 2,
     "metadata": {},
     "output_type": "execute_result"
    }
   ],
   "source": [
    "__version__"
   ]
  },
  {
   "cell_type": "markdown",
   "id": "3d7a262d",
   "metadata": {},
   "source": [
    "## Simple model debugging\n",
    "\n",
    "This section will show a couple of things\n",
    "\n",
    "1. How to extract the variables of the problem\n",
    "  - before presolving step\n",
    "  - after presolving step and identify the presolved variables\n",
    "2. How to extract the applied equations of the problem\n",
    "  - before presolving step\n",
    "  - after presolving step and identify the presolved equations\n",
    "3. How to read and fix the errors that are raised during presolving\n",
    "4. How to debug a model in case of linear dependency by inspecting the\n",
    "   error message, incidence matrix and Jacobian\n",
    "5. How to interpret/deal with a couple of warnings/errors that might pop up\n",
    "   during postprocessing\n",
    "\n",
    "### Model overview\n",
    "\n",
    "\n",
    "### Model code"
   ]
  },
  {
   "cell_type": "code",
   "execution_count": 3,
   "id": "3432e30e",
   "metadata": {
    "execution": {
     "iopub.execute_input": "2025-10-08T10:12:43.783093Z",
     "iopub.status.busy": "2025-10-08T10:12:43.782869Z",
     "iopub.status.idle": "2025-10-08T10:12:43.786950Z",
     "shell.execute_reply": "2025-10-08T10:12:43.786066Z"
    }
   },
   "outputs": [],
   "source": [
    "from tespy.components import CycleCloser, SimpleHeatExchanger, Compressor, Valve, Motor, PowerSource\n",
    "from tespy.connections import Connection, PowerConnection\n",
    "from tespy.networks import Network"
   ]
  },
  {
   "cell_type": "code",
   "execution_count": 4,
   "id": "48eaf8ab",
   "metadata": {
    "execution": {
     "iopub.execute_input": "2025-10-08T10:12:43.790100Z",
     "iopub.status.busy": "2025-10-08T10:12:43.789885Z",
     "iopub.status.idle": "2025-10-08T10:12:43.819514Z",
     "shell.execute_reply": "2025-10-08T10:12:43.818598Z"
    }
   },
   "outputs": [],
   "source": [
    "nw = Network()\n",
    "nw.units.set_defaults(\n",
    "    temperature=\"°C\",\n",
    "    pressure=\"bar\",\n",
    "    power=\"kW\",\n",
    "    heat=\"kW\",\n",
    "    enthalpy=\"kJ/kg\"\n",
    ")"
   ]
  },
  {
   "cell_type": "code",
   "execution_count": 5,
   "id": "0e187bfb",
   "metadata": {
    "execution": {
     "iopub.execute_input": "2025-10-08T10:12:43.822802Z",
     "iopub.status.busy": "2025-10-08T10:12:43.822520Z",
     "iopub.status.idle": "2025-10-08T10:12:43.847565Z",
     "shell.execute_reply": "2025-10-08T10:12:43.846741Z"
    }
   },
   "outputs": [],
   "source": [
    "grid = PowerSource(\"grid\")\n",
    "motor = Motor(\"motor\")\n",
    "\n",
    "cc = CycleCloser(\"cycle closer\")\n",
    "valve = Valve(\"valve\")\n",
    "compressor = Compressor(\"compressor\")\n",
    "evaporator = SimpleHeatExchanger(\"evaporator\")\n",
    "condenser = SimpleHeatExchanger(\"condenser\")\n",
    "\n",
    "c1 = Connection(cc, \"out1\", compressor, \"in1\", label=\"c1\")\n",
    "c2 = Connection(compressor, \"out1\", condenser, \"in1\", label=\"c2\")\n",
    "c3 = Connection(condenser, \"out1\", valve, \"in1\", label=\"c3\")\n",
    "c4 = Connection(valve, \"out1\", evaporator, \"in1\", label=\"c4\")\n",
    "c5 = Connection(evaporator, \"out1\", cc, \"in1\", label=\"c5\")\n",
    "\n",
    "\n",
    "nw.add_conns(c1, c2, c3, c4, c5)\n",
    "\n",
    "e1 = PowerConnection(grid, \"power\", motor, \"power_in\", label=\"e1\")\n",
    "e2 = PowerConnection(motor, \"power_out\", compressor, \"power\", label=\"e2\")\n",
    "\n",
    "nw.add_conns(e1, e2)"
   ]
  },
  {
   "cell_type": "markdown",
   "id": "3e470d54",
   "metadata": {},
   "source": [
    "### Debug the model\n",
    "\n",
    "#### Variable and equation identification\n",
    "\n",
    "1. Nothing specified: System has not fluid information, cannot run preproecssing"
   ]
  },
  {
   "cell_type": "code",
   "execution_count": 6,
   "id": "2ecbbeaf",
   "metadata": {
    "execution": {
     "iopub.execute_input": "2025-10-08T10:12:43.850300Z",
     "iopub.status.busy": "2025-10-08T10:12:43.850058Z",
     "iopub.status.idle": "2025-10-08T10:12:44.167557Z",
     "shell.execute_reply": "2025-10-08T10:12:44.167039Z"
    }
   },
   "outputs": [
    {
     "ename": "TESPyNetworkError",
     "evalue": "The follwing connections of your network are missing any kind of fluid composition information:c1, c2, c3, c4, c5.",
     "output_type": "error",
     "traceback": [
      "\u001b[31m---------------------------------------------------------------------------\u001b[39m",
      "\u001b[31mTESPyNetworkError\u001b[39m                         Traceback (most recent call last)",
      "\u001b[36mCell\u001b[39m\u001b[36m \u001b[39m\u001b[32mIn[6]\u001b[39m\u001b[32m, line 1\u001b[39m\n\u001b[32m----> \u001b[39m\u001b[32m1\u001b[39m \u001b[43mnw\u001b[49m\u001b[43m.\u001b[49m\u001b[43msolve\u001b[49m\u001b[43m(\u001b[49m\u001b[33;43m\"\u001b[39;49m\u001b[33;43mdesign\u001b[39;49m\u001b[33;43m\"\u001b[39;49m\u001b[43m,\u001b[49m\u001b[43m \u001b[49m\u001b[43minit_only\u001b[49m\u001b[43m=\u001b[49m\u001b[38;5;28;43;01mTrue\u001b[39;49;00m\u001b[43m)\u001b[49m\n",
      "\u001b[36mFile \u001b[39m\u001b[32m~/gitprojects/tespy/src/tespy/networks/network.py:2478\u001b[39m, in \u001b[36mNetwork.solve\u001b[39m\u001b[34m(self, mode, init_path, design_path, max_iter, min_iter, init_only, init_previous, use_cuda, print_results, robust_relax)\u001b[39m\n\u001b[32m   2470\u001b[39m msg = (\n\u001b[32m   2471\u001b[39m     \u001b[33m\"\u001b[39m\u001b[33mNetwork information:\u001b[39m\u001b[38;5;130;01m\\n\u001b[39;00m\u001b[33m\"\u001b[39m\n\u001b[32m   2472\u001b[39m     \u001b[33mf\u001b[39m\u001b[33m\"\u001b[39m\u001b[33m - Number of components: \u001b[39m\u001b[38;5;132;01m{\u001b[39;00m\u001b[38;5;28mlen\u001b[39m(\u001b[38;5;28mself\u001b[39m.comps)\u001b[38;5;132;01m}\u001b[39;00m\u001b[38;5;130;01m\\n\u001b[39;00m\u001b[33m\"\u001b[39m\n\u001b[32m   2473\u001b[39m     \u001b[33mf\u001b[39m\u001b[33m\"\u001b[39m\u001b[33m - Number of connections: \u001b[39m\u001b[38;5;132;01m{\u001b[39;00m\u001b[38;5;28mlen\u001b[39m(\u001b[38;5;28mself\u001b[39m.conns)\u001b[38;5;132;01m}\u001b[39;00m\u001b[38;5;130;01m\\n\u001b[39;00m\u001b[33m\"\u001b[39m\n\u001b[32m   2474\u001b[39m     \u001b[33mf\u001b[39m\u001b[33m\"\u001b[39m\u001b[33m - Number of busses: \u001b[39m\u001b[38;5;132;01m{\u001b[39;00m\u001b[38;5;28mlen\u001b[39m(\u001b[38;5;28mself\u001b[39m.busses)\u001b[38;5;132;01m}\u001b[39;00m\u001b[33m\"\u001b[39m\n\u001b[32m   2475\u001b[39m )\n\u001b[32m   2476\u001b[39m logger.debug(msg)\n\u001b[32m-> \u001b[39m\u001b[32m2478\u001b[39m \u001b[38;5;28;43mself\u001b[39;49m\u001b[43m.\u001b[49m\u001b[43m_prepare_problem\u001b[49m\u001b[43m(\u001b[49m\u001b[43m)\u001b[49m\n\u001b[32m   2480\u001b[39m \u001b[38;5;28;01mif\u001b[39;00m init_only:\n\u001b[32m   2481\u001b[39m     \u001b[38;5;28;01mreturn\u001b[39;00m\n",
      "\u001b[36mFile \u001b[39m\u001b[32m~/gitprojects/tespy/src/tespy/networks/network.py:891\u001b[39m, in \u001b[36mNetwork._prepare_problem\u001b[39m\u001b[34m(self)\u001b[39m\n\u001b[32m    888\u001b[39m         \u001b[38;5;28mself\u001b[39m._create_fluid_wrapper_branches()\n\u001b[32m    889\u001b[39m     \u001b[38;5;28;01mcontinue\u001b[39;00m\n\u001b[32m--> \u001b[39m\u001b[32m891\u001b[39m \u001b[38;5;28;43mself\u001b[39;49m\u001b[43m.\u001b[49m\u001b[43m_propagate_fluid_wrappers\u001b[49m\u001b[43m(\u001b[49m\u001b[43m)\u001b[49m\n\u001b[32m    892\u001b[39m \u001b[38;5;28mself\u001b[39m._init_connection_result_datastructure()\n\u001b[32m    893\u001b[39m \u001b[38;5;28mself\u001b[39m._prepare_solve_mode()\n",
      "\u001b[36mFile \u001b[39m\u001b[32m~/gitprojects/tespy/src/tespy/networks/network.py:962\u001b[39m, in \u001b[36mNetwork._propagate_fluid_wrappers\u001b[39m\u001b[34m(self)\u001b[39m\n\u001b[32m    956\u001b[39m \u001b[38;5;28;01mif\u001b[39;00m num_potential_fluids == \u001b[32m0\u001b[39m:\n\u001b[32m    957\u001b[39m     msg = (\n\u001b[32m    958\u001b[39m         \u001b[33m\"\u001b[39m\u001b[33mThe follwing connections of your network are missing any \u001b[39m\u001b[33m\"\u001b[39m\n\u001b[32m    959\u001b[39m         \u001b[33m\"\u001b[39m\u001b[33mkind of fluid composition information:\u001b[39m\u001b[33m\"\u001b[39m\n\u001b[32m    960\u001b[39m         \u001b[33mf\u001b[39m\u001b[33m\"\u001b[39m\u001b[38;5;132;01m{\u001b[39;00m\u001b[33m'\u001b[39m\u001b[33m, \u001b[39m\u001b[33m'\u001b[39m.join([c.label\u001b[38;5;250m \u001b[39m\u001b[38;5;28;01mfor\u001b[39;00m\u001b[38;5;250m \u001b[39mc\u001b[38;5;250m \u001b[39m\u001b[38;5;129;01min\u001b[39;00m\u001b[38;5;250m \u001b[39mall_connections])\u001b[38;5;132;01m}\u001b[39;00m\u001b[33m.\u001b[39m\u001b[33m\"\u001b[39m\n\u001b[32m    961\u001b[39m     )\n\u001b[32m--> \u001b[39m\u001b[32m962\u001b[39m     \u001b[38;5;28;01mraise\u001b[39;00m hlp.TESPyNetworkError(msg)\n\u001b[32m    964\u001b[39m \u001b[38;5;28;01mfor\u001b[39;00m c \u001b[38;5;129;01min\u001b[39;00m all_connections:\n\u001b[32m    965\u001b[39m     c.mixing_rule = mixing_rule\n",
      "\u001b[31mTESPyNetworkError\u001b[39m: The follwing connections of your network are missing any kind of fluid composition information:c1, c2, c3, c4, c5."
     ]
    }
   ],
   "source": [
    "nw.solve(\"design\", init_only=True)"
   ]
  },
  {
   "cell_type": "markdown",
   "id": "1689ff92",
   "metadata": {},
   "source": [
    "2. Fluids specified -> preprocessing runs successfully, but model is obviously\n",
    "   not working. But we can already extract some information"
   ]
  },
  {
   "cell_type": "code",
   "execution_count": 7,
   "id": "5eb03fb8",
   "metadata": {
    "execution": {
     "iopub.execute_input": "2025-10-08T10:12:44.169183Z",
     "iopub.status.busy": "2025-10-08T10:12:44.169100Z",
     "iopub.status.idle": "2025-10-08T10:12:44.219462Z",
     "shell.execute_reply": "2025-10-08T10:12:44.217551Z"
    }
   },
   "outputs": [
    {
     "name": "stderr",
     "output_type": "stream",
     "text": [
      "You have not provided enough parameters: 10 required, 1 supplied. Aborting calculation!\n"
     ]
    },
    {
     "ename": "TESPyNetworkError",
     "evalue": "You have not provided enough parameters: 10 required, 1 supplied. Aborting calculation!",
     "output_type": "error",
     "traceback": [
      "\u001b[31m---------------------------------------------------------------------------\u001b[39m",
      "\u001b[31mTESPyNetworkError\u001b[39m                         Traceback (most recent call last)",
      "\u001b[36mCell\u001b[39m\u001b[36m \u001b[39m\u001b[32mIn[7]\u001b[39m\u001b[32m, line 4\u001b[39m\n\u001b[32m      2\u001b[39m nw.solve(\u001b[33m\"\u001b[39m\u001b[33mdesign\u001b[39m\u001b[33m\"\u001b[39m, init_only=\u001b[38;5;28;01mTrue\u001b[39;00m)\n\u001b[32m      3\u001b[39m \u001b[38;5;66;03m# this would be executed as next step for actual solve call\u001b[39;00m\n\u001b[32m----> \u001b[39m\u001b[32m4\u001b[39m \u001b[43mnw\u001b[49m\u001b[43m.\u001b[49m\u001b[43msolve_determination\u001b[49m\u001b[43m(\u001b[49m\u001b[43m)\u001b[49m\n",
      "\u001b[36mFile \u001b[39m\u001b[32m~/gitprojects/tespy/src/tespy/networks/network.py:2611\u001b[39m, in \u001b[36mNetwork.solve_determination\u001b[39m\u001b[34m(self)\u001b[39m\n\u001b[32m   2609\u001b[39m logger.error(msg)\n\u001b[32m   2610\u001b[39m \u001b[38;5;28mself\u001b[39m.status = \u001b[32m11\u001b[39m\n\u001b[32m-> \u001b[39m\u001b[32m2611\u001b[39m \u001b[38;5;28;01mraise\u001b[39;00m hlp.TESPyNetworkError(msg)\n",
      "\u001b[31mTESPyNetworkError\u001b[39m: You have not provided enough parameters: 10 required, 1 supplied. Aborting calculation!"
     ]
    }
   ],
   "source": [
    "c1.set_attr(fluid={\"R290\": 1})\n",
    "nw.solve(\"design\", init_only=True)\n",
    "# this would be executed as next step for actual solve call\n",
    "nw.solve_determination()"
   ]
  },
  {
   "cell_type": "markdown",
   "id": "bf318544",
   "metadata": {},
   "source": [
    "We can check:\n",
    "\n",
    "- original variables of the problem\n",
    "- presolved variables\n",
    "- actual variables of the problem (representing which original variables)"
   ]
  },
  {
   "cell_type": "code",
   "execution_count": 8,
   "id": "0642a28a",
   "metadata": {
    "execution": {
     "iopub.execute_input": "2025-10-08T10:12:44.222194Z",
     "iopub.status.busy": "2025-10-08T10:12:44.221987Z",
     "iopub.status.idle": "2025-10-08T10:12:44.226890Z",
     "shell.execute_reply": "2025-10-08T10:12:44.226362Z"
    }
   },
   "outputs": [
    {
     "data": {
      "text/plain": [
       "[('c1', 'm'),\n",
       " ('c1', 'p'),\n",
       " ('c1', 'h'),\n",
       " ('c1', 'fluid'),\n",
       " ('c2', 'm'),\n",
       " ('c2', 'p'),\n",
       " ('c2', 'h'),\n",
       " ('c2', 'fluid'),\n",
       " ('c3', 'm'),\n",
       " ('c3', 'p'),\n",
       " ('c3', 'h'),\n",
       " ('c3', 'fluid'),\n",
       " ('c4', 'm'),\n",
       " ('c4', 'p'),\n",
       " ('c4', 'h'),\n",
       " ('c4', 'fluid'),\n",
       " ('c5', 'm'),\n",
       " ('c5', 'p'),\n",
       " ('c5', 'h'),\n",
       " ('c5', 'fluid'),\n",
       " ('e1', 'E'),\n",
       " ('e2', 'E')]"
      ]
     },
     "execution_count": 8,
     "metadata": {},
     "output_type": "execute_result"
    }
   ],
   "source": [
    "nw.get_variables_before_presolve()"
   ]
  },
  {
   "cell_type": "markdown",
   "id": "db416854",
   "metadata": {},
   "source": [
    "Presolved variables: fluid composition only in this case"
   ]
  },
  {
   "cell_type": "code",
   "execution_count": 9,
   "id": "9166d12e",
   "metadata": {
    "execution": {
     "iopub.execute_input": "2025-10-08T10:12:44.228993Z",
     "iopub.status.busy": "2025-10-08T10:12:44.228751Z",
     "iopub.status.idle": "2025-10-08T10:12:44.234342Z",
     "shell.execute_reply": "2025-10-08T10:12:44.233859Z"
    }
   },
   "outputs": [
    {
     "data": {
      "text/plain": [
       "[('c1', 'fluid'),\n",
       " ('c2', 'fluid'),\n",
       " ('c3', 'fluid'),\n",
       " ('c4', 'fluid'),\n",
       " ('c5', 'fluid')]"
      ]
     },
     "execution_count": 9,
     "metadata": {},
     "output_type": "execute_result"
    }
   ],
   "source": [
    "nw.get_presolved_variables()"
   ]
  },
  {
   "cell_type": "markdown",
   "id": "6be9bbe2",
   "metadata": {},
   "source": [
    "Actual variables of the problem as a dictionary\n",
    "\n",
    "- keys: tuple with variable number as first element, variable type as second element\n",
    "- values: list of variables this variable represents. The list again contains tuples with\n",
    "  - the label of the component/connection from which the variable originated\n",
    "  - the type of variable as second element"
   ]
  },
  {
   "cell_type": "code",
   "execution_count": 10,
   "id": "95ff482c",
   "metadata": {
    "execution": {
     "iopub.execute_input": "2025-10-08T10:12:44.236990Z",
     "iopub.status.busy": "2025-10-08T10:12:44.236806Z",
     "iopub.status.idle": "2025-10-08T10:12:44.242283Z",
     "shell.execute_reply": "2025-10-08T10:12:44.241785Z"
    }
   },
   "outputs": [
    {
     "data": {
      "text/plain": [
       "{(0, 'p'): [('c2', 'p')],\n",
       " (1, 'h'): [('c2', 'h')],\n",
       " (2, 'p'): [('c3', 'p')],\n",
       " (3, 'p'): [('c4', 'p')],\n",
       " (4, 'E'): [('e1', 'E')],\n",
       " (5, 'E'): [('e2', 'E')],\n",
       " (6, 'm'): [('c1', 'm'), ('c2', 'm'), ('c3', 'm'), ('c4', 'm'), ('c5', 'm')],\n",
       " (7, 'p'): [('c1', 'p'), ('c5', 'p')],\n",
       " (8, 'h'): [('c1', 'h'), ('c5', 'h')],\n",
       " (9, 'h'): [('c3', 'h'), ('c4', 'h')]}"
      ]
     },
     "execution_count": 10,
     "metadata": {},
     "output_type": "execute_result"
    }
   ],
   "source": [
    "nw.get_variables()"
   ]
  },
  {
   "cell_type": "markdown",
   "id": "60c0aafc",
   "metadata": {},
   "source": [
    "There is already a variable mapping: some variables represent more than a\n",
    "single variable. We can find which equations of the model are responsible for\n",
    "that"
   ]
  },
  {
   "cell_type": "code",
   "execution_count": 11,
   "id": "8d553ccb",
   "metadata": {
    "execution": {
     "iopub.execute_input": "2025-10-08T10:12:44.245213Z",
     "iopub.status.busy": "2025-10-08T10:12:44.245010Z",
     "iopub.status.idle": "2025-10-08T10:12:44.249812Z",
     "shell.execute_reply": "2025-10-08T10:12:44.249117Z"
    }
   },
   "outputs": [
    {
     "data": {
      "text/plain": [
       "[('compressor', 'mass_flow_constraints'),\n",
       " ('compressor', 'fluid_constraints'),\n",
       " ('condenser', 'mass_flow_constraints'),\n",
       " ('condenser', 'fluid_constraints'),\n",
       " ('cycle closer', 'pressure_equality_constraint'),\n",
       " ('cycle closer', 'enthalpy_equality_constraint'),\n",
       " ('evaporator', 'mass_flow_constraints'),\n",
       " ('evaporator', 'fluid_constraints'),\n",
       " ('valve', 'mass_flow_constraints'),\n",
       " ('valve', 'fluid_constraints'),\n",
       " ('valve', 'enthalpy_constraints')]"
      ]
     },
     "execution_count": 11,
     "metadata": {},
     "output_type": "execute_result"
    }
   ],
   "source": [
    "nw.get_presolved_equations()"
   ]
  },
  {
   "cell_type": "markdown",
   "id": "87b9b64d",
   "metadata": {},
   "source": [
    "Easy way to identify which variable was presolved by which equation?\n",
    "Not yet..."
   ]
  },
  {
   "cell_type": "code",
   "execution_count": null,
   "id": "c5f55010",
   "metadata": {},
   "outputs": [],
   "source": []
  },
  {
   "cell_type": "markdown",
   "id": "c7449982",
   "metadata": {},
   "source": [
    "We can extract the actual equations of our model"
   ]
  },
  {
   "cell_type": "code",
   "execution_count": 12,
   "id": "2e3a3b1c",
   "metadata": {
    "execution": {
     "iopub.execute_input": "2025-10-08T10:12:44.252621Z",
     "iopub.status.busy": "2025-10-08T10:12:44.252417Z",
     "iopub.status.idle": "2025-10-08T10:12:44.256500Z",
     "shell.execute_reply": "2025-10-08T10:12:44.255824Z"
    }
   },
   "outputs": [
    {
     "data": {
      "text/plain": [
       "{0: ('compressor', ('energy_connector_balance', 0))}"
      ]
     },
     "execution_count": 12,
     "metadata": {},
     "output_type": "execute_result"
    }
   ],
   "source": [
    "nw.get_equations()"
   ]
  },
  {
   "cell_type": "markdown",
   "id": "1502bd64",
   "metadata": {},
   "source": [
    "We can also extract the equations of the model with the variables they\n",
    "depend on"
   ]
  },
  {
   "cell_type": "code",
   "execution_count": 13,
   "id": "89300629",
   "metadata": {
    "execution": {
     "iopub.execute_input": "2025-10-08T10:12:44.258893Z",
     "iopub.status.busy": "2025-10-08T10:12:44.258690Z",
     "iopub.status.idle": "2025-10-08T10:12:44.263055Z",
     "shell.execute_reply": "2025-10-08T10:12:44.262501Z"
    }
   },
   "outputs": [
    {
     "data": {
      "text/plain": [
       "{('compressor', ('energy_connector_balance', 0)): [(1, 'h'),\n",
       "  (5, 'E'),\n",
       "  (6, 'm'),\n",
       "  (8, 'h')]}"
      ]
     },
     "execution_count": 13,
     "metadata": {},
     "output_type": "execute_result"
    }
   ],
   "source": [
    "nw.get_equations_with_dependents()"
   ]
  },
  {
   "cell_type": "markdown",
   "id": "9dc219c1",
   "metadata": {},
   "source": [
    "3. Specify some parameters and check how the presolved variables change"
   ]
  },
  {
   "cell_type": "code",
   "execution_count": 14,
   "id": "5e64fded",
   "metadata": {
    "execution": {
     "iopub.execute_input": "2025-10-08T10:12:44.265606Z",
     "iopub.status.busy": "2025-10-08T10:12:44.265364Z",
     "iopub.status.idle": "2025-10-08T10:12:44.276603Z",
     "shell.execute_reply": "2025-10-08T10:12:44.275724Z"
    }
   },
   "outputs": [],
   "source": [
    "condenser.set_attr(dp=0)\n",
    "evaporator.set_attr(dp=0)\n",
    "compressor.set_attr(eta_s=0.8)\n",
    "motor.set_attr(eta=0.97)\n",
    "nw.solve(\"design\", init_only=True)"
   ]
  },
  {
   "cell_type": "code",
   "execution_count": 15,
   "id": "933a2974",
   "metadata": {
    "execution": {
     "iopub.execute_input": "2025-10-08T10:12:44.279215Z",
     "iopub.status.busy": "2025-10-08T10:12:44.279010Z",
     "iopub.status.idle": "2025-10-08T10:12:44.284967Z",
     "shell.execute_reply": "2025-10-08T10:12:44.284142Z"
    }
   },
   "outputs": [
    {
     "data": {
      "text/plain": [
       "[('c1', 'fluid'),\n",
       " ('c2', 'fluid'),\n",
       " ('c3', 'fluid'),\n",
       " ('c4', 'fluid'),\n",
       " ('c5', 'fluid')]"
      ]
     },
     "execution_count": 15,
     "metadata": {},
     "output_type": "execute_result"
    }
   ],
   "source": [
    "# number of presolved variables does not change\n",
    "nw.get_presolved_variables()"
   ]
  },
  {
   "cell_type": "code",
   "execution_count": 16,
   "id": "cb404695",
   "metadata": {
    "execution": {
     "iopub.execute_input": "2025-10-08T10:12:44.288299Z",
     "iopub.status.busy": "2025-10-08T10:12:44.287927Z",
     "iopub.status.idle": "2025-10-08T10:12:44.294786Z",
     "shell.execute_reply": "2025-10-08T10:12:44.293512Z"
    }
   },
   "outputs": [
    {
     "data": {
      "text/plain": [
       "[('compressor', 'mass_flow_constraints'),\n",
       " ('compressor', 'fluid_constraints'),\n",
       " ('condenser', 'mass_flow_constraints'),\n",
       " ('condenser', 'fluid_constraints'),\n",
       " ('condenser', 'dp'),\n",
       " ('cycle closer', 'pressure_equality_constraint'),\n",
       " ('cycle closer', 'enthalpy_equality_constraint'),\n",
       " ('evaporator', 'mass_flow_constraints'),\n",
       " ('evaporator', 'fluid_constraints'),\n",
       " ('evaporator', 'dp'),\n",
       " ('motor', 'eta'),\n",
       " ('valve', 'mass_flow_constraints'),\n",
       " ('valve', 'fluid_constraints'),\n",
       " ('valve', 'enthalpy_constraints')]"
      ]
     },
     "execution_count": 16,
     "metadata": {},
     "output_type": "execute_result"
    }
   ],
   "source": [
    "# number of presolved equations increases (condenser and evaporator delta p, motor eta)\n",
    "# compressor eta_s cannot be presolved: only linear dependencies between sets of two variables\n",
    "nw.get_presolved_equations()"
   ]
  },
  {
   "cell_type": "code",
   "execution_count": 17,
   "id": "28964374",
   "metadata": {
    "execution": {
     "iopub.execute_input": "2025-10-08T10:12:44.299723Z",
     "iopub.status.busy": "2025-10-08T10:12:44.299285Z",
     "iopub.status.idle": "2025-10-08T10:12:44.307117Z",
     "shell.execute_reply": "2025-10-08T10:12:44.306079Z"
    }
   },
   "outputs": [
    {
     "data": {
      "text/plain": [
       "{(0, 'h'): [('c2', 'h')],\n",
       " (1, 'm'): [('c1', 'm'), ('c2', 'm'), ('c3', 'm'), ('c4', 'm'), ('c5', 'm')],\n",
       " (2, 'p'): [('c2', 'p'), ('c3', 'p')],\n",
       " (3, 'p'): [('c1', 'p'), ('c5', 'p'), ('c4', 'p')],\n",
       " (4, 'h'): [('c1', 'h'), ('c5', 'h')],\n",
       " (5, 'E'): [('e1', 'E'), ('e2', 'E')],\n",
       " (6, 'h'): [('c3', 'h'), ('c4', 'h')]}"
      ]
     },
     "execution_count": 17,
     "metadata": {},
     "output_type": "execute_result"
    }
   ],
   "source": [
    "# number of actual variables reduced by two, because pressures around\n",
    "# heat exchangers are now respectively represented by a single variable\n",
    "nw.get_variables()"
   ]
  },
  {
   "cell_type": "code",
   "execution_count": 18,
   "id": "2959c07e",
   "metadata": {
    "execution": {
     "iopub.execute_input": "2025-10-08T10:12:44.310525Z",
     "iopub.status.busy": "2025-10-08T10:12:44.310171Z",
     "iopub.status.idle": "2025-10-08T10:12:44.317210Z",
     "shell.execute_reply": "2025-10-08T10:12:44.315682Z"
    }
   },
   "outputs": [
    {
     "data": {
      "text/plain": [
       "{('compressor', ('energy_connector_balance', 0)): [(0, 'h'),\n",
       "  (1, 'm'),\n",
       "  (4, 'h'),\n",
       "  (5, 'E')],\n",
       " ('compressor', ('eta_s', 0)): [(0, 'h'), (2, 'p'), (3, 'p'), (4, 'h')]}"
      ]
     },
     "execution_count": 18,
     "metadata": {},
     "output_type": "execute_result"
    }
   ],
   "source": [
    "# there is now one additional equation: the isentropic efficiency\n",
    "nw.get_equations_with_dependents()"
   ]
  },
  {
   "cell_type": "code",
   "execution_count": 19,
   "id": "702ad1ad",
   "metadata": {
    "execution": {
     "iopub.execute_input": "2025-10-08T10:12:44.320287Z",
     "iopub.status.busy": "2025-10-08T10:12:44.319947Z",
     "iopub.status.idle": "2025-10-08T10:12:44.325433Z",
     "shell.execute_reply": "2025-10-08T10:12:44.323968Z"
    }
   },
   "outputs": [],
   "source": [
    "c1.set_attr(T_dew=10, td_dew=10)  # 10 °C evaporating temperature, 10 K superheating"
   ]
  },
  {
   "cell_type": "code",
   "execution_count": 20,
   "id": "e33b1a90",
   "metadata": {
    "execution": {
     "iopub.execute_input": "2025-10-08T10:12:44.328794Z",
     "iopub.status.busy": "2025-10-08T10:12:44.328494Z",
     "iopub.status.idle": "2025-10-08T10:12:44.344304Z",
     "shell.execute_reply": "2025-10-08T10:12:44.343204Z"
    }
   },
   "outputs": [],
   "source": [
    "nw.solve(\"design\", init_only=True)"
   ]
  },
  {
   "cell_type": "code",
   "execution_count": 21,
   "id": "8b0c8b6d",
   "metadata": {
    "execution": {
     "iopub.execute_input": "2025-10-08T10:12:44.347520Z",
     "iopub.status.busy": "2025-10-08T10:12:44.347205Z",
     "iopub.status.idle": "2025-10-08T10:12:44.354194Z",
     "shell.execute_reply": "2025-10-08T10:12:44.353035Z"
    }
   },
   "outputs": [
    {
     "data": {
      "text/plain": [
       "{(0, 'h'): [('c2', 'h')],\n",
       " (1, 'm'): [('c1', 'm'), ('c2', 'm'), ('c3', 'm'), ('c4', 'm'), ('c5', 'm')],\n",
       " (2, 'p'): [('c2', 'p'), ('c3', 'p')],\n",
       " (3, 'E'): [('e1', 'E'), ('e2', 'E')],\n",
       " (4, 'h'): [('c3', 'h'), ('c4', 'h')]}"
      ]
     },
     "execution_count": 21,
     "metadata": {},
     "output_type": "execute_result"
    }
   ],
   "source": [
    "# number of actual variables reduced by two, because pressure and enthalpy\n",
    "# can be precalculated based on c1 specifications\n",
    "nw.get_variables()"
   ]
  },
  {
   "cell_type": "code",
   "execution_count": 22,
   "id": "ad3ea89a",
   "metadata": {
    "execution": {
     "iopub.execute_input": "2025-10-08T10:12:44.357891Z",
     "iopub.status.busy": "2025-10-08T10:12:44.357449Z",
     "iopub.status.idle": "2025-10-08T10:12:44.364386Z",
     "shell.execute_reply": "2025-10-08T10:12:44.363313Z"
    }
   },
   "outputs": [
    {
     "data": {
      "text/plain": [
       "{('compressor', ('energy_connector_balance', 0)): [(0, 'h'),\n",
       "  (1, 'm'),\n",
       "  (3, 'E')],\n",
       " ('compressor', ('eta_s', 0)): [(0, 'h'), (2, 'p')]}"
      ]
     },
     "execution_count": 22,
     "metadata": {},
     "output_type": "execute_result"
    }
   ],
   "source": [
    "# The dependents did change, because now compressor inlet state is known\n",
    "nw.get_equations_with_dependents()"
   ]
  },
  {
   "cell_type": "markdown",
   "id": "b5325d4b",
   "metadata": {},
   "source": [
    "Still missing 3 equations as we have 5 variables in the problem and only 2\n",
    "equations"
   ]
  },
  {
   "cell_type": "code",
   "execution_count": 23,
   "id": "c7ac404e",
   "metadata": {
    "execution": {
     "iopub.execute_input": "2025-10-08T10:12:44.368565Z",
     "iopub.status.busy": "2025-10-08T10:12:44.368206Z",
     "iopub.status.idle": "2025-10-08T10:12:44.373538Z",
     "shell.execute_reply": "2025-10-08T10:12:44.372249Z"
    }
   },
   "outputs": [],
   "source": [
    "c3.set_attr(T_bubble=60, td_bubble=0)\n",
    "e1.set_attr(E=100)  # 100 kW"
   ]
  },
  {
   "cell_type": "code",
   "execution_count": 24,
   "id": "5374e33b",
   "metadata": {
    "execution": {
     "iopub.execute_input": "2025-10-08T10:12:44.376991Z",
     "iopub.status.busy": "2025-10-08T10:12:44.376595Z",
     "iopub.status.idle": "2025-10-08T10:12:44.466887Z",
     "shell.execute_reply": "2025-10-08T10:12:44.465464Z"
    }
   },
   "outputs": [
    {
     "name": "stdout",
     "output_type": "stream",
     "text": [
      "\n",
      " iter  | residual   | progress   | massflow   | pressure   | enthalpy   | fluid      | component  \n",
      "-------+------------+------------+------------+------------+------------+------------+------------\n",
      " 1     | 1.91e+05   | 7 %        | 1.94e-02   | 0.00e+00   | 1.25e+05   | 0.00e+00   | 0.00e+00   \n",
      " 2     | 2.42e+03   | 29 %       | 3.27e-02   | 0.00e+00   | 1.82e-10   | 0.00e+00   | 0.00e+00   \n",
      " 3     | 9.33e-10   | 100 %      | 1.37e-14   | 0.00e+00   | 6.37e-11   | 0.00e+00   | 0.00e+00   \n",
      " 4     | 1.01e-10   | 100 %      | 5.05e-17   | 0.00e+00   | 6.37e-11   | 0.00e+00   | 0.00e+00   \n",
      "Total iterations: 4, Calculation time: 0.01 s, Iterations per second: 643.99\n"
     ]
    }
   ],
   "source": [
    "nw.solve(\"design\")"
   ]
  },
  {
   "cell_type": "markdown",
   "id": "0c7fa7f8",
   "metadata": {},
   "source": [
    "#### Errors during presolving\n",
    "\n",
    "- specify a linear change of specific variable while specifying both values\n",
    "  simultaneously\n",
    "- error message directly tells you which variables are linear dependent and\n",
    "  that you specified more than a single value in that set (points to the labels\n",
    "  of the connections/components)"
   ]
  },
  {
   "cell_type": "code",
   "execution_count": 25,
   "id": "988578f8",
   "metadata": {
    "execution": {
     "iopub.execute_input": "2025-10-08T10:12:44.470125Z",
     "iopub.status.busy": "2025-10-08T10:12:44.469729Z",
     "iopub.status.idle": "2025-10-08T10:12:44.602523Z",
     "shell.execute_reply": "2025-10-08T10:12:44.601803Z"
    }
   },
   "outputs": [
    {
     "ename": "TESPyNetworkError",
     "evalue": "You specified more than one variable of the linear dependent variables: (e1: E), (e2: E).",
     "output_type": "error",
     "traceback": [
      "\u001b[31m---------------------------------------------------------------------------\u001b[39m",
      "\u001b[31mTESPyNetworkError\u001b[39m                         Traceback (most recent call last)",
      "\u001b[36mCell\u001b[39m\u001b[36m \u001b[39m\u001b[32mIn[25]\u001b[39m\u001b[32m, line 2\u001b[39m\n\u001b[32m      1\u001b[39m e2.set_attr(E=\u001b[32m97\u001b[39m)\n\u001b[32m----> \u001b[39m\u001b[32m2\u001b[39m \u001b[43mnw\u001b[49m\u001b[43m.\u001b[49m\u001b[43msolve\u001b[49m\u001b[43m(\u001b[49m\u001b[33;43m\"\u001b[39;49m\u001b[33;43mdesign\u001b[39;49m\u001b[33;43m\"\u001b[39;49m\u001b[43m)\u001b[49m\n",
      "\u001b[36mFile \u001b[39m\u001b[32m~/gitprojects/tespy/src/tespy/networks/network.py:2478\u001b[39m, in \u001b[36mNetwork.solve\u001b[39m\u001b[34m(self, mode, init_path, design_path, max_iter, min_iter, init_only, init_previous, use_cuda, print_results, robust_relax)\u001b[39m\n\u001b[32m   2470\u001b[39m msg = (\n\u001b[32m   2471\u001b[39m     \u001b[33m\"\u001b[39m\u001b[33mNetwork information:\u001b[39m\u001b[38;5;130;01m\\n\u001b[39;00m\u001b[33m\"\u001b[39m\n\u001b[32m   2472\u001b[39m     \u001b[33mf\u001b[39m\u001b[33m\"\u001b[39m\u001b[33m - Number of components: \u001b[39m\u001b[38;5;132;01m{\u001b[39;00m\u001b[38;5;28mlen\u001b[39m(\u001b[38;5;28mself\u001b[39m.comps)\u001b[38;5;132;01m}\u001b[39;00m\u001b[38;5;130;01m\\n\u001b[39;00m\u001b[33m\"\u001b[39m\n\u001b[32m   2473\u001b[39m     \u001b[33mf\u001b[39m\u001b[33m\"\u001b[39m\u001b[33m - Number of connections: \u001b[39m\u001b[38;5;132;01m{\u001b[39;00m\u001b[38;5;28mlen\u001b[39m(\u001b[38;5;28mself\u001b[39m.conns)\u001b[38;5;132;01m}\u001b[39;00m\u001b[38;5;130;01m\\n\u001b[39;00m\u001b[33m\"\u001b[39m\n\u001b[32m   2474\u001b[39m     \u001b[33mf\u001b[39m\u001b[33m\"\u001b[39m\u001b[33m - Number of busses: \u001b[39m\u001b[38;5;132;01m{\u001b[39;00m\u001b[38;5;28mlen\u001b[39m(\u001b[38;5;28mself\u001b[39m.busses)\u001b[38;5;132;01m}\u001b[39;00m\u001b[33m\"\u001b[39m\n\u001b[32m   2475\u001b[39m )\n\u001b[32m   2476\u001b[39m logger.debug(msg)\n\u001b[32m-> \u001b[39m\u001b[32m2478\u001b[39m \u001b[38;5;28;43mself\u001b[39;49m\u001b[43m.\u001b[49m\u001b[43m_prepare_problem\u001b[49m\u001b[43m(\u001b[49m\u001b[43m)\u001b[49m\n\u001b[32m   2480\u001b[39m \u001b[38;5;28;01mif\u001b[39;00m init_only:\n\u001b[32m   2481\u001b[39m     \u001b[38;5;28;01mreturn\u001b[39;00m\n",
      "\u001b[36mFile \u001b[39m\u001b[32m~/gitprojects/tespy/src/tespy/networks/network.py:899\u001b[39m, in \u001b[36mNetwork._prepare_problem\u001b[39m\u001b[34m(self)\u001b[39m\n\u001b[32m    896\u001b[39m \u001b[38;5;28mself\u001b[39m._init_set_properties()\n\u001b[32m    897\u001b[39m \u001b[38;5;28mself\u001b[39m._create_structure_matrix()\n\u001b[32m--> \u001b[39m\u001b[32m899\u001b[39m \u001b[38;5;28;43mself\u001b[39;49m\u001b[43m.\u001b[49m\u001b[43m_presolve\u001b[49m\u001b[43m(\u001b[49m\u001b[43m)\u001b[49m\n\u001b[32m    900\u001b[39m \u001b[38;5;28mself\u001b[39m._prepare_for_solver()\n\u001b[32m    902\u001b[39m \u001b[38;5;66;03m# generic fluid property initialisation\u001b[39;00m\n",
      "\u001b[36mFile \u001b[39m\u001b[32m~/gitprojects/tespy/src/tespy/networks/network.py:1521\u001b[39m, in \u001b[36mNetwork._presolve\u001b[39m\u001b[34m(self)\u001b[39m\n\u001b[32m   1518\u001b[39m \u001b[38;5;28;01mfor\u001b[39;00m c \u001b[38;5;129;01min\u001b[39;00m \u001b[38;5;28mself\u001b[39m.conns[\u001b[33m'\u001b[39m\u001b[33mobject\u001b[39m\u001b[33m'\u001b[39m]:\n\u001b[32m   1519\u001b[39m     \u001b[38;5;28mself\u001b[39m._presolved_equations += c._presolve()\n\u001b[32m-> \u001b[39m\u001b[32m1521\u001b[39m \u001b[38;5;28;43mself\u001b[39;49m\u001b[43m.\u001b[49m\u001b[43m_presolve_linear_dependents\u001b[49m\u001b[43m(\u001b[49m\u001b[43m)\u001b[49m\n\u001b[32m   1523\u001b[39m \u001b[38;5;66;03m# iteratively check presolvable fluid properties\u001b[39;00m\n\u001b[32m   1524\u001b[39m \u001b[38;5;66;03m# and distribute presolved variables to all linear dependents\u001b[39;00m\n\u001b[32m   1525\u001b[39m \u001b[38;5;66;03m# until the number of variables does not change anymore\u001b[39;00m\n\u001b[32m   1526\u001b[39m number_variables = \u001b[38;5;28msum\u001b[39m([\n\u001b[32m   1527\u001b[39m     variable.is_var\n\u001b[32m   1528\u001b[39m     \u001b[38;5;28;01mfor\u001b[39;00m conn \u001b[38;5;129;01min\u001b[39;00m \u001b[38;5;28mself\u001b[39m.conns[\u001b[33m'\u001b[39m\u001b[33mobject\u001b[39m\u001b[33m'\u001b[39m]\n\u001b[32m   1529\u001b[39m     \u001b[38;5;28;01mfor\u001b[39;00m variable \u001b[38;5;129;01min\u001b[39;00m conn.get_variables().values()\n\u001b[32m   1530\u001b[39m ])\n",
      "\u001b[36mFile \u001b[39m\u001b[32m~/gitprojects/tespy/src/tespy/networks/network.py:1629\u001b[39m, in \u001b[36mNetwork._presolve_linear_dependents\u001b[39m\u001b[34m(self)\u001b[39m\n\u001b[32m   1620\u001b[39m     variables_properties = [\n\u001b[32m   1621\u001b[39m         \u001b[33mf\u001b[39m\u001b[33m\"\u001b[39m\u001b[33m(\u001b[39m\u001b[38;5;132;01m{\u001b[39;00m\u001b[38;5;28mself\u001b[39m._variable_lookup[var][\u001b[33m'\u001b[39m\u001b[33mobject\u001b[39m\u001b[33m'\u001b[39m].label\u001b[38;5;132;01m}\u001b[39;00m\u001b[33m: \u001b[39m\u001b[33m\"\u001b[39m\n\u001b[32m   1622\u001b[39m         \u001b[33mf\u001b[39m\u001b[33m\"\u001b[39m\u001b[38;5;132;01m{\u001b[39;00m\u001b[38;5;28mself\u001b[39m._variable_lookup[var][\u001b[33m'\u001b[39m\u001b[33mproperty\u001b[39m\u001b[33m'\u001b[39m]\u001b[38;5;132;01m}\u001b[39;00m\u001b[33m)\u001b[39m\u001b[33m\"\u001b[39m\n\u001b[32m   1623\u001b[39m         \u001b[38;5;28;01mfor\u001b[39;00m var \u001b[38;5;129;01min\u001b[39;00m linear_dependents[\u001b[33m\"\u001b[39m\u001b[33mvariables\u001b[39m\u001b[33m\"\u001b[39m]\n\u001b[32m   1624\u001b[39m     ]\n\u001b[32m   1625\u001b[39m     msg = (\n\u001b[32m   1626\u001b[39m         \u001b[33m\"\u001b[39m\u001b[33mYou specified more than one variable of the linear \u001b[39m\u001b[33m\"\u001b[39m\n\u001b[32m   1627\u001b[39m         \u001b[33mf\u001b[39m\u001b[33m\"\u001b[39m\u001b[33mdependent variables: \u001b[39m\u001b[38;5;132;01m{\u001b[39;00m\u001b[33m'\u001b[39m\u001b[33m, \u001b[39m\u001b[33m'\u001b[39m.join(variables_properties)\u001b[38;5;132;01m}\u001b[39;00m\u001b[33m.\u001b[39m\u001b[33m\"\u001b[39m\n\u001b[32m   1628\u001b[39m     )\n\u001b[32m-> \u001b[39m\u001b[32m1629\u001b[39m     \u001b[38;5;28;01mraise\u001b[39;00m hlp.TESPyNetworkError(msg)\n\u001b[32m   1630\u001b[39m \u001b[38;5;28;01melif\u001b[39;00m number_specifications == \u001b[32m1\u001b[39m:\n\u001b[32m   1631\u001b[39m     reference_data = \u001b[38;5;28mself\u001b[39m._variable_lookup[reference]\n",
      "\u001b[31mTESPyNetworkError\u001b[39m: You specified more than one variable of the linear dependent variables: (e1: E), (e2: E)."
     ]
    }
   ],
   "source": [
    "e2.set_attr(E=97)\n",
    "nw.solve(\"design\")"
   ]
  },
  {
   "cell_type": "markdown",
   "id": "5bf55736",
   "metadata": {},
   "source": [
    "- same problem if you were to specify compressor pressure ratio, as both inlet\n",
    "  and outlet pressure are already determined and connected via the delta p of\n",
    "  the condenser\n",
    "- Which variables you specified is not (yet) pointed at"
   ]
  },
  {
   "cell_type": "code",
   "execution_count": 26,
   "id": "5f1575a1",
   "metadata": {
    "execution": {
     "iopub.execute_input": "2025-10-08T10:12:44.605976Z",
     "iopub.status.busy": "2025-10-08T10:12:44.605699Z",
     "iopub.status.idle": "2025-10-08T10:12:44.693146Z",
     "shell.execute_reply": "2025-10-08T10:12:44.692266Z"
    }
   },
   "outputs": [
    {
     "ename": "TESPyNetworkError",
     "evalue": "You specified more than one variable of the linear dependent variables: (c1: p), (c2: p), (c5: p), (c4: p), (c3: p).",
     "output_type": "error",
     "traceback": [
      "\u001b[31m---------------------------------------------------------------------------\u001b[39m",
      "\u001b[31mTESPyNetworkError\u001b[39m                         Traceback (most recent call last)",
      "\u001b[36mCell\u001b[39m\u001b[36m \u001b[39m\u001b[32mIn[26]\u001b[39m\u001b[32m, line 3\u001b[39m\n\u001b[32m      1\u001b[39m e2.set_attr(E=\u001b[38;5;28;01mNone\u001b[39;00m)\n\u001b[32m      2\u001b[39m compressor.set_attr(pr=\u001b[32m4\u001b[39m)\n\u001b[32m----> \u001b[39m\u001b[32m3\u001b[39m \u001b[43mnw\u001b[49m\u001b[43m.\u001b[49m\u001b[43msolve\u001b[49m\u001b[43m(\u001b[49m\u001b[33;43m\"\u001b[39;49m\u001b[33;43mdesign\u001b[39;49m\u001b[33;43m\"\u001b[39;49m\u001b[43m)\u001b[49m\n",
      "\u001b[36mFile \u001b[39m\u001b[32m~/gitprojects/tespy/src/tespy/networks/network.py:2478\u001b[39m, in \u001b[36mNetwork.solve\u001b[39m\u001b[34m(self, mode, init_path, design_path, max_iter, min_iter, init_only, init_previous, use_cuda, print_results, robust_relax)\u001b[39m\n\u001b[32m   2470\u001b[39m msg = (\n\u001b[32m   2471\u001b[39m     \u001b[33m\"\u001b[39m\u001b[33mNetwork information:\u001b[39m\u001b[38;5;130;01m\\n\u001b[39;00m\u001b[33m\"\u001b[39m\n\u001b[32m   2472\u001b[39m     \u001b[33mf\u001b[39m\u001b[33m\"\u001b[39m\u001b[33m - Number of components: \u001b[39m\u001b[38;5;132;01m{\u001b[39;00m\u001b[38;5;28mlen\u001b[39m(\u001b[38;5;28mself\u001b[39m.comps)\u001b[38;5;132;01m}\u001b[39;00m\u001b[38;5;130;01m\\n\u001b[39;00m\u001b[33m\"\u001b[39m\n\u001b[32m   2473\u001b[39m     \u001b[33mf\u001b[39m\u001b[33m\"\u001b[39m\u001b[33m - Number of connections: \u001b[39m\u001b[38;5;132;01m{\u001b[39;00m\u001b[38;5;28mlen\u001b[39m(\u001b[38;5;28mself\u001b[39m.conns)\u001b[38;5;132;01m}\u001b[39;00m\u001b[38;5;130;01m\\n\u001b[39;00m\u001b[33m\"\u001b[39m\n\u001b[32m   2474\u001b[39m     \u001b[33mf\u001b[39m\u001b[33m\"\u001b[39m\u001b[33m - Number of busses: \u001b[39m\u001b[38;5;132;01m{\u001b[39;00m\u001b[38;5;28mlen\u001b[39m(\u001b[38;5;28mself\u001b[39m.busses)\u001b[38;5;132;01m}\u001b[39;00m\u001b[33m\"\u001b[39m\n\u001b[32m   2475\u001b[39m )\n\u001b[32m   2476\u001b[39m logger.debug(msg)\n\u001b[32m-> \u001b[39m\u001b[32m2478\u001b[39m \u001b[38;5;28;43mself\u001b[39;49m\u001b[43m.\u001b[49m\u001b[43m_prepare_problem\u001b[49m\u001b[43m(\u001b[49m\u001b[43m)\u001b[49m\n\u001b[32m   2480\u001b[39m \u001b[38;5;28;01mif\u001b[39;00m init_only:\n\u001b[32m   2481\u001b[39m     \u001b[38;5;28;01mreturn\u001b[39;00m\n",
      "\u001b[36mFile \u001b[39m\u001b[32m~/gitprojects/tespy/src/tespy/networks/network.py:899\u001b[39m, in \u001b[36mNetwork._prepare_problem\u001b[39m\u001b[34m(self)\u001b[39m\n\u001b[32m    896\u001b[39m \u001b[38;5;28mself\u001b[39m._init_set_properties()\n\u001b[32m    897\u001b[39m \u001b[38;5;28mself\u001b[39m._create_structure_matrix()\n\u001b[32m--> \u001b[39m\u001b[32m899\u001b[39m \u001b[38;5;28;43mself\u001b[39;49m\u001b[43m.\u001b[49m\u001b[43m_presolve\u001b[49m\u001b[43m(\u001b[49m\u001b[43m)\u001b[49m\n\u001b[32m    900\u001b[39m \u001b[38;5;28mself\u001b[39m._prepare_for_solver()\n\u001b[32m    902\u001b[39m \u001b[38;5;66;03m# generic fluid property initialisation\u001b[39;00m\n",
      "\u001b[36mFile \u001b[39m\u001b[32m~/gitprojects/tespy/src/tespy/networks/network.py:1521\u001b[39m, in \u001b[36mNetwork._presolve\u001b[39m\u001b[34m(self)\u001b[39m\n\u001b[32m   1518\u001b[39m \u001b[38;5;28;01mfor\u001b[39;00m c \u001b[38;5;129;01min\u001b[39;00m \u001b[38;5;28mself\u001b[39m.conns[\u001b[33m'\u001b[39m\u001b[33mobject\u001b[39m\u001b[33m'\u001b[39m]:\n\u001b[32m   1519\u001b[39m     \u001b[38;5;28mself\u001b[39m._presolved_equations += c._presolve()\n\u001b[32m-> \u001b[39m\u001b[32m1521\u001b[39m \u001b[38;5;28;43mself\u001b[39;49m\u001b[43m.\u001b[49m\u001b[43m_presolve_linear_dependents\u001b[49m\u001b[43m(\u001b[49m\u001b[43m)\u001b[49m\n\u001b[32m   1523\u001b[39m \u001b[38;5;66;03m# iteratively check presolvable fluid properties\u001b[39;00m\n\u001b[32m   1524\u001b[39m \u001b[38;5;66;03m# and distribute presolved variables to all linear dependents\u001b[39;00m\n\u001b[32m   1525\u001b[39m \u001b[38;5;66;03m# until the number of variables does not change anymore\u001b[39;00m\n\u001b[32m   1526\u001b[39m number_variables = \u001b[38;5;28msum\u001b[39m([\n\u001b[32m   1527\u001b[39m     variable.is_var\n\u001b[32m   1528\u001b[39m     \u001b[38;5;28;01mfor\u001b[39;00m conn \u001b[38;5;129;01min\u001b[39;00m \u001b[38;5;28mself\u001b[39m.conns[\u001b[33m'\u001b[39m\u001b[33mobject\u001b[39m\u001b[33m'\u001b[39m]\n\u001b[32m   1529\u001b[39m     \u001b[38;5;28;01mfor\u001b[39;00m variable \u001b[38;5;129;01min\u001b[39;00m conn.get_variables().values()\n\u001b[32m   1530\u001b[39m ])\n",
      "\u001b[36mFile \u001b[39m\u001b[32m~/gitprojects/tespy/src/tespy/networks/network.py:1629\u001b[39m, in \u001b[36mNetwork._presolve_linear_dependents\u001b[39m\u001b[34m(self)\u001b[39m\n\u001b[32m   1620\u001b[39m     variables_properties = [\n\u001b[32m   1621\u001b[39m         \u001b[33mf\u001b[39m\u001b[33m\"\u001b[39m\u001b[33m(\u001b[39m\u001b[38;5;132;01m{\u001b[39;00m\u001b[38;5;28mself\u001b[39m._variable_lookup[var][\u001b[33m'\u001b[39m\u001b[33mobject\u001b[39m\u001b[33m'\u001b[39m].label\u001b[38;5;132;01m}\u001b[39;00m\u001b[33m: \u001b[39m\u001b[33m\"\u001b[39m\n\u001b[32m   1622\u001b[39m         \u001b[33mf\u001b[39m\u001b[33m\"\u001b[39m\u001b[38;5;132;01m{\u001b[39;00m\u001b[38;5;28mself\u001b[39m._variable_lookup[var][\u001b[33m'\u001b[39m\u001b[33mproperty\u001b[39m\u001b[33m'\u001b[39m]\u001b[38;5;132;01m}\u001b[39;00m\u001b[33m)\u001b[39m\u001b[33m\"\u001b[39m\n\u001b[32m   1623\u001b[39m         \u001b[38;5;28;01mfor\u001b[39;00m var \u001b[38;5;129;01min\u001b[39;00m linear_dependents[\u001b[33m\"\u001b[39m\u001b[33mvariables\u001b[39m\u001b[33m\"\u001b[39m]\n\u001b[32m   1624\u001b[39m     ]\n\u001b[32m   1625\u001b[39m     msg = (\n\u001b[32m   1626\u001b[39m         \u001b[33m\"\u001b[39m\u001b[33mYou specified more than one variable of the linear \u001b[39m\u001b[33m\"\u001b[39m\n\u001b[32m   1627\u001b[39m         \u001b[33mf\u001b[39m\u001b[33m\"\u001b[39m\u001b[33mdependent variables: \u001b[39m\u001b[38;5;132;01m{\u001b[39;00m\u001b[33m'\u001b[39m\u001b[33m, \u001b[39m\u001b[33m'\u001b[39m.join(variables_properties)\u001b[38;5;132;01m}\u001b[39;00m\u001b[33m.\u001b[39m\u001b[33m\"\u001b[39m\n\u001b[32m   1628\u001b[39m     )\n\u001b[32m-> \u001b[39m\u001b[32m1629\u001b[39m     \u001b[38;5;28;01mraise\u001b[39;00m hlp.TESPyNetworkError(msg)\n\u001b[32m   1630\u001b[39m \u001b[38;5;28;01melif\u001b[39;00m number_specifications == \u001b[32m1\u001b[39m:\n\u001b[32m   1631\u001b[39m     reference_data = \u001b[38;5;28mself\u001b[39m._variable_lookup[reference]\n",
      "\u001b[31mTESPyNetworkError\u001b[39m: You specified more than one variable of the linear dependent variables: (c1: p), (c2: p), (c5: p), (c4: p), (c3: p)."
     ]
    }
   ],
   "source": [
    "e2.set_attr(E=None)\n",
    "compressor.set_attr(pr=4)\n",
    "nw.solve(\"design\")"
   ]
  },
  {
   "cell_type": "markdown",
   "id": "27a26f1e",
   "metadata": {},
   "source": [
    "- create a circular dependency, this error is raised before duplicated\n",
    "  specification\n",
    "- the output is the variables which are part of the circular dependency and\n",
    "  the equations responsible for that (-> so why not before?! TODO for meeting\n",
    "  hackathon)\n"
   ]
  },
  {
   "cell_type": "code",
   "execution_count": 27,
   "id": "0519739d",
   "metadata": {
    "execution": {
     "iopub.execute_input": "2025-10-08T10:12:44.696506Z",
     "iopub.status.busy": "2025-10-08T10:12:44.696278Z",
     "iopub.status.idle": "2025-10-08T10:12:44.796785Z",
     "shell.execute_reply": "2025-10-08T10:12:44.796286Z"
    }
   },
   "outputs": [
    {
     "ename": "TESPyNetworkError",
     "evalue": "A circular dependency between the variables ('c1', 'p'), ('c2', 'p'), ('c3', 'p'), ('c4', 'p'), ('c5', 'p') caused by the equations ('compressor', 'pr'), ('condenser', 'dp'), ('cycle closer', 'pressure_equality_constraint'), ('evaporator', 'dp'), ('valve', 'pr') has been detected. This overdetermines the problem.",
     "output_type": "error",
     "traceback": [
      "\u001b[31m---------------------------------------------------------------------------\u001b[39m",
      "\u001b[31mTESPyNetworkError\u001b[39m                         Traceback (most recent call last)",
      "\u001b[36mCell\u001b[39m\u001b[36m \u001b[39m\u001b[32mIn[27]\u001b[39m\u001b[32m, line 2\u001b[39m\n\u001b[32m      1\u001b[39m valve.set_attr(pr=\u001b[32m1\u001b[39m/\u001b[32m4\u001b[39m)\n\u001b[32m----> \u001b[39m\u001b[32m2\u001b[39m \u001b[43mnw\u001b[49m\u001b[43m.\u001b[49m\u001b[43msolve\u001b[49m\u001b[43m(\u001b[49m\u001b[33;43m\"\u001b[39;49m\u001b[33;43mdesign\u001b[39;49m\u001b[33;43m\"\u001b[39;49m\u001b[43m)\u001b[49m\n",
      "\u001b[36mFile \u001b[39m\u001b[32m~/gitprojects/tespy/src/tespy/networks/network.py:2478\u001b[39m, in \u001b[36mNetwork.solve\u001b[39m\u001b[34m(self, mode, init_path, design_path, max_iter, min_iter, init_only, init_previous, use_cuda, print_results, robust_relax)\u001b[39m\n\u001b[32m   2470\u001b[39m msg = (\n\u001b[32m   2471\u001b[39m     \u001b[33m\"\u001b[39m\u001b[33mNetwork information:\u001b[39m\u001b[38;5;130;01m\\n\u001b[39;00m\u001b[33m\"\u001b[39m\n\u001b[32m   2472\u001b[39m     \u001b[33mf\u001b[39m\u001b[33m\"\u001b[39m\u001b[33m - Number of components: \u001b[39m\u001b[38;5;132;01m{\u001b[39;00m\u001b[38;5;28mlen\u001b[39m(\u001b[38;5;28mself\u001b[39m.comps)\u001b[38;5;132;01m}\u001b[39;00m\u001b[38;5;130;01m\\n\u001b[39;00m\u001b[33m\"\u001b[39m\n\u001b[32m   2473\u001b[39m     \u001b[33mf\u001b[39m\u001b[33m\"\u001b[39m\u001b[33m - Number of connections: \u001b[39m\u001b[38;5;132;01m{\u001b[39;00m\u001b[38;5;28mlen\u001b[39m(\u001b[38;5;28mself\u001b[39m.conns)\u001b[38;5;132;01m}\u001b[39;00m\u001b[38;5;130;01m\\n\u001b[39;00m\u001b[33m\"\u001b[39m\n\u001b[32m   2474\u001b[39m     \u001b[33mf\u001b[39m\u001b[33m\"\u001b[39m\u001b[33m - Number of busses: \u001b[39m\u001b[38;5;132;01m{\u001b[39;00m\u001b[38;5;28mlen\u001b[39m(\u001b[38;5;28mself\u001b[39m.busses)\u001b[38;5;132;01m}\u001b[39;00m\u001b[33m\"\u001b[39m\n\u001b[32m   2475\u001b[39m )\n\u001b[32m   2476\u001b[39m logger.debug(msg)\n\u001b[32m-> \u001b[39m\u001b[32m2478\u001b[39m \u001b[38;5;28;43mself\u001b[39;49m\u001b[43m.\u001b[49m\u001b[43m_prepare_problem\u001b[49m\u001b[43m(\u001b[49m\u001b[43m)\u001b[49m\n\u001b[32m   2480\u001b[39m \u001b[38;5;28;01mif\u001b[39;00m init_only:\n\u001b[32m   2481\u001b[39m     \u001b[38;5;28;01mreturn\u001b[39;00m\n",
      "\u001b[36mFile \u001b[39m\u001b[32m~/gitprojects/tespy/src/tespy/networks/network.py:897\u001b[39m, in \u001b[36mNetwork._prepare_problem\u001b[39m\u001b[34m(self)\u001b[39m\n\u001b[32m    894\u001b[39m \u001b[38;5;66;03m# this method will distribute units and set SI values from given values\u001b[39;00m\n\u001b[32m    895\u001b[39m \u001b[38;5;66;03m# and units\u001b[39;00m\n\u001b[32m    896\u001b[39m \u001b[38;5;28mself\u001b[39m._init_set_properties()\n\u001b[32m--> \u001b[39m\u001b[32m897\u001b[39m \u001b[38;5;28;43mself\u001b[39;49m\u001b[43m.\u001b[49m\u001b[43m_create_structure_matrix\u001b[49m\u001b[43m(\u001b[49m\u001b[43m)\u001b[49m\n\u001b[32m    899\u001b[39m \u001b[38;5;28mself\u001b[39m._presolve()\n\u001b[32m    900\u001b[39m \u001b[38;5;28mself\u001b[39m._prepare_for_solver()\n",
      "\u001b[36mFile \u001b[39m\u001b[32m~/gitprojects/tespy/src/tespy/networks/network.py:1154\u001b[39m, in \u001b[36mNetwork._create_structure_matrix\u001b[39m\u001b[34m(self)\u001b[39m\n\u001b[32m   1151\u001b[39m sum_eq = \u001b[38;5;28mself\u001b[39m._preprocess_network_parts(\u001b[38;5;28mself\u001b[39m.comps[\u001b[33m\"\u001b[39m\u001b[33mobject\u001b[39m\u001b[33m\"\u001b[39m], sum_eq)\n\u001b[32m   1152\u001b[39m sum_eq = \u001b[38;5;28mself\u001b[39m._preprocess_network_parts(\u001b[38;5;28mself\u001b[39m.user_defined_eq.values(), sum_eq)\n\u001b[32m-> \u001b[39m\u001b[32m1154\u001b[39m _linear_dependencies = \u001b[38;5;28;43mself\u001b[39;49m\u001b[43m.\u001b[49m\u001b[43m_find_linear_dependent_variables\u001b[49m\u001b[43m(\u001b[49m\n\u001b[32m   1155\u001b[39m \u001b[43m    \u001b[49m\u001b[38;5;28;43mself\u001b[39;49m\u001b[43m.\u001b[49m\u001b[43m_structure_matrix\u001b[49m\u001b[43m,\u001b[49m\u001b[43m \u001b[49m\u001b[38;5;28;43mself\u001b[39;49m\u001b[43m.\u001b[49m\u001b[43m_rhs\u001b[49m\n\u001b[32m   1156\u001b[39m \u001b[43m\u001b[49m\u001b[43m)\u001b[49m\n\u001b[32m   1157\u001b[39m _linear_dependent_variables = [\n\u001b[32m   1158\u001b[39m     var \u001b[38;5;28;01mfor\u001b[39;00m linear_dependents \u001b[38;5;129;01min\u001b[39;00m _linear_dependencies\n\u001b[32m   1159\u001b[39m     \u001b[38;5;28;01mfor\u001b[39;00m var \u001b[38;5;129;01min\u001b[39;00m linear_dependents[\u001b[33m\"\u001b[39m\u001b[33mvariables\u001b[39m\u001b[33m\"\u001b[39m]\n\u001b[32m   1160\u001b[39m ]\n\u001b[32m   1161\u001b[39m _missing_variables = [\n\u001b[32m   1162\u001b[39m     {\n\u001b[32m   1163\u001b[39m         \u001b[33m\"\u001b[39m\u001b[33mvariables\u001b[39m\u001b[33m\"\u001b[39m: [var],\n\u001b[32m   (...)\u001b[39m\u001b[32m   1169\u001b[39m     \u001b[38;5;28;01mfor\u001b[39;00m var \u001b[38;5;129;01min\u001b[39;00m \u001b[38;5;28mset\u001b[39m(\u001b[38;5;28mrange\u001b[39m(num_vars)) - \u001b[38;5;28mset\u001b[39m(_linear_dependent_variables)\n\u001b[32m   1170\u001b[39m ]\n",
      "\u001b[36mFile \u001b[39m\u001b[32m~/gitprojects/tespy/src/tespy/networks/network.py:1317\u001b[39m, in \u001b[36mNetwork._find_linear_dependent_variables\u001b[39m\u001b[34m(self, sparse_matrix, rhs)\u001b[39m\n\u001b[32m   1313\u001b[39m cycle = \u001b[38;5;28mself\u001b[39m._find_cycles_in_graph(\n\u001b[32m   1314\u001b[39m     {k: [x[\u001b[32m0\u001b[39m] \u001b[38;5;28;01mfor\u001b[39;00m x \u001b[38;5;129;01min\u001b[39;00m v] \u001b[38;5;28;01mfor\u001b[39;00m k, v \u001b[38;5;129;01min\u001b[39;00m adjacency_list.items()}\n\u001b[32m   1315\u001b[39m )\n\u001b[32m   1316\u001b[39m \u001b[38;5;28;01mif\u001b[39;00m cycle \u001b[38;5;129;01mis\u001b[39;00m \u001b[38;5;129;01mnot\u001b[39;00m \u001b[38;5;28;01mNone\u001b[39;00m:\n\u001b[32m-> \u001b[39m\u001b[32m1317\u001b[39m     \u001b[38;5;28;43mself\u001b[39;49m\u001b[43m.\u001b[49m\u001b[43m_raise_error_if_cycle\u001b[49m\u001b[43m(\u001b[49m\u001b[43mcycle\u001b[49m\u001b[43m,\u001b[49m\u001b[43m \u001b[49m\u001b[43medges_with_factors\u001b[49m\u001b[43m,\u001b[49m\u001b[43m \u001b[49m\u001b[43meq_idx\u001b[49m\u001b[43m)\u001b[49m\n\u001b[32m   1319\u001b[39m \u001b[38;5;66;03m# Find connected components and compute factors/offsets\u001b[39;00m\n\u001b[32m   1320\u001b[39m visited = \u001b[38;5;28mset\u001b[39m()\n",
      "\u001b[36mFile \u001b[39m\u001b[32m~/gitprojects/tespy/src/tespy/networks/network.py:1478\u001b[39m, in \u001b[36mNetwork._raise_error_if_cycle\u001b[39m\u001b[34m(self, cycle, edges_with_factors, eq_idx)\u001b[39m\n\u001b[32m   1470\u001b[39m equations = \u001b[38;5;28mself\u001b[39m._get_equation_sets_by_eq_set_number(cycling_eqs)\n\u001b[32m   1471\u001b[39m msg = (\n\u001b[32m   1472\u001b[39m     \u001b[33m\"\u001b[39m\u001b[33mA circular dependency between the variables \u001b[39m\u001b[33m\"\u001b[39m\n\u001b[32m   1473\u001b[39m     \u001b[33mf\u001b[39m\u001b[33m\"\u001b[39m\u001b[38;5;132;01m{\u001b[39;00m\u001b[33m'\u001b[39m\u001b[33m, \u001b[39m\u001b[33m'\u001b[39m.join([\u001b[38;5;28mstr\u001b[39m(v)\u001b[38;5;250m \u001b[39m\u001b[38;5;28;01mfor\u001b[39;00m\u001b[38;5;250m \u001b[39mv\u001b[38;5;250m \u001b[39m\u001b[38;5;129;01min\u001b[39;00m\u001b[38;5;250m \u001b[39mvariable_names])\u001b[38;5;132;01m}\u001b[39;00m\u001b[33m \u001b[39m\u001b[33m\"\u001b[39m\n\u001b[32m   (...)\u001b[39m\u001b[32m   1476\u001b[39m     \u001b[33m\"\u001b[39m\u001b[33mdetected. This overdetermines the problem.\u001b[39m\u001b[33m\"\u001b[39m\n\u001b[32m   1477\u001b[39m )\n\u001b[32m-> \u001b[39m\u001b[32m1478\u001b[39m \u001b[38;5;28;01mraise\u001b[39;00m hlp.TESPyNetworkError(msg)\n",
      "\u001b[31mTESPyNetworkError\u001b[39m: A circular dependency between the variables ('c1', 'p'), ('c2', 'p'), ('c3', 'p'), ('c4', 'p'), ('c5', 'p') caused by the equations ('compressor', 'pr'), ('condenser', 'dp'), ('cycle closer', 'pressure_equality_constraint'), ('evaporator', 'dp'), ('valve', 'pr') has been detected. This overdetermines the problem."
     ]
    }
   ],
   "source": [
    "valve.set_attr(pr=1/4)\n",
    "nw.solve(\"design\")"
   ]
  },
  {
   "cell_type": "markdown",
   "id": "dac35244",
   "metadata": {},
   "source": [
    "- Specify three different parameters for fluid properties on single connection\n",
    "- Gives the specifications and the connection label"
   ]
  },
  {
   "cell_type": "code",
   "execution_count": 28,
   "id": "74014b58",
   "metadata": {
    "execution": {
     "iopub.execute_input": "2025-10-08T10:12:44.799434Z",
     "iopub.status.busy": "2025-10-08T10:12:44.799284Z",
     "iopub.status.idle": "2025-10-08T10:12:44.951149Z",
     "shell.execute_reply": "2025-10-08T10:12:44.950718Z"
    }
   },
   "outputs": [
    {
     "ename": "TESPyNetworkError",
     "evalue": "You have specified more than 2 parameters for the connection c1 with a known fluid composition: p, T_dew, td_dew. This overdetermines the state of the fluid.",
     "output_type": "error",
     "traceback": [
      "\u001b[31m---------------------------------------------------------------------------\u001b[39m",
      "\u001b[31mTESPyNetworkError\u001b[39m                         Traceback (most recent call last)",
      "\u001b[36mCell\u001b[39m\u001b[36m \u001b[39m\u001b[32mIn[28]\u001b[39m\u001b[32m, line 4\u001b[39m\n\u001b[32m      2\u001b[39m valve.set_attr(pr=\u001b[38;5;28;01mNone\u001b[39;00m)\n\u001b[32m      3\u001b[39m compressor.set_attr(pr=\u001b[38;5;28;01mNone\u001b[39;00m)\n\u001b[32m----> \u001b[39m\u001b[32m4\u001b[39m \u001b[43mnw\u001b[49m\u001b[43m.\u001b[49m\u001b[43msolve\u001b[49m\u001b[43m(\u001b[49m\u001b[33;43m\"\u001b[39;49m\u001b[33;43mdesign\u001b[39;49m\u001b[33;43m\"\u001b[39;49m\u001b[43m)\u001b[49m\n",
      "\u001b[36mFile \u001b[39m\u001b[32m~/gitprojects/tespy/src/tespy/networks/network.py:2478\u001b[39m, in \u001b[36mNetwork.solve\u001b[39m\u001b[34m(self, mode, init_path, design_path, max_iter, min_iter, init_only, init_previous, use_cuda, print_results, robust_relax)\u001b[39m\n\u001b[32m   2470\u001b[39m msg = (\n\u001b[32m   2471\u001b[39m     \u001b[33m\"\u001b[39m\u001b[33mNetwork information:\u001b[39m\u001b[38;5;130;01m\\n\u001b[39;00m\u001b[33m\"\u001b[39m\n\u001b[32m   2472\u001b[39m     \u001b[33mf\u001b[39m\u001b[33m\"\u001b[39m\u001b[33m - Number of components: \u001b[39m\u001b[38;5;132;01m{\u001b[39;00m\u001b[38;5;28mlen\u001b[39m(\u001b[38;5;28mself\u001b[39m.comps)\u001b[38;5;132;01m}\u001b[39;00m\u001b[38;5;130;01m\\n\u001b[39;00m\u001b[33m\"\u001b[39m\n\u001b[32m   2473\u001b[39m     \u001b[33mf\u001b[39m\u001b[33m\"\u001b[39m\u001b[33m - Number of connections: \u001b[39m\u001b[38;5;132;01m{\u001b[39;00m\u001b[38;5;28mlen\u001b[39m(\u001b[38;5;28mself\u001b[39m.conns)\u001b[38;5;132;01m}\u001b[39;00m\u001b[38;5;130;01m\\n\u001b[39;00m\u001b[33m\"\u001b[39m\n\u001b[32m   2474\u001b[39m     \u001b[33mf\u001b[39m\u001b[33m\"\u001b[39m\u001b[33m - Number of busses: \u001b[39m\u001b[38;5;132;01m{\u001b[39;00m\u001b[38;5;28mlen\u001b[39m(\u001b[38;5;28mself\u001b[39m.busses)\u001b[38;5;132;01m}\u001b[39;00m\u001b[33m\"\u001b[39m\n\u001b[32m   2475\u001b[39m )\n\u001b[32m   2476\u001b[39m logger.debug(msg)\n\u001b[32m-> \u001b[39m\u001b[32m2478\u001b[39m \u001b[38;5;28;43mself\u001b[39;49m\u001b[43m.\u001b[49m\u001b[43m_prepare_problem\u001b[49m\u001b[43m(\u001b[49m\u001b[43m)\u001b[49m\n\u001b[32m   2480\u001b[39m \u001b[38;5;28;01mif\u001b[39;00m init_only:\n\u001b[32m   2481\u001b[39m     \u001b[38;5;28;01mreturn\u001b[39;00m\n",
      "\u001b[36mFile \u001b[39m\u001b[32m~/gitprojects/tespy/src/tespy/networks/network.py:899\u001b[39m, in \u001b[36mNetwork._prepare_problem\u001b[39m\u001b[34m(self)\u001b[39m\n\u001b[32m    896\u001b[39m \u001b[38;5;28mself\u001b[39m._init_set_properties()\n\u001b[32m    897\u001b[39m \u001b[38;5;28mself\u001b[39m._create_structure_matrix()\n\u001b[32m--> \u001b[39m\u001b[32m899\u001b[39m \u001b[38;5;28;43mself\u001b[39;49m\u001b[43m.\u001b[49m\u001b[43m_presolve\u001b[49m\u001b[43m(\u001b[49m\u001b[43m)\u001b[49m\n\u001b[32m    900\u001b[39m \u001b[38;5;28mself\u001b[39m._prepare_for_solver()\n\u001b[32m    902\u001b[39m \u001b[38;5;66;03m# generic fluid property initialisation\u001b[39;00m\n",
      "\u001b[36mFile \u001b[39m\u001b[32m~/gitprojects/tespy/src/tespy/networks/network.py:1519\u001b[39m, in \u001b[36mNetwork._presolve\u001b[39m\u001b[34m(self)\u001b[39m\n\u001b[32m   1516\u001b[39m \u001b[38;5;66;03m# set up the actual list of equations for connections, components,\u001b[39;00m\n\u001b[32m   1518\u001b[39m \u001b[38;5;28;01mfor\u001b[39;00m c \u001b[38;5;129;01min\u001b[39;00m \u001b[38;5;28mself\u001b[39m.conns[\u001b[33m'\u001b[39m\u001b[33mobject\u001b[39m\u001b[33m'\u001b[39m]:\n\u001b[32m-> \u001b[39m\u001b[32m1519\u001b[39m     \u001b[38;5;28mself\u001b[39m._presolved_equations += \u001b[43mc\u001b[49m\u001b[43m.\u001b[49m\u001b[43m_presolve\u001b[49m\u001b[43m(\u001b[49m\u001b[43m)\u001b[49m\n\u001b[32m   1521\u001b[39m \u001b[38;5;28mself\u001b[39m._presolve_linear_dependents()\n\u001b[32m   1523\u001b[39m \u001b[38;5;66;03m# iteratively check presolvable fluid properties\u001b[39;00m\n\u001b[32m   1524\u001b[39m \u001b[38;5;66;03m# and distribute presolved variables to all linear dependents\u001b[39;00m\n\u001b[32m   1525\u001b[39m \u001b[38;5;66;03m# until the number of variables does not change anymore\u001b[39;00m\n",
      "\u001b[36mFile \u001b[39m\u001b[32m~/gitprojects/tespy/src/tespy/connections/connection.py:922\u001b[39m, in \u001b[36mConnection._presolve\u001b[39m\u001b[34m(self)\u001b[39m\n\u001b[32m    915\u001b[39m \u001b[38;5;28;01mif\u001b[39;00m num_specs > \u001b[32m2\u001b[39m:\n\u001b[32m    916\u001b[39m     msg = (\n\u001b[32m    917\u001b[39m         \u001b[33m\"\u001b[39m\u001b[33mYou have specified more than 2 parameters for the connection \u001b[39m\u001b[33m\"\u001b[39m\n\u001b[32m    918\u001b[39m         \u001b[33mf\u001b[39m\u001b[33m\"\u001b[39m\u001b[38;5;132;01m{\u001b[39;00m\u001b[38;5;28mself\u001b[39m.label\u001b[38;5;132;01m}\u001b[39;00m\u001b[33m with a known fluid composition: \u001b[39m\u001b[33m\"\u001b[39m\n\u001b[32m    919\u001b[39m         \u001b[33mf\u001b[39m\u001b[33m\"\u001b[39m\u001b[38;5;132;01m{\u001b[39;00m\u001b[33m'\u001b[39m\u001b[33m, \u001b[39m\u001b[33m'\u001b[39m.join(specifications)\u001b[38;5;132;01m}\u001b[39;00m\u001b[33m. This overdetermines the state \u001b[39m\u001b[33m\"\u001b[39m\n\u001b[32m    920\u001b[39m         \u001b[33m\"\u001b[39m\u001b[33mof the fluid.\u001b[39m\u001b[33m\"\u001b[39m\n\u001b[32m    921\u001b[39m     )\n\u001b[32m--> \u001b[39m\u001b[32m922\u001b[39m     \u001b[38;5;28;01mraise\u001b[39;00m TESPyNetworkError(msg)\n\u001b[32m    924\u001b[39m presolved_equations = []\n\u001b[32m    925\u001b[39m \u001b[38;5;28;01mif\u001b[39;00m \u001b[38;5;28mself\u001b[39m.p.is_set:\n",
      "\u001b[31mTESPyNetworkError\u001b[39m: You have specified more than 2 parameters for the connection c1 with a known fluid composition: p, T_dew, td_dew. This overdetermines the state of the fluid."
     ]
    }
   ],
   "source": [
    "c1.set_attr(p=10)  # p has already been set!\n",
    "valve.set_attr(pr=None)\n",
    "compressor.set_attr(pr=None)\n",
    "nw.solve(\"design\")"
   ]
  },
  {
   "cell_type": "code",
   "execution_count": 29,
   "id": "ddc5a851",
   "metadata": {
    "execution": {
     "iopub.execute_input": "2025-10-08T10:12:44.953313Z",
     "iopub.status.busy": "2025-10-08T10:12:44.953163Z",
     "iopub.status.idle": "2025-10-08T10:12:44.955313Z",
     "shell.execute_reply": "2025-10-08T10:12:44.954964Z"
    }
   },
   "outputs": [],
   "source": [
    "c1.set_attr(p=None)"
   ]
  },
  {
   "cell_type": "markdown",
   "id": "dde3b9bb",
   "metadata": {},
   "source": [
    "#### Linear dependency inspection\n",
    "\n",
    "- construct a linear dependency:\n",
    "  - fix heat output of condenser (we have fixed motor electrical power already)\n",
    "  - no specification of evaporator delta p"
   ]
  },
  {
   "cell_type": "code",
   "execution_count": 30,
   "id": "70cb46df",
   "metadata": {
    "execution": {
     "iopub.execute_input": "2025-10-08T10:12:44.957133Z",
     "iopub.status.busy": "2025-10-08T10:12:44.956944Z",
     "iopub.status.idle": "2025-10-08T10:12:44.967159Z",
     "shell.execute_reply": "2025-10-08T10:12:44.966721Z"
    }
   },
   "outputs": [
    {
     "name": "stderr",
     "output_type": "stream",
     "text": [
      "Detected singularity in Jacobian matrix. This singularity is most likely caused by the parametrization of your problem and NOT a numerical issue. Double check your setup.\n",
      "The following variables of your problem are not in connection with any equation: (0, 'p')\n",
      "\n"
     ]
    },
    {
     "name": "stdout",
     "output_type": "stream",
     "text": [
      "\n",
      " iter  | residual   | progress   | massflow   | pressure   | enthalpy   | fluid      | component  \n",
      "-------+------------+------------+------------+------------+------------+------------+------------\n",
      " 1     | 5.67e+04   | 13 %       | NaN        | NaN        | NaN        | NaN        | NaN        \n",
      "Total iterations: 1, Calculation time: 0.00 s, Iterations per second: 1037.42\n"
     ]
    }
   ],
   "source": [
    "condenser.set_attr(Q=-350)\n",
    "evaporator.set_attr(dp=None)\n",
    "nw.solve(\"design\")"
   ]
  },
  {
   "cell_type": "markdown",
   "id": "3f6f235d",
   "metadata": {},
   "source": [
    "- solver tells us\n",
    "  - setup problem, not a numerical issue\n",
    "  - variable (0, \"p\") is not associated with any equation\n",
    "- retrieve variables to find, what that is pointing to -> c4 pressure (evaporator inlet)"
   ]
  },
  {
   "cell_type": "code",
   "execution_count": 31,
   "id": "5e338977",
   "metadata": {
    "execution": {
     "iopub.execute_input": "2025-10-08T10:12:44.969675Z",
     "iopub.status.busy": "2025-10-08T10:12:44.969490Z",
     "iopub.status.idle": "2025-10-08T10:12:44.973388Z",
     "shell.execute_reply": "2025-10-08T10:12:44.972984Z"
    }
   },
   "outputs": [
    {
     "data": {
      "text/plain": [
       "{(0, 'p'): [('c4', 'p')],\n",
       " (1, 'h'): [('c2', 'h')],\n",
       " (2, 'm'): [('c1', 'm'), ('c2', 'm'), ('c3', 'm'), ('c4', 'm'), ('c5', 'm')]}"
      ]
     },
     "execution_count": 31,
     "metadata": {},
     "output_type": "execute_result"
    }
   ],
   "source": [
    "nw.get_variables()"
   ]
  },
  {
   "cell_type": "markdown",
   "id": "e9f34762",
   "metadata": {},
   "source": [
    "- for other types of errors, we will need a different setup (equations are too simple here)\n",
    "- just a heat exchanger is sufficient"
   ]
  },
  {
   "cell_type": "code",
   "execution_count": 32,
   "id": "ffd2adbb",
   "metadata": {
    "execution": {
     "iopub.execute_input": "2025-10-08T10:12:44.975773Z",
     "iopub.status.busy": "2025-10-08T10:12:44.975581Z",
     "iopub.status.idle": "2025-10-08T10:12:44.978623Z",
     "shell.execute_reply": "2025-10-08T10:12:44.977987Z"
    }
   },
   "outputs": [],
   "source": [
    "from tespy.components import Source, Sink, MovingBoundaryHeatExchanger"
   ]
  },
  {
   "cell_type": "code",
   "execution_count": 33,
   "id": "f22cea61",
   "metadata": {
    "execution": {
     "iopub.execute_input": "2025-10-08T10:12:44.981158Z",
     "iopub.status.busy": "2025-10-08T10:12:44.980971Z",
     "iopub.status.idle": "2025-10-08T10:12:45.003553Z",
     "shell.execute_reply": "2025-10-08T10:12:45.002901Z"
    }
   },
   "outputs": [],
   "source": [
    "nw = Network()\n",
    "nw.units.set_defaults(\n",
    "    temperature=\"°C\",\n",
    "    pressure=\"bar\"\n",
    ")"
   ]
  },
  {
   "cell_type": "code",
   "execution_count": 34,
   "id": "034edac1",
   "metadata": {
    "execution": {
     "iopub.execute_input": "2025-10-08T10:12:45.006306Z",
     "iopub.status.busy": "2025-10-08T10:12:45.006116Z",
     "iopub.status.idle": "2025-10-08T10:12:45.017731Z",
     "shell.execute_reply": "2025-10-08T10:12:45.017282Z"
    }
   },
   "outputs": [],
   "source": [
    "so1 = Source(\"source 1\")\n",
    "so2 = Source(\"source 2\")\n",
    "\n",
    "si1 = Sink(\"sink 1\")\n",
    "si2 = Sink(\"sink 2\")\n",
    "\n",
    "heatex = MovingBoundaryHeatExchanger(\"heatexchanger\")\n",
    "\n",
    "c1 = Connection(so1, \"out1\", heatex, \"in1\", label=\"c1\")\n",
    "c2 = Connection(heatex, \"out1\", si1, \"in1\", label=\"c2\")\n",
    "d1 = Connection(so2, \"out1\", heatex, \"in2\", label=\"d1\")\n",
    "d2 = Connection(heatex, \"out2\", si2, \"in1\", label=\"d2\")\n",
    "\n",
    "nw.add_conns(c1, c2, d1, d2)"
   ]
  },
  {
   "cell_type": "markdown",
   "id": "7b40f287",
   "metadata": {},
   "source": [
    "- we make a specification that is impossible, minimum terminal temperature\n",
    "  difference of 25 K but at the same time fixing temperature at hot side outlet\n",
    "  and cold side inlet (leading to a temperature difference of 20)"
   ]
  },
  {
   "cell_type": "code",
   "execution_count": 35,
   "id": "8495eb3e",
   "metadata": {
    "execution": {
     "iopub.execute_input": "2025-10-08T10:12:45.020406Z",
     "iopub.status.busy": "2025-10-08T10:12:45.020225Z",
     "iopub.status.idle": "2025-10-08T10:12:45.023528Z",
     "shell.execute_reply": "2025-10-08T10:12:45.022908Z"
    }
   },
   "outputs": [],
   "source": [
    "c1.set_attr(fluid={\"air\": 1}, T=200, p=1, m=5)\n",
    "c2.set_attr(T=110)\n",
    "d1.set_attr(fluid={\"water\": 1}, T=90, p=1)\n",
    "heatex.set_attr(dp1=0, dp2=0, ttd_min=25)"
   ]
  },
  {
   "cell_type": "code",
   "execution_count": 36,
   "id": "2376e858",
   "metadata": {
    "execution": {
     "iopub.execute_input": "2025-10-08T10:12:45.026074Z",
     "iopub.status.busy": "2025-10-08T10:12:45.025895Z",
     "iopub.status.idle": "2025-10-08T10:12:45.058795Z",
     "shell.execute_reply": "2025-10-08T10:12:45.058345Z"
    }
   },
   "outputs": [
    {
     "name": "stderr",
     "output_type": "stream",
     "text": [
      "Found singularity in Jacobian matrix, calculation aborted! The setup of you problem seems to be solvable. It failed due to partial derivatives in the Jacobian being zero, which were expected not to be zero, or the other way around. The reason for this usually lies in starting value selection or bad convergence. The following equations (key of outer dict) may have an unexpected zero/non-zero in the partial derivative towards the variable (value of outer dict) and be the root of evil: {1: ('heatexchanger', ('ttd_min', 0))}: {(0, 'h'): [('d2', 'h')]}The following equations of your problem do not depend on any variable: ('heatexchanger', ('ttd_min', 0))\n",
      "\n"
     ]
    },
    {
     "name": "stdout",
     "output_type": "stream",
     "text": [
      "\n",
      " iter  | residual   | progress   | massflow   | pressure   | enthalpy   | fluid      | component  \n",
      "-------+------------+------------+------------+------------+------------+------------+------------\n",
      " 1     | 3.20e+06   | 0 %        | 1.15e+00   | 0.00e+00   | 1.48e+05   | 0.00e+00   | 0.00e+00   \n",
      " 2     | 1.71e+05   | 8 %        | NaN        | NaN        | NaN        | NaN        | NaN        \n",
      "Total iterations: 2, Calculation time: 0.01 s, Iterations per second: 295.03\n"
     ]
    }
   ],
   "source": [
    "nw.solve(\"design\")"
   ]
  },
  {
   "cell_type": "markdown",
   "id": "0ac31e7f",
   "metadata": {},
   "source": [
    "- solver tells us potentially numerical issue (not always correct!)\n",
    "- the heat exchanger ttd_min function should depend on variable (0, \"h\")\n",
    "  representing \"h\" of connection \"d2\"\n",
    "- there is a zero in the Jacobian of that function towards that number while\n",
    "  there should be a non-zero entry (or there is a non-zero entry while a zero\n",
    "  entry is expected)\n",
    "- extra piece of information: all entries in the Jacobian of the equation are\n",
    "  zero (they never should be!!)\n",
    "- extract the incidence matrix and the Jacobian to identify issue if we want"
   ]
  },
  {
   "cell_type": "code",
   "execution_count": 37,
   "id": "c6d242e6",
   "metadata": {
    "execution": {
     "iopub.execute_input": "2025-10-08T10:12:45.061151Z",
     "iopub.status.busy": "2025-10-08T10:12:45.060968Z",
     "iopub.status.idle": "2025-10-08T10:12:45.064903Z",
     "shell.execute_reply": "2025-10-08T10:12:45.064501Z"
    }
   },
   "outputs": [
    {
     "data": {
      "text/plain": [
       "{('heatexchanger', ('energy_balance_constraints', 0)): [(0, 'h'), (1, 'm')],\n",
       " ('heatexchanger', ('ttd_min', 0)): [(0, 'h')]}"
      ]
     },
     "execution_count": 37,
     "metadata": {},
     "output_type": "execute_result"
    }
   ],
   "source": [
    "nw.get_equations_with_dependents()"
   ]
  },
  {
   "cell_type": "markdown",
   "id": "121ee873",
   "metadata": {},
   "source": [
    "- equation number is 1\n",
    "- variable number is 0\n",
    "\n",
    "- in the incidence matrix it is indicated which entries (rows = equations,\n",
    "  columns = variables) are supposed to be zero or non-zero\n",
    "- in the Jacobian the actual values are stored\n",
    "- see that a non-zero is expected for (1, 0) but there is a zero instead"
   ]
  },
  {
   "cell_type": "code",
   "execution_count": 38,
   "id": "9861665b",
   "metadata": {
    "execution": {
     "iopub.execute_input": "2025-10-08T10:12:45.067401Z",
     "iopub.status.busy": "2025-10-08T10:12:45.067225Z",
     "iopub.status.idle": "2025-10-08T10:12:45.071131Z",
     "shell.execute_reply": "2025-10-08T10:12:45.070583Z"
    }
   },
   "outputs": [
    {
     "data": {
      "text/plain": [
       "array([[1., 1.],\n",
       "       [1., 0.]])"
      ]
     },
     "execution_count": 38,
     "metadata": {},
     "output_type": "execute_result"
    }
   ],
   "source": [
    "nw._incidence_matrix_dense"
   ]
  },
  {
   "cell_type": "code",
   "execution_count": 39,
   "id": "d4319715",
   "metadata": {
    "execution": {
     "iopub.execute_input": "2025-10-08T10:12:45.073664Z",
     "iopub.status.busy": "2025-10-08T10:12:45.073491Z",
     "iopub.status.idle": "2025-10-08T10:12:45.077523Z",
     "shell.execute_reply": "2025-10-08T10:12:45.076903Z"
    }
   },
   "outputs": [
    {
     "data": {
      "text/plain": [
       "array([[2.56784202e-01, 2.44827106e+06],\n",
       "       [0.00000000e+00, 0.00000000e+00]])"
      ]
     },
     "execution_count": 39,
     "metadata": {},
     "output_type": "execute_result"
    }
   ],
   "source": [
    "nw.jacobian"
   ]
  },
  {
   "cell_type": "markdown",
   "id": "a4edd1c3",
   "metadata": {},
   "source": [
    "#### Postprocessing warnings/errors\n",
    "\n",
    "- typical problem with kA/UA specification and approaching temperatures\n",
    "- using flat temperature on water side (just evaporating fluid)"
   ]
  },
  {
   "cell_type": "code",
   "execution_count": 40,
   "id": "9a8f5132",
   "metadata": {
    "execution": {
     "iopub.execute_input": "2025-10-08T10:12:45.080171Z",
     "iopub.status.busy": "2025-10-08T10:12:45.079981Z",
     "iopub.status.idle": "2025-10-08T10:12:45.112881Z",
     "shell.execute_reply": "2025-10-08T10:12:45.112134Z"
    }
   },
   "outputs": [
    {
     "name": "stdout",
     "output_type": "stream",
     "text": [
      "\n",
      " iter  | residual   | progress   | massflow   | pressure   | enthalpy   | fluid      | component  \n",
      "-------+------------+------------+------------+------------+------------+------------+------------\n",
      " 1     | 2.73e+06   | 0 %        | 1.21e+00   | 0.00e+00   | 0.00e+00   | 0.00e+00   | 0.00e+00   \n",
      " 2     | 5.72e-07   | 100 %      | 2.53e-13   | 0.00e+00   | 0.00e+00   | 0.00e+00   | 0.00e+00   \n",
      " 3     | 5.82e-11   | 100 %      | 2.58e-17   | 0.00e+00   | 0.00e+00   | 0.00e+00   | 0.00e+00   \n",
      " 4     | 0.00e+00   | 100 %      | 0.00e+00   | 0.00e+00   | 0.00e+00   | 0.00e+00   | 0.00e+00   \n",
      "Total iterations: 4, Calculation time: 0.00 s, Iterations per second: 2916.26\n"
     ]
    }
   ],
   "source": [
    "heatex.set_attr(ttd_min=None)\n",
    "d1.set_attr(x=0, T=None)\n",
    "d2.set_attr(x=1)\n",
    "nw.solve(\"design\")"
   ]
  },
  {
   "cell_type": "markdown",
   "id": "2447e853",
   "metadata": {},
   "source": [
    "- implement a version, where the air outlet temperature is obtained from kA\n",
    "- the larger kA, the smaller the gap between the air outlet temperature and\n",
    "  the water evaporation temperature\n",
    "- calculation converges due to internal convergence helpers, but result is not\n",
    "  correct"
   ]
  },
  {
   "cell_type": "code",
   "execution_count": null,
   "id": "ba2959df",
   "metadata": {
    "execution": {
     "iopub.execute_input": "2025-10-08T10:12:45.115312Z",
     "iopub.status.busy": "2025-10-08T10:12:45.115078Z",
     "iopub.status.idle": "2025-10-08T10:12:45.151388Z",
     "shell.execute_reply": "2025-10-08T10:12:45.150683Z"
    }
   },
   "outputs": [
    {
     "name": "stderr",
     "output_type": "stream",
     "text": [
      "Invalid value for ttd_l: ttd_l = -148.35112323967502 below minimum value (0) at component heatexchanger.\n"
     ]
    },
    {
     "name": "stderr",
     "output_type": "stream",
     "text": [
      "Invalid value for ttd_min: ttd_min = -148.35112323967502 below minimum value (0) at component heatexchanger.\n"
     ]
    },
    {
     "name": "stderr",
     "output_type": "stream",
     "text": [
      "Invalid value for eff_hot: eff_hot = 2.4626071825331164 above maximum value (1) at component heatexchanger.\n"
     ]
    },
    {
     "name": "stderr",
     "output_type": "stream",
     "text": [
      "Invalid value for eff_max: eff_max = 2.4626071825331164 above maximum value (1) at component heatexchanger.\n"
     ]
    },
    {
     "name": "stderr",
     "output_type": "stream",
     "text": [
      "Invalid value for td_pinch: td_pinch = -148.35112323967502 below minimum value (0) at component heatexchanger.\n"
     ]
    },
    {
     "name": "stderr",
     "output_type": "stream",
     "text": [
      "The simulation converged but the calculated result nan watt / kelvin for the fixed input parameter kA is not equal to the originally specified value: 115443.49187139163. Usually, this can happen, when a method internally manipulates the associated equation during iteration in order to allow progress in situations, when the equation is otherwise not well defined for the currentvalues of the variables, e.g. in case a negative root would need to be evaluated.  Often, this can happen during the first iterations and then will resolve itself as convergence progresses. In this case it did not, meaning convergence was not actually achieved.\n"
     ]
    },
    {
     "name": "stdout",
     "output_type": "stream",
     "text": [
      "\n",
      " iter  | residual   | progress   | massflow   | pressure   | enthalpy   | fluid      | component  \n",
      "-------+------------+------------+------------+------------+------------+------------+------------\n",
      " 1     | 4.12e+06   | 0 %        | 6.22e-02   | 0.00e+00   | 2.81e+04   | 0.00e+00   | 0.00e+00   \n",
      " 2     | 6.59e+05   | 2 %        | 2.92e-01   | 0.00e+00   | 1.32e+05   | 0.00e+00   | 0.00e+00   \n",
      " 3     | 9.98e-03   | 88 %       | 1.41e-14   | 0.00e+00   | 1.41e-03   | 0.00e+00   | 0.00e+00   \n",
      " 4     | 5.21e-10   | 100 %      | 1.03e-16   | 0.00e+00   | 4.66e-11   | 0.00e+00   | 0.00e+00   \n",
      " 5     | 0.00e+00   | 100 %      | 0.00e+00   | 0.00e+00   | 0.00e+00   | 0.00e+00   | 0.00e+00   \n",
      "Total iterations: 5, Calculation time: 0.01 s, Iterations per second: 835.69\n"
     ]
    }
   ],
   "source": [
    "heatex.set_attr(kA=heatex.kA.val * 10)  # this should pin the air outlet temperature very close to the evaporation temperature\n",
    "c2.set_attr(T=None)\n",
    "nw.solve(\"design\")"
   ]
  },
  {
   "cell_type": "code",
   "execution_count": 42,
   "id": "2a7a6015",
   "metadata": {
    "execution": {
     "iopub.execute_input": "2025-10-08T10:12:45.154041Z",
     "iopub.status.busy": "2025-10-08T10:12:45.153788Z",
     "iopub.status.idle": "2025-10-08T10:12:45.157405Z",
     "shell.execute_reply": "2025-10-08T10:12:45.156868Z"
    }
   },
   "outputs": [
    {
     "data": {
      "text/plain": [
       "2"
      ]
     },
     "execution_count": 42,
     "metadata": {},
     "output_type": "execute_result"
    }
   ],
   "source": [
    "nw.status"
   ]
  }
 ],
 "metadata": {
  "kernelspec": {
   "display_name": "tespy-user-meeting-2025",
   "language": "python",
   "name": "python3"
  },
  "language_info": {
   "codemirror_mode": {
    "name": "ipython",
    "version": 3
   },
   "file_extension": ".py",
   "mimetype": "text/x-python",
   "name": "python",
   "nbconvert_exporter": "python",
   "pygments_lexer": "ipython3",
   "version": "3.13.6"
  }
 },
 "nbformat": 4,
 "nbformat_minor": 5
}
