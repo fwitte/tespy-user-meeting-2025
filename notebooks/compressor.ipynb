{
 "cells": [
  {
   "cell_type": "markdown",
   "id": "d635f0f8",
   "metadata": {},
   "source": [
    "# PolynomialCompressor class"
   ]
  }
 ],
 "metadata": {
  "language_info": {
   "name": "python"
  }
 },
 "nbformat": 4,
 "nbformat_minor": 5
}
