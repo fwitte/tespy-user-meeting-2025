{
 "cells": [
  {
   "cell_type": "markdown",
   "id": "d635f0f8",
   "metadata": {},
   "source": [
    "# PolynomialCompressor class\n",
    "\n",
    "- Off-the-shelf compressors for refrigeration machines or heat pumps\n",
    "- Use datasheet to compute polynomials for isentropic and volumetric efficiency\n",
    "  as function of evaporation and condensation temperature (DIN EN12900)"
   ]
  },
  {
   "cell_type": "markdown",
   "id": "43ef4296",
   "metadata": {},
   "source": []
  }
 ],
 "metadata": {
  "language_info": {
   "name": "python"
  }
 },
 "nbformat": 4,
 "nbformat_minor": 5
}
