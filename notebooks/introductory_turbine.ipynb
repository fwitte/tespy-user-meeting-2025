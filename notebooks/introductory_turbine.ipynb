{
 "cells": [
  {
   "cell_type": "markdown",
   "id": "35619256",
   "metadata": {},
   "source": [
    "# Introductory tutorial\n",
    "\n",
    "## tespy overview\n",
    "\n",
    "- system of equations to describe fluid state in model\n",
    "- solve for\n",
    "  - material flows: mass flow, pressure, enthalpy of each connection point\n",
    "    between two components\n",
    "  - non-material flows (power,heat): energy flow of each connection point\n",
    "    between two components\n",
    "  - component variables: specific components can have variables, e.g.\n",
    "    compressor RPM, pipe diameter\n",
    "- equation based solver: specifications can be swapped, no change to model or\n",
    "  solving procedure required\n",
    "- offdesign simulation: functions to make relation between actual state and \n",
    "  design state of the system\n",
    "- inject user defined equations into the solver\n",
    "\n",
    "## topics\n",
    "\n",
    "- structure of models\n",
    "- set up a simple model\n",
    "- make specifications to the model and solve it\n",
    "- retrieve results from the model\n",
    "- postprocessings: cycle diagrams and exergy analysis\n",
    "\n",
    "## structure of models\n",
    "\n",
    "- Network\n",
    "- Components\n",
    "- Connections/PowerConnections/(HeatConnections)\n",
    "- UserDefinedEquations\n",
    "- FluidPropertyWrappers\n",
    "\n",
    "### Network"
   ]
  },
  {
   "cell_type": "code",
   "execution_count": 15,
   "id": "ee89e97a",
   "metadata": {},
   "outputs": [
    {
     "data": {
      "text/plain": [
       "<tespy.networks.network.Network at 0x71d54991b250>"
      ]
     },
     "execution_count": 15,
     "metadata": {},
     "output_type": "execute_result"
    }
   ],
   "source": [
    "from tespy.networks import Network\n",
    "\n",
    "\n",
    "nw = Network()  # sometimes you'll see Network(fluids=[...]), that is long outdated, ChatGPT?\n",
    "nw"
   ]
  },
  {
   "cell_type": "code",
   "execution_count": 16,
   "id": "5c32f1fa",
   "metadata": {},
   "outputs": [
    {
     "data": {
      "text/plain": [
       "Network Units\n",
       "-------------\n",
       "Quantity                  | Unit      \n",
       "--------------------------+-----------\n",
       "temperature               | kelvin    \n",
       "temperature_difference    | delta_degC\n",
       "enthalpy                  | J/kg      \n",
       "specific_energy           | J/kg      \n",
       "entropy                   | J/kg/K    \n",
       "pressure                  | Pa        \n",
       "mass_flow                 | kg/s      \n",
       "volumetric_flow           | m3/s      \n",
       "specific_volume           | m3/kg     \n",
       "power                     | W         \n",
       "heat                      | W         \n",
       "quality                   | 1         \n",
       "vapor_mass_fraction       | 1         \n",
       "efficiency                | 1         \n",
       "ratio                     | 1         \n",
       "length                    | m         \n",
       "speed                     | m/s       \n",
       "area                      | m2        \n",
       "thermal_conductivity      | W/m/K     \n",
       "heat_transfer_coefficient | W/K       \n",
       "not specified             | 1         "
      ]
     },
     "execution_count": 16,
     "metadata": {},
     "output_type": "execute_result"
    }
   ],
   "source": [
    "nw.units"
   ]
  },
  {
   "cell_type": "code",
   "execution_count": 17,
   "id": "e72d14cc",
   "metadata": {},
   "outputs": [
    {
     "data": {
      "text/plain": [
       "Network Units\n",
       "-------------\n",
       "Quantity                  | Unit      \n",
       "--------------------------+-----------\n",
       "temperature               | °C        \n",
       "temperature_difference    | delta_degC\n",
       "enthalpy                  | J/kg      \n",
       "specific_energy           | J/kg      \n",
       "entropy                   | J/kg/K    \n",
       "pressure                  | bar       \n",
       "mass_flow                 | kg/s      \n",
       "volumetric_flow           | m3/s      \n",
       "specific_volume           | m3/kg     \n",
       "power                     | kW        \n",
       "heat                      | W         \n",
       "quality                   | 1         \n",
       "vapor_mass_fraction       | 1         \n",
       "efficiency                | 1         \n",
       "ratio                     | 1         \n",
       "length                    | m         \n",
       "speed                     | m/s       \n",
       "area                      | m2        \n",
       "thermal_conductivity      | W/m/K     \n",
       "heat_transfer_coefficient | W/K       \n",
       "not specified             | 1         "
      ]
     },
     "execution_count": 17,
     "metadata": {},
     "output_type": "execute_result"
    }
   ],
   "source": [
    "nw.units.set_defaults(\n",
    "    temperature=\"°C\",\n",
    "    pressure=\"bar\",\n",
    "    power=\"kW\"\n",
    ")\n",
    "nw.units"
   ]
  },
  {
   "cell_type": "markdown",
   "id": "9cfe5a39",
   "metadata": {},
   "source": [
    "## Components and connections"
   ]
  },
  {
   "cell_type": "code",
   "execution_count": 18,
   "id": "b2da872e",
   "metadata": {},
   "outputs": [],
   "source": [
    "from tespy.components import Turbine, Source, Sink\n",
    "from tespy.connections import Connection\n",
    "\n",
    "\n",
    "steam_inflow = Source(\"steam inflow\")\n",
    "turbine = Turbine(\"turbine\")\n",
    "waste_steam = Sink(\"waste steam\")\n",
    "\n",
    "c1 = Connection(steam_inflow, \"out1\", turbine, \"in1\", label=\"c1\")\n",
    "c2 = Connection(turbine, \"out1\", waste_steam, \"in1\", label=\"c2\")\n",
    "\n",
    "nw.add_conns(c1, c2)"
   ]
  },
  {
   "cell_type": "code",
   "execution_count": 19,
   "id": "828c84ed",
   "metadata": {},
   "outputs": [],
   "source": [
    "c1.set_attr(fluid={\"REFPROP::Pentane[0.9]&IPentane[0.1]|mass\": 1}, T=175, td_dew=50, m=1)\n",
    "c2.set_attr(T_dew=30)"
   ]
  },
  {
   "cell_type": "code",
   "execution_count": 20,
   "id": "492aad39",
   "metadata": {},
   "outputs": [],
   "source": [
    "turbine.set_attr(eta_s=0.8)"
   ]
  },
  {
   "cell_type": "code",
   "execution_count": 21,
   "id": "c7daff4d",
   "metadata": {},
   "outputs": [
    {
     "name": "stdout",
     "output_type": "stream",
     "text": [
      "\n",
      " iter  | residual   | progress   | massflow   | pressure   | enthalpy   | fluid      | component  \n",
      "-------+------------+------------+------------+------------+------------+------------+------------\n",
      " 1     | 1.81e+05   | 8 %        | 0.00e+00   | 0.00e+00   | 1.81e+05   | 0.00e+00   | 0.00e+00   \n",
      " 2     | 2.91e-11   | 100 %      | 0.00e+00   | 0.00e+00   | 2.91e-11   | 0.00e+00   | 0.00e+00   \n",
      " 3     | 2.91e-11   | 100 %      | 0.00e+00   | 0.00e+00   | 2.91e-11   | 0.00e+00   | 0.00e+00   \n",
      " 4     | 2.91e-11   | 100 %      | 0.00e+00   | 0.00e+00   | 2.91e-11   | 0.00e+00   | 0.00e+00   \n",
      "Total iterations: 4, Calculation time: 0.00 s, Iterations per second: 912.80\n"
     ]
    }
   ],
   "source": [
    "nw.solve(\"design\")"
   ]
  },
  {
   "cell_type": "code",
   "execution_count": 22,
   "id": "3201aaca",
   "metadata": {},
   "outputs": [
    {
     "name": "stdout",
     "output_type": "stream",
     "text": [
      "\n",
      "##### RESULTS (Turbine) #####\n",
      "+---------+-----------+----------+----------+----------+\n",
      "|         |         P |       pr |       dp |    eta_s |\n",
      "|---------+-----------+----------+----------+----------|\n",
      "| turbine | -9.03e+01 | 8.26e-02 | 9.35e+00 | \u001b[94m8.00e-01\u001b[0m |\n",
      "+---------+-----------+----------+----------+----------+\n",
      "##### RESULTS (Connection) #####\n",
      "+----+-----------+-----------+-----------+-----------+-----------+----------------------+\n",
      "|    |         m |         p |         h |         T |         x | phase                |\n",
      "|----+-----------+-----------+-----------+-----------+-----------+----------------------|\n",
      "| c1 | \u001b[94m1.000e+00\u001b[0m | 1.019e+01 | 6.197e+05 | \u001b[94m1.750e+02\u001b[0m | 1.285e+00 | phase not recognized |\n",
      "| c2 | 1.000e+00 | 8.417e-01 | 5.294e+05 | 1.245e+02 | 1.513e+00 | phase not recognized |\n",
      "+----+-----------+-----------+-----------+-----------+-----------+----------------------+\n"
     ]
    }
   ],
   "source": [
    "nw.print_results()"
   ]
  },
  {
   "cell_type": "code",
   "execution_count": 23,
   "id": "45c2df69",
   "metadata": {},
   "outputs": [
    {
     "data": {
      "text/html": [
       "<div>\n",
       "<style scoped>\n",
       "    .dataframe tbody tr th:only-of-type {\n",
       "        vertical-align: middle;\n",
       "    }\n",
       "\n",
       "    .dataframe tbody tr th {\n",
       "        vertical-align: top;\n",
       "    }\n",
       "\n",
       "    .dataframe thead th {\n",
       "        text-align: right;\n",
       "    }\n",
       "</style>\n",
       "<table border=\"1\" class=\"dataframe\">\n",
       "  <thead>\n",
       "    <tr style=\"text-align: right;\">\n",
       "      <th></th>\n",
       "      <th>m</th>\n",
       "      <th>m_unit</th>\n",
       "      <th>p</th>\n",
       "      <th>p_unit</th>\n",
       "      <th>h</th>\n",
       "      <th>h_unit</th>\n",
       "      <th>T</th>\n",
       "      <th>T_unit</th>\n",
       "      <th>v</th>\n",
       "      <th>v_unit</th>\n",
       "      <th>...</th>\n",
       "      <th>x</th>\n",
       "      <th>x_unit</th>\n",
       "      <th>Td_bp</th>\n",
       "      <th>Td_bp_unit</th>\n",
       "      <th>td_dew</th>\n",
       "      <th>td_dew_unit</th>\n",
       "      <th>td_bubble</th>\n",
       "      <th>td_bubble_unit</th>\n",
       "      <th>Pentane[0.9]&amp;IPentane[0.1]|mass</th>\n",
       "      <th>phase</th>\n",
       "    </tr>\n",
       "  </thead>\n",
       "  <tbody>\n",
       "    <tr>\n",
       "      <th>c1</th>\n",
       "      <td>1.0</td>\n",
       "      <td>kilogram / second</td>\n",
       "      <td>10.194646</td>\n",
       "      <td>bar</td>\n",
       "      <td>619662.315505</td>\n",
       "      <td>joule / kilogram</td>\n",
       "      <td>175.000000</td>\n",
       "      <td>degree_Celsius</td>\n",
       "      <td>0.043874</td>\n",
       "      <td>m3 / second</td>\n",
       "      <td>...</td>\n",
       "      <td>1.285275</td>\n",
       "      <td>dimensionless</td>\n",
       "      <td>50.108472</td>\n",
       "      <td>delta_degree_Celsius</td>\n",
       "      <td>50.000000</td>\n",
       "      <td>delta_degree_Celsius</td>\n",
       "      <td>-50.108472</td>\n",
       "      <td>delta_degree_Celsius</td>\n",
       "      <td>1.0</td>\n",
       "      <td>phase not recognized</td>\n",
       "    </tr>\n",
       "    <tr>\n",
       "      <th>c2</th>\n",
       "      <td>1.0</td>\n",
       "      <td>kilogram / second</td>\n",
       "      <td>0.841660</td>\n",
       "      <td>bar</td>\n",
       "      <td>529393.071161</td>\n",
       "      <td>joule / kilogram</td>\n",
       "      <td>124.499011</td>\n",
       "      <td>degree_Celsius</td>\n",
       "      <td>0.536277</td>\n",
       "      <td>m3 / second</td>\n",
       "      <td>...</td>\n",
       "      <td>1.513074</td>\n",
       "      <td>dimensionless</td>\n",
       "      <td>94.708971</td>\n",
       "      <td>delta_degree_Celsius</td>\n",
       "      <td>94.499011</td>\n",
       "      <td>delta_degree_Celsius</td>\n",
       "      <td>-94.708971</td>\n",
       "      <td>delta_degree_Celsius</td>\n",
       "      <td>1.0</td>\n",
       "      <td>phase not recognized</td>\n",
       "    </tr>\n",
       "  </tbody>\n",
       "</table>\n",
       "<p>2 rows × 24 columns</p>\n",
       "</div>"
      ],
      "text/plain": [
       "      m             m_unit          p p_unit              h            h_unit  \\\n",
       "c1  1.0  kilogram / second  10.194646    bar  619662.315505  joule / kilogram   \n",
       "c2  1.0  kilogram / second   0.841660    bar  529393.071161  joule / kilogram   \n",
       "\n",
       "             T          T_unit         v       v_unit  ...         x  \\\n",
       "c1  175.000000  degree_Celsius  0.043874  m3 / second  ...  1.285275   \n",
       "c2  124.499011  degree_Celsius  0.536277  m3 / second  ...  1.513074   \n",
       "\n",
       "           x_unit      Td_bp            Td_bp_unit     td_dew  \\\n",
       "c1  dimensionless  50.108472  delta_degree_Celsius  50.000000   \n",
       "c2  dimensionless  94.708971  delta_degree_Celsius  94.499011   \n",
       "\n",
       "             td_dew_unit  td_bubble        td_bubble_unit  \\\n",
       "c1  delta_degree_Celsius -50.108472  delta_degree_Celsius   \n",
       "c2  delta_degree_Celsius -94.708971  delta_degree_Celsius   \n",
       "\n",
       "    Pentane[0.9]&IPentane[0.1]|mass                 phase  \n",
       "c1                              1.0  phase not recognized  \n",
       "c2                              1.0  phase not recognized  \n",
       "\n",
       "[2 rows x 24 columns]"
      ]
     },
     "execution_count": 23,
     "metadata": {},
     "output_type": "execute_result"
    }
   ],
   "source": [
    "nw.results[\"Connection\"]"
   ]
  },
  {
   "cell_type": "code",
   "execution_count": 24,
   "id": "5c76ca0a",
   "metadata": {},
   "outputs": [
    {
     "data": {
      "text/html": [
       "<div>\n",
       "<style scoped>\n",
       "    .dataframe tbody tr th:only-of-type {\n",
       "        vertical-align: middle;\n",
       "    }\n",
       "\n",
       "    .dataframe tbody tr th {\n",
       "        vertical-align: top;\n",
       "    }\n",
       "\n",
       "    .dataframe thead th {\n",
       "        text-align: right;\n",
       "    }\n",
       "</style>\n",
       "<table border=\"1\" class=\"dataframe\">\n",
       "  <thead>\n",
       "    <tr style=\"text-align: right;\">\n",
       "      <th></th>\n",
       "      <th>P</th>\n",
       "      <th>P_unit</th>\n",
       "      <th>pr</th>\n",
       "      <th>pr_unit</th>\n",
       "      <th>dp</th>\n",
       "      <th>dp_unit</th>\n",
       "      <th>eta_s</th>\n",
       "      <th>eta_s_unit</th>\n",
       "    </tr>\n",
       "  </thead>\n",
       "  <tbody>\n",
       "    <tr>\n",
       "      <th>turbine</th>\n",
       "      <td>-90.269244</td>\n",
       "      <td>kilowatt</td>\n",
       "      <td>0.082559</td>\n",
       "      <td>dimensionless</td>\n",
       "      <td>9.352986</td>\n",
       "      <td>bar</td>\n",
       "      <td>0.8</td>\n",
       "      <td>dimensionless</td>\n",
       "    </tr>\n",
       "  </tbody>\n",
       "</table>\n",
       "</div>"
      ],
      "text/plain": [
       "                 P    P_unit        pr        pr_unit        dp dp_unit eta_s  \\\n",
       "turbine -90.269244  kilowatt  0.082559  dimensionless  9.352986     bar   0.8   \n",
       "\n",
       "            eta_s_unit  \n",
       "turbine  dimensionless  "
      ]
     },
     "execution_count": 24,
     "metadata": {},
     "output_type": "execute_result"
    }
   ],
   "source": [
    "nw.results[\"Turbine\"]"
   ]
  },
  {
   "cell_type": "code",
   "execution_count": 25,
   "id": "c27189cb",
   "metadata": {},
   "outputs": [],
   "source": [
    "from tespy.components import Generator, PowerSink\n",
    "from tespy.connections import PowerConnection\n",
    "\n",
    "\n",
    "generator = Generator(\"generator\")\n",
    "grid = PowerSink(\"grid\")\n",
    "\n",
    "e1 = PowerConnection(turbine, \"power\", generator, \"power_in\", label=\"e1\")\n",
    "e2 = PowerConnection(generator, \"power_out\", grid, \"power\", label=\"e2\")\n",
    "\n",
    "nw.add_conns(e1, e2)"
   ]
  },
  {
   "cell_type": "code",
   "execution_count": 26,
   "id": "d23721f2",
   "metadata": {},
   "outputs": [],
   "source": [
    "generator.set_attr(eta=0.98)"
   ]
  },
  {
   "cell_type": "code",
   "execution_count": 27,
   "id": "1f00da59",
   "metadata": {},
   "outputs": [
    {
     "name": "stdout",
     "output_type": "stream",
     "text": [
      "\n",
      " iter  | residual   | progress   | massflow   | pressure   | enthalpy   | fluid      | component  \n",
      "-------+------------+------------+------------+------------+------------+------------+------------\n",
      " 1     | 9.03e+04   | 11 %       | 0.00e+00   | 0.00e+00   | 1.46e-10   | 0.00e+00   | 9.03e+04   \n",
      " 2     | 4.29e-03   | 92 %       | 0.00e+00   | 0.00e+00   | 1.46e-10   | 0.00e+00   | 4.29e-03   \n",
      " 3     | 3.00e-10   | 100 %      | 0.00e+00   | 0.00e+00   | 1.46e-10   | 0.00e+00   | 1.16e-10   \n",
      " 4     | 2.16e-10   | 100 %      | 0.00e+00   | 0.00e+00   | 1.46e-10   | 0.00e+00   | 1.46e-11   \n",
      "Total iterations: 4, Calculation time: 0.01 s, Iterations per second: 447.21\n"
     ]
    }
   ],
   "source": [
    "nw.solve(\"design\")"
   ]
  },
  {
   "cell_type": "code",
   "execution_count": 28,
   "id": "8feac8a5",
   "metadata": {},
   "outputs": [
    {
     "data": {
      "text/html": [
       "<div>\n",
       "<style scoped>\n",
       "    .dataframe tbody tr th:only-of-type {\n",
       "        vertical-align: middle;\n",
       "    }\n",
       "\n",
       "    .dataframe tbody tr th {\n",
       "        vertical-align: top;\n",
       "    }\n",
       "\n",
       "    .dataframe thead th {\n",
       "        text-align: right;\n",
       "    }\n",
       "</style>\n",
       "<table border=\"1\" class=\"dataframe\">\n",
       "  <thead>\n",
       "    <tr style=\"text-align: right;\">\n",
       "      <th></th>\n",
       "      <th>E</th>\n",
       "      <th>E_unit</th>\n",
       "    </tr>\n",
       "  </thead>\n",
       "  <tbody>\n",
       "    <tr>\n",
       "      <th>e1</th>\n",
       "      <td>90.269244</td>\n",
       "      <td>kilowatt</td>\n",
       "    </tr>\n",
       "    <tr>\n",
       "      <th>e2</th>\n",
       "      <td>88.463859</td>\n",
       "      <td>kilowatt</td>\n",
       "    </tr>\n",
       "  </tbody>\n",
       "</table>\n",
       "</div>"
      ],
      "text/plain": [
       "            E    E_unit\n",
       "e1  90.269244  kilowatt\n",
       "e2  88.463859  kilowatt"
      ]
     },
     "execution_count": 28,
     "metadata": {},
     "output_type": "execute_result"
    }
   ],
   "source": [
    "nw.results[\"PowerConnection\"]"
   ]
  },
  {
   "cell_type": "code",
   "execution_count": 29,
   "id": "dbc6a708",
   "metadata": {},
   "outputs": [
    {
     "data": {
      "text/html": [
       "<div>\n",
       "<style scoped>\n",
       "    .dataframe tbody tr th:only-of-type {\n",
       "        vertical-align: middle;\n",
       "    }\n",
       "\n",
       "    .dataframe tbody tr th {\n",
       "        vertical-align: top;\n",
       "    }\n",
       "\n",
       "    .dataframe thead th {\n",
       "        text-align: right;\n",
       "    }\n",
       "</style>\n",
       "<table border=\"1\" class=\"dataframe\">\n",
       "  <thead>\n",
       "    <tr style=\"text-align: right;\">\n",
       "      <th></th>\n",
       "      <th>eta</th>\n",
       "      <th>eta_unit</th>\n",
       "      <th>delta_power</th>\n",
       "      <th>delta_power_unit</th>\n",
       "    </tr>\n",
       "  </thead>\n",
       "  <tbody>\n",
       "    <tr>\n",
       "      <th>generator</th>\n",
       "      <td>0.98</td>\n",
       "      <td>dimensionless</td>\n",
       "      <td>1.805385</td>\n",
       "      <td>kilowatt</td>\n",
       "    </tr>\n",
       "  </tbody>\n",
       "</table>\n",
       "</div>"
      ],
      "text/plain": [
       "            eta       eta_unit delta_power delta_power_unit\n",
       "generator  0.98  dimensionless    1.805385         kilowatt"
      ]
     },
     "execution_count": 29,
     "metadata": {},
     "output_type": "execute_result"
    }
   ],
   "source": [
    "nw.results[\"Generator\"]"
   ]
  },
  {
   "cell_type": "code",
   "execution_count": 30,
   "id": "ca9c6d9d",
   "metadata": {},
   "outputs": [
    {
     "name": "stdout",
     "output_type": "stream",
     "text": [
      "\n",
      " iter  | residual   | progress   | massflow   | pressure   | enthalpy   | fluid      | component  \n",
      "-------+------------+------------+------------+------------+------------+------------+------------\n",
      " 1     | 1.18e+04   | 21 %       | 1.30e-01   | 0.00e+00   | 1.46e-10   | 0.00e+00   | 0.00e+00   \n",
      " 2     | 6.84e-09   | 100 %      | 7.39e-14   | 0.00e+00   | 1.46e-10   | 0.00e+00   | 0.00e+00   \n",
      " 3     | 2.16e-10   | 100 %      | 4.90e-17   | 0.00e+00   | 1.46e-10   | 0.00e+00   | 0.00e+00   \n",
      " 4     | 2.16e-10   | 100 %      | 4.90e-17   | 0.00e+00   | 1.46e-10   | 0.00e+00   | 0.00e+00   \n",
      "Total iterations: 4, Calculation time: 0.01 s, Iterations per second: 406.95\n"
     ]
    }
   ],
   "source": [
    "e2.set_attr(E=100)\n",
    "c1.set_attr(m=None)\n",
    "nw.solve(\"design\")"
   ]
  },
  {
   "cell_type": "code",
   "execution_count": 31,
   "id": "4a65f58d",
   "metadata": {},
   "outputs": [
    {
     "data": {
      "text/plain": [
       "1.1304051237831045"
      ]
     },
     "execution_count": 31,
     "metadata": {},
     "output_type": "execute_result"
    }
   ],
   "source": [
    "c1.m.val"
   ]
  },
  {
   "cell_type": "code",
   "execution_count": 32,
   "id": "423c62ba",
   "metadata": {},
   "outputs": [
    {
     "data": {
      "text/html": [
       "1.1304051237831045 kilogram/second"
      ],
      "text/latex": [
       "$1.1304051237831045\\ \\frac{\\mathrm{kilogram}}{\\mathrm{second}}$"
      ],
      "text/plain": [
       "<Quantity(1.13040512, 'kilogram / second')>"
      ]
     },
     "execution_count": 32,
     "metadata": {},
     "output_type": "execute_result"
    }
   ],
   "source": [
    "c1.m.val_with_unit"
   ]
  },
  {
   "cell_type": "code",
   "execution_count": 33,
   "id": "190be4f6",
   "metadata": {},
   "outputs": [
    {
     "name": "stdout",
     "output_type": "stream",
     "text": [
      "\n",
      " iter  | residual   | progress   | massflow   | pressure   | enthalpy   | fluid      | component  \n",
      "-------+------------+------------+------------+------------+------------+------------+------------\n",
      " 1     | 2.45e+01   | 51 %       | 6.09e-01   | 1.17e+05   | 4.86e+04   | 0.00e+00   | 0.00e+00   \n",
      " 2     | 2.53e+05   | 6 %        | 8.06e-01   | 3.49e+04   | 8.28e+04   | 0.00e+00   | 0.00e+00   \n",
      " 3     | 5.98e+04   | 13 %       | 8.05e-02   | 1.84e+03   | 5.23e+04   | 0.00e+00   | 0.00e+00   \n",
      " 4     | 4.21e+03   | 26 %       | 3.66e-02   | 8.56e+02   | 1.32e+03   | 0.00e+00   | 0.00e+00   \n",
      " 5     | 5.68e+01   | 47 %       | 3.52e-04   | 1.85e+01   | 5.34e-01   | 0.00e+00   | 0.00e+00   \n",
      " 6     | 1.31e-02   | 87 %       | 2.34e-11   | 7.92e-03   | 2.51e-04   | 0.00e+00   | 0.00e+00   \n",
      " 7     | 3.43e-09   | 100 %      | 8.32e-16   | 2.21e-09   | 1.57e-10   | 0.00e+00   | 0.00e+00   \n",
      " 8     | 7.28e-10   | 100 %      | 7.69e-16   | 3.71e-10   | 1.25e-10   | 0.00e+00   | 0.00e+00   \n",
      "Total iterations: 8, Calculation time: 0.08 s, Iterations per second: 104.71\n"
     ]
    },
    {
     "data": {
      "text/plain": [
       "0.2008017376645629"
      ]
     },
     "execution_count": 33,
     "metadata": {},
     "output_type": "execute_result"
    }
   ],
   "source": [
    "c2.set_attr(T=100, T_dew=None)\n",
    "nw.solve(\"design\")\n",
    "c2.p.val"
   ]
  },
  {
   "cell_type": "code",
   "execution_count": 34,
   "id": "f9042def",
   "metadata": {},
   "outputs": [
    {
     "name": "stdout",
     "output_type": "stream",
     "text": [
      "\n",
      " iter  | residual   | progress   | massflow   | pressure   | enthalpy   | fluid      | component  \n",
      "-------+------------+------------+------------+------------+------------+------------+------------\n",
      " 1     | 1.96e+03   | 30 %       | 1.41e-02   | 1.74e-10   | 1.08e-10   | 0.00e+00   | 0.00e+00   \n",
      " 2     | 5.65e-10   | 100 %      | 3.39e-15   | 1.39e-10   | 1.09e-10   | 0.00e+00   | 0.00e+00   \n",
      " 3     | 6.70e-10   | 100 %      | 5.66e-16   | 3.36e-10   | 1.24e-10   | 0.00e+00   | 0.00e+00   \n",
      " 4     | 4.37e-10   | 100 %      | 6.47e-16   | 1.95e-10   | 1.20e-10   | 0.00e+00   | 0.00e+00   \n",
      "Total iterations: 4, Calculation time: 0.04 s, Iterations per second: 106.90\n"
     ]
    },
    {
     "data": {
      "text/plain": [
       "0.9615384615384616"
      ]
     },
     "execution_count": 34,
     "metadata": {},
     "output_type": "execute_result"
    }
   ],
   "source": [
    "e1.set_attr(E=104)\n",
    "generator.set_attr(eta=None)\n",
    "nw.solve(\"design\")\n",
    "generator.eta.val"
   ]
  },
  {
   "cell_type": "markdown",
   "id": "7647c173",
   "metadata": {},
   "source": [
    "## offdesign\n",
    "\n",
    "- Apply equations that take design state as reference\n",
    "- Various defaults implemented, implement your own by\n",
    "  - changing lookup table data\n",
    "  - implement user defined equations for the same purpose\n",
    "  - implement respective component equations"
   ]
  },
  {
   "cell_type": "code",
   "execution_count": 35,
   "id": "21adaa99",
   "metadata": {},
   "outputs": [
    {
     "name": "stdout",
     "output_type": "stream",
     "text": [
      "\n",
      " iter  | residual   | progress   | massflow   | pressure   | enthalpy   | fluid      | component  \n",
      "-------+------------+------------+------------+------------+------------+------------+------------\n",
      " 1     | 3.57e+04   | 16 %       | 1.78e-01   | 0.00e+00   | 3.57e+04   | 0.00e+00   | 0.00e+00   \n",
      " 2     | 6.37e+03   | 24 %       | 6.17e-02   | 0.00e+00   | 0.00e+00   | 0.00e+00   | 0.00e+00   \n",
      " 3     | 1.06e-09   | 100 %      | 1.03e-14   | 0.00e+00   | 0.00e+00   | 0.00e+00   | 0.00e+00   \n",
      " 4     | 0.00e+00   | 100 %      | 0.00e+00   | 0.00e+00   | 0.00e+00   | 0.00e+00   | 0.00e+00   \n",
      "Total iterations: 4, Calculation time: 0.01 s, Iterations per second: 365.06\n"
     ]
    }
   ],
   "source": [
    "e1.set_attr(E=None)\n",
    "generator.set_attr(eta=0.98)\n",
    "\n",
    "c2.set_attr(T=None, T_dew=20)\n",
    "\n",
    "nw.solve(\"design\")\n",
    "nw.save(\"design.json\")"
   ]
  },
  {
   "cell_type": "markdown",
   "id": "6cbe1ef9",
   "metadata": {},
   "source": [
    "### offdesign specifications\n",
    "\n",
    "- automatically unset the specifications in \"design\"\n",
    "- automatically set the specifications in \"offdesign\"\n",
    "- example:\n",
    "  - inlet pressure of turbine (combination of td_dew and T) as function of\n",
    "    cone law instead if explicit specification\n",
    "  - efficiency of turbine as function of mass flow instead of fixed value\n",
    "  - note: you have to take the decision, what is design and offdesign!"
   ]
  },
  {
   "cell_type": "code",
   "execution_count": 36,
   "id": "c125f32e",
   "metadata": {},
   "outputs": [
    {
     "name": "stdout",
     "output_type": "stream",
     "text": [
      "\n",
      " iter  | residual   | progress   | massflow   | pressure   | enthalpy   | fluid      | component  \n",
      "-------+------------+------------+------------+------------+------------+------------+------------\n",
      " 1     | 3.82e-08   | 100 %      | 1.04e-10   | 3.41e-05   | 1.28e-04   | 0.00e+00   | 0.00e+00   \n",
      " 2     | 8.25e-08   | 100 %      | 6.38e-13   | 6.03e-07   | 5.30e-08   | 0.00e+00   | 0.00e+00   \n",
      " 3     | 5.25e-10   | 100 %      | 5.37e-15   | 5.79e-09   | 3.41e-10   | 0.00e+00   | 0.00e+00   \n",
      " 4     | 4.84e-10   | 100 %      | 5.56e-15   | 4.84e-09   | 2.73e-10   | 0.00e+00   | 0.00e+00   \n",
      "Total iterations: 4, Calculation time: 0.05 s, Iterations per second: 85.43\n"
     ]
    }
   ],
   "source": [
    "c1.set_attr(design=[\"td_dew\"])\n",
    "turbine.set_attr(design=[\"eta_s\"], offdesign=[\"eta_s_char\", \"cone\"])\n",
    "\n",
    "nw.solve(\"offdesign\", design_path=\"design.json\")"
   ]
  },
  {
   "cell_type": "code",
   "execution_count": 37,
   "id": "12b65092",
   "metadata": {},
   "outputs": [],
   "source": [
    "import numpy as np\n",
    "\n",
    "\n",
    "power_range = np.linspace(105, 50)\n",
    "inlet_pressure_range = []\n",
    "mass_flow_range = []\n",
    "turbine_efficiency_range = []\n",
    "\n",
    "nw.set_attr(iterinfo=False)\n",
    "\n",
    "for e in power_range:\n",
    "    e2.set_attr(E=e)\n",
    "    nw.solve(\"offdesign\", design_path=\"design.json\")\n",
    "    inlet_pressure_range.append(c1.p.val)\n",
    "    mass_flow_range.append(c1.m.val)\n",
    "    turbine_efficiency_range.append(turbine.eta_s.val)"
   ]
  },
  {
   "cell_type": "code",
   "execution_count": 38,
   "id": "86558116",
   "metadata": {},
   "outputs": [
    {
     "data": {
      "text/plain": [
       "<matplotlib.collections.PathCollection at 0x71d5463cdbd0>"
      ]
     },
     "execution_count": 38,
     "metadata": {},
     "output_type": "execute_result"
    },
    {
     "data": {
      "image/png": "[encoded data removed]",
      "text/plain": [
       "<Figure size 640x480 with 3 Axes>"
      ]
     },
     "metadata": {},
     "output_type": "display_data"
    }
   ],
   "source": [
    "import matplotlib.pyplot as plt\n",
    "\n",
    "\n",
    "fig, ax = plt.subplots(3, sharex=True)\n",
    "\n",
    "ax[0].scatter(power_range, mass_flow_range)\n",
    "ax[1].scatter(power_range, inlet_pressure_range)\n",
    "ax[2].scatter(power_range, turbine_efficiency_range)\n"
   ]
  }
 ],
 "metadata": {
  "kernelspec": {
   "display_name": "tespy-user-meeting-2025",
   "language": "python",
   "name": "python3"
  },
  "language_info": {
   "codemirror_mode": {
    "name": "ipython",
    "version": 3
   },
   "file_extension": ".py",
   "mimetype": "text/x-python",
   "name": "python",
   "nbconvert_exporter": "python",
   "pygments_lexer": "ipython3",
   "version": "3.13.6"
  }
 },
 "nbformat": 4,
 "nbformat_minor": 5
}
