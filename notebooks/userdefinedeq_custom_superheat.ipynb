{
 "cells": [
  {
   "cell_type": "markdown",
   "id": "74c2fed0",
   "metadata": {},
   "source": [
    "# User Defined Equations\n",
    "\n",
    "Examples:\n",
    "\n",
    "- find value of evaporation temperature to achieve specific COP\n",
    "- a custom superheat specification\n",
    "- set the minimal pinch across a number of heat exchangers\n",
    "\n",
    "## General info\n",
    "\n",
    "- Formulate an equation $0 = ...$ in a custom function and return residual\n",
    "- Specify which variables the equation depends on in a second function\n",
    "- Pass all other relevant information to an instance of UserDefinedEquation\n",
    "  - connections available through ude.conns\n",
    "  - components available through ude.comps\n",
    "  - function to calculate the partial derivatives explicitly instead of doing\n",
    "    it via dependents\n",
    "  - other parameters (dictionary) available through ude.params\n",
    "- For more, readthedocs: https://tespy.readthedocs.io/en/main/modules/ude.html\n",
    "\n",
    "## Custom superheat\n",
    "\n",
    "- heat pump\n",
    "- fixed efficiency of compressor\n",
    "- fixed subcooling\n",
    "- fixed evaporation and condensation temperature level\n",
    "- target amount of heat production by condenser\n",
    "- a bit of superheating with a pressure loss\n",
    "- goal: specify superheat with respect to evaporator pressure outlet\n"
   ]
  },
  {
   "cell_type": "code",
   "execution_count": 1,
   "id": "c2f756df",
   "metadata": {
    "execution": {
     "iopub.execute_input": "2025-10-15T15:11:33.849782Z",
     "iopub.status.busy": "2025-10-15T15:11:33.849523Z",
     "iopub.status.idle": "2025-10-15T15:11:35.662115Z",
     "shell.execute_reply": "2025-10-15T15:11:35.661354Z"
    }
   },
   "outputs": [],
   "source": [
    "from tespy.components import SimpleHeatExchanger, CycleCloser, Valve, Compressor\n",
    "from tespy.connections import Connection\n",
    "from tespy.networks import Network"
   ]
  },
  {
   "cell_type": "code",
   "execution_count": 2,
   "id": "db7b48d2",
   "metadata": {
    "execution": {
     "iopub.execute_input": "2025-10-15T15:11:35.664876Z",
     "iopub.status.busy": "2025-10-15T15:11:35.664590Z",
     "iopub.status.idle": "2025-10-15T15:11:35.688885Z",
     "shell.execute_reply": "2025-10-15T15:11:35.688183Z"
    }
   },
   "outputs": [],
   "source": [
    "nw = Network()\n",
    "nw.units.set_defaults(\n",
    "    temperature=\"°C\",\n",
    "    pressure=\"bar\",\n",
    "    power=\"kW\",\n",
    "    heat=\"kW\"\n",
    ")"
   ]
  },
  {
   "cell_type": "code",
   "execution_count": 3,
   "id": "12dfc81a",
   "metadata": {
    "execution": {
     "iopub.execute_input": "2025-10-15T15:11:35.691932Z",
     "iopub.status.busy": "2025-10-15T15:11:35.691703Z",
     "iopub.status.idle": "2025-10-15T15:11:35.706966Z",
     "shell.execute_reply": "2025-10-15T15:11:35.706533Z"
    }
   },
   "outputs": [],
   "source": [
    "evaporator = SimpleHeatExchanger(\"evaporator\")\n",
    "superheater = SimpleHeatExchanger(\"superheater\")\n",
    "compressor = Compressor(\"compressor\")\n",
    "condenser = SimpleHeatExchanger(\"condenser\")\n",
    "valve = Valve(\"valve\")\n",
    "cc = CycleCloser(\"cc\")\n",
    "\n",
    "c1 = Connection(evaporator, \"out1\", superheater, \"in1\", label=\"c1\")\n",
    "c1b = Connection(superheater, \"out1\", compressor, \"in1\", label=\"c1b\")\n",
    "c2 = Connection(compressor, \"out1\", condenser, \"in1\", label=\"c2\")\n",
    "c3 = Connection(condenser, \"out1\", valve, \"in1\", label=\"c3\")\n",
    "c4 = Connection(valve, \"out1\", cc, \"in1\", label=\"c4\")\n",
    "c5 = Connection(cc, \"out1\", evaporator, \"in1\", label=\"c5\")\n",
    "\n",
    "nw.add_conns(c1, c1b, c2, c3, c4, c5)"
   ]
  },
  {
   "cell_type": "code",
   "execution_count": 4,
   "id": "c2722a1b",
   "metadata": {
    "execution": {
     "iopub.execute_input": "2025-10-15T15:11:35.709602Z",
     "iopub.status.busy": "2025-10-15T15:11:35.709423Z",
     "iopub.status.idle": "2025-10-15T15:11:35.782563Z",
     "shell.execute_reply": "2025-10-15T15:11:35.781883Z"
    }
   },
   "outputs": [
    {
     "name": "stdout",
     "output_type": "stream",
     "text": [
      "\n",
      " iter  | residual   | progress   | massflow   | pressure   | enthalpy   | fluid      | component  \n",
      "-------+------------+------------+------------+------------+------------+------------+------------\n",
      " 1     | 3.26e+05   | 5 %        | 1.01e+00   | 0.00e+00   | 2.30e+04   | 0.00e+00   | 0.00e+00   \n",
      " 2     | 2.33e+04   | 18 %       | 6.25e-02   | 0.00e+00   | 9.09e-11   | 0.00e+00   | 0.00e+00   \n",
      " 3     | 2.02e-09   | 100 %      | 5.36e-15   | 0.00e+00   | 9.09e-11   | 0.00e+00   | 0.00e+00   \n",
      " 4     | 7.42e-11   | 100 %      | 2.65e-17   | 0.00e+00   | 9.09e-11   | 0.00e+00   | 0.00e+00   \n",
      "Total iterations: 4, Calculation time: 0.00 s, Iterations per second: 1548.28\n"
     ]
    }
   ],
   "source": [
    "c1.set_attr(fluid={\"R600\": 1}, T_dew=10, td_dew=2)\n",
    "c1b.set_attr(td_dew=12)\n",
    "c3.set_attr(T_bubble=60, td_bubble=5)\n",
    "\n",
    "evaporator.set_attr(dp=0)\n",
    "superheater.set_attr(dp=1)\n",
    "condenser.set_attr(dp=0, Q=-100)\n",
    "compressor.set_attr(eta_s=0.8)\n",
    "\n",
    "nw.solve(\"design\")"
   ]
  },
  {
   "cell_type": "code",
   "execution_count": 5,
   "id": "befdc385",
   "metadata": {
    "execution": {
     "iopub.execute_input": "2025-10-15T15:11:35.784554Z",
     "iopub.status.busy": "2025-10-15T15:11:35.784383Z",
     "iopub.status.idle": "2025-10-15T15:11:35.789977Z",
     "shell.execute_reply": "2025-10-15T15:11:35.789303Z"
    }
   },
   "outputs": [
    {
     "data": {
      "text/plain": [
       "-6.452407301245785"
      ]
     },
     "execution_count": 5,
     "metadata": {},
     "output_type": "execute_result"
    }
   ],
   "source": [
    "# superheating is 12 K, but temperature is actually lower than before due to\n",
    "# pressure decrease\n",
    "c1b.T.val"
   ]
  },
  {
   "cell_type": "code",
   "execution_count": 6,
   "id": "8382fa1b",
   "metadata": {
    "execution": {
     "iopub.execute_input": "2025-10-15T15:11:35.791907Z",
     "iopub.status.busy": "2025-10-15T15:11:35.791739Z",
     "iopub.status.idle": "2025-10-15T15:11:35.838416Z",
     "shell.execute_reply": "2025-10-15T15:11:35.837787Z"
    }
   },
   "outputs": [
    {
     "name": "stdout",
     "output_type": "stream",
     "text": [
      "\n",
      " iter  | residual   | progress   | massflow   | pressure   | enthalpy   | fluid      | component  \n",
      "-------+------------+------------+------------+------------+------------+------------+------------\n",
      " 1     | 2.65e+01   | 50 %       | 4.05e-02   | 0.00e+00   | 7.02e+04   | 0.00e+00   | 0.00e+00   \n",
      " 2     | 2.35e+03   | 29 %       | 4.76e-03   | 0.00e+00   | 1.69e+03   | 0.00e+00   | 0.00e+00   \n",
      " 3     | 4.98e+00   | 58 %       | 1.21e-05   | 0.00e+00   | 1.67e+00   | 0.00e+00   | 0.00e+00   \n",
      " 4     | 1.31e-05   | 100 %      | 3.02e-11   | 0.00e+00   | 1.22e-06   | 0.00e+00   | 0.00e+00   \n",
      " 5     | 7.28e-11   | 100 %      | 3.35e-16   | 0.00e+00   | 1.05e-09   | 0.00e+00   | 0.00e+00   \n",
      "Total iterations: 5, Calculation time: 0.01 s, Iterations per second: 746.90\n"
     ]
    }
   ],
   "source": [
    "from tespy.tools import UserDefinedEquation\n",
    "from tespy.tools.fluid_properties.functions import T_dew_p\n",
    "\n",
    "\n",
    "def superheat_ude(ude):\n",
    "    c1, c1b = ude.conns\n",
    "    return c1b.calc_T() - T_dew_p(c1.p.val_SI, c1.fluid_data) - ude.params[\"superheat\"]\n",
    "\n",
    "def superheat_ude_dependents(ude):\n",
    "    c1, c1b = ude.conns\n",
    "    return [c1.p, c1b.p, c1b.h]\n",
    "\n",
    "\n",
    "shude = UserDefinedEquation(\n",
    "    \"shude\",\n",
    "    superheat_ude,\n",
    "    superheat_ude_dependents,\n",
    "    conns=[c1, c1b],\n",
    "    params={\"superheat\": 10}\n",
    ")\n",
    "c1b.set_attr(td_dew=None)\n",
    "nw.add_ude(shude)\n",
    "nw.solve(\"design\")"
   ]
  },
  {
   "cell_type": "code",
   "execution_count": 7,
   "id": "34025eb7",
   "metadata": {
    "execution": {
     "iopub.execute_input": "2025-10-15T15:11:35.840740Z",
     "iopub.status.busy": "2025-10-15T15:11:35.840472Z",
     "iopub.status.idle": "2025-10-15T15:11:35.844401Z",
     "shell.execute_reply": "2025-10-15T15:11:35.843958Z"
    }
   },
   "outputs": [
    {
     "data": {
      "text/plain": [
       "20.000000000000057"
      ]
     },
     "execution_count": 7,
     "metadata": {},
     "output_type": "execute_result"
    }
   ],
   "source": [
    "c1b.T.val"
   ]
  }
 ],
 "metadata": {
  "kernelspec": {
   "display_name": "tespy-user-meeting-2025",
   "language": "python",
   "name": "python3"
  },
  "language_info": {
   "codemirror_mode": {
    "name": "ipython",
    "version": 3
   },
   "file_extension": ".py",
   "mimetype": "text/x-python",
   "name": "python",
   "nbconvert_exporter": "python",
   "pygments_lexer": "ipython3",
   "version": "3.13.6"
  }
 },
 "nbformat": 4,
 "nbformat_minor": 5
}
