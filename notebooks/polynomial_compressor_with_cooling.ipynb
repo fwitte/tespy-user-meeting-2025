{
 "cells": [
  {
   "cell_type": "code",
   "execution_count": 23,
   "id": "af889d0d",
   "metadata": {},
   "outputs": [],
   "source": [
    "from tespy.components import PolynomialCompressor, Source, Sink\n",
    "from tespy.connections import Connection\n",
    "from tespy.networks import Network\n",
    "\n",
    "\n",
    "class PolynomialCompressorWithCooling(PolynomialCompressor):\n",
    "\n",
    "    @staticmethod\n",
    "    def inlets():\n",
    "        return ['in1', 'in2']\n",
    "\n",
    "    @staticmethod\n",
    "    def outlets():\n",
    "        return ['out1', 'out2']\n",
    "\n",
    "\n",
    "nw = Network()\n",
    "nw.units.set_defaults(\n",
    "    temperature=\"°C\",\n",
    "    pressure=\"bar\"\n",
    ")\n",
    "\n",
    "\n",
    "gas_inlet = Source(\"gas inlet\")\n",
    "gas_outlet = Sink(\"gas outlet\")\n",
    "\n",
    "water_inlet = Source(\"water cold\")\n",
    "water_outlet = Sink(\"water hot\")\n",
    "\n",
    "compressor = PolynomialCompressorWithCooling(\"compressor\")\n",
    "\n",
    "c1 = Connection(gas_inlet, \"out1\", compressor, \"in1\", label=\"c1\")\n",
    "c2 = Connection(compressor, \"out1\", gas_outlet, \"in1\", label=\"c2\")\n",
    "\n",
    "b1 = Connection(water_inlet, \"out1\", compressor, \"in2\", label=\"b1\")\n",
    "b2 = Connection(compressor, \"out2\", water_outlet, \"in1\", label=\"b2\")\n",
    "\n",
    "\n",
    "nw.add_conns(c1, c2, b1, b2)"
   ]
  },
  {
   "cell_type": "code",
   "execution_count": 24,
   "id": "3396fb0d",
   "metadata": {},
   "outputs": [
    {
     "name": "stdout",
     "output_type": "stream",
     "text": [
      "\n",
      " iter  | residual   | progress   | massflow   | pressure   | enthalpy   | fluid      | component  \n",
      "-------+------------+------------+------------+------------+------------+------------+------------\n",
      " 1     | 0.00e+00   | 100 %      | 0.00e+00   | 0.00e+00   | 0.00e+00   | 0.00e+00   | 0.00e+00   \n",
      " 2     | 0.00e+00   | 100 %      | 0.00e+00   | 0.00e+00   | 0.00e+00   | 0.00e+00   | 0.00e+00   \n",
      " 3     | 0.00e+00   | 100 %      | 0.00e+00   | 0.00e+00   | 0.00e+00   | 0.00e+00   | 0.00e+00   \n",
      " 4     | 0.00e+00   | 100 %      | 0.00e+00   | 0.00e+00   | 0.00e+00   | 0.00e+00   | 0.00e+00   \n",
      "Total iterations: 4, Calculation time: 0.00 s, Iterations per second: 1805.94\n"
     ]
    }
   ],
   "source": [
    "c1.set_attr(fluid={\"R290\": 1}, m=1, T_dew=10, td_dew=10)\n",
    "c2.set_attr(T_dew=60, td_dew=50)\n",
    "\n",
    "b1.set_attr(fluid={\"water\": 1}, m=0.5, T=15, p=1)\n",
    "b2.set_attr(T=25, p=1)\n",
    "\n",
    "compressor.set_attr(dissipation_ratio=0.1)\n",
    "\n",
    "nw.solve(\"design\")"
   ]
  },
  {
   "cell_type": "markdown",
   "id": "2db3c4dc",
   "metadata": {},
   "source": [
    "- the base component class has pairwise mass flow and fluid composition balance:\n",
    "  - in1 matches with out1\n",
    "  - in2 matches with out2\n",
    "  - ...\n",
    "- this is automatically expanded with every new pair of ports\n",
    "- if you want to add ports with other names or non-paired ports, this may break\n",
    "- in this case we can verify, if things went the right way by checking mass flow\n",
    "  and fluid composition in results"
   ]
  },
  {
   "cell_type": "code",
   "execution_count": 25,
   "id": "8ca5061b",
   "metadata": {},
   "outputs": [
    {
     "name": "stdout",
     "output_type": "stream",
     "text": [
      "\n",
      "##### RESULTS (PolynomialCompressorWithCooling) #####\n",
      "+------------+----------+-----------+---------------------+\n",
      "|            |       pr |        dp |   dissipation_ratio |\n",
      "|------------+----------+-----------+---------------------|\n",
      "| compressor | 3.33e+00 | -1.48e+01 |            \u001b[94m1.00e-01\u001b[0m |\n",
      "+------------+----------+-----------+---------------------+\n",
      "##### RESULTS (Connection) #####\n",
      "+----+-----------+-----------+-----------+-----------+------------+----------------------+\n",
      "|    |         m |         p |         h |         T |          x | phase                |\n",
      "|----+-----------+-----------+-----------+-----------+------------+----------------------|\n",
      "| b1 | \u001b[94m5.000e-01\u001b[0m | \u001b[94m1.000e+00\u001b[0m | 6.308e+04 | \u001b[94m1.500e+01\u001b[0m |  0.000e+00 | l                    |\n",
      "| b2 | 5.000e-01 | \u001b[94m1.000e+00\u001b[0m | 1.049e+05 | \u001b[94m2.500e+01\u001b[0m |  0.000e+00 | l                    |\n",
      "| c1 | \u001b[94m1.000e+00\u001b[0m | 6.366e+00 | 6.040e+05 | 2.000e+01 |  1.000e+00 | g                    |\n",
      "| c2 | 1.000e+00 | 2.117e+01 | 7.502e+05 | 1.100e+02 | -1.000e+00 | state not recognised |\n",
      "+----+-----------+-----------+-----------+-----------+------------+----------------------+\n"
     ]
    }
   ],
   "source": [
    "nw.print_results()"
   ]
  },
  {
   "cell_type": "code",
   "execution_count": 26,
   "id": "366d4753",
   "metadata": {},
   "outputs": [
    {
     "data": {
      "text/plain": [
       "({'water': 1.0}, {'water': 1.0})"
      ]
     },
     "execution_count": 26,
     "metadata": {},
     "output_type": "execute_result"
    }
   ],
   "source": [
    "b1.fluid.val, b2.fluid.val"
   ]
  },
  {
   "cell_type": "code",
   "execution_count": 27,
   "id": "9368d1b8",
   "metadata": {},
   "outputs": [],
   "source": [
    "from tespy.tools.data_containers import ComponentMandatoryConstraints as dc_cmc\n",
    "\n",
    "\n",
    "class PolynomialCompressorWithCooling(PolynomialCompressor):\n",
    "\n",
    "    def _preprocess(self, row_idx):\n",
    "        if not self.dissipation_ratio.is_set:\n",
    "            self.dissipation_ratio.is_set = True\n",
    "            self.dissipation_ratio.val = 0\n",
    "            self.dissipation_ratio.val_SI = 0\n",
    "        return super()._preprocess(row_idx)\n",
    "\n",
    "    @staticmethod\n",
    "    def inlets():\n",
    "        return ['in1', 'in2']\n",
    "\n",
    "    @staticmethod\n",
    "    def outlets():\n",
    "        return ['out1', 'out2']\n",
    "\n",
    "    def get_mandatory_constraints(self) -> dict:\n",
    "        constraints = super().get_mandatory_constraints()\n",
    "        # this is a dictionary\n",
    "        constraints[\"cooling_energy_balance_constraints\"] = dc_cmc(\n",
    "            func=self.cooling_energy_balance_func,\n",
    "            dependents=self.cooling_energy_balance_dependents,\n",
    "            num_eq_sets=1\n",
    "        )\n",
    "        return constraints\n",
    "\n",
    "    def cooling_energy_balance_func(self):\n",
    "        usable_share = 0.9\n",
    "        residual = (\n",
    "            self.inl[1].m.val_SI * (self.outl[1].h.val_SI - self.inl[1].h.val_SI)\n",
    "            + self.inl[0].m.val_SI * (\n",
    "                self.outl[0].h.val_SI\n",
    "                - self.outl[0].h.val_SI / (1 - self.dissipation_ratio.val_SI)\n",
    "                + self.inl[0].h.val_SI * (self.dissipation_ratio.val_SI / (1 - self.dissipation_ratio.val_SI))\n",
    "            ) * usable_share\n",
    "        )\n",
    "        return residual\n",
    "\n",
    "    def cooling_energy_balance_dependents(self):\n",
    "        return [\n",
    "            self.inl[0].m, self.inl[1].m,\n",
    "            self.inl[0].h, self.inl[1].h,\n",
    "            self.outl[0].h, self.outl[1].h\n",
    "        ]\n",
    "\n",
    "\n",
    "nw = Network()\n",
    "nw.units.set_defaults(\n",
    "    temperature=\"°C\",\n",
    "    pressure=\"bar\"\n",
    ")\n",
    "\n",
    "\n",
    "gas_inlet = Source(\"gas inlet\")\n",
    "gas_outlet = Sink(\"gas outlet\")\n",
    "\n",
    "water_inlet = Source(\"water cold\")\n",
    "water_outlet = Sink(\"water hot\")\n",
    "\n",
    "compressor = PolynomialCompressorWithCooling(\"compressor\")\n",
    "\n",
    "c1 = Connection(gas_inlet, \"out1\", compressor, \"in1\", label=\"c1\")\n",
    "c2 = Connection(compressor, \"out1\", gas_outlet, \"in1\", label=\"c2\")\n",
    "\n",
    "b1 = Connection(water_inlet, \"out1\", compressor, \"in2\", label=\"b1\")\n",
    "b2 = Connection(compressor, \"out2\", water_outlet, \"in1\", label=\"b2\")\n",
    "\n",
    "\n",
    "nw.add_conns(c1, c2, b1, b2)"
   ]
  },
  {
   "cell_type": "code",
   "execution_count": 28,
   "id": "c0192be2",
   "metadata": {},
   "outputs": [
    {
     "name": "stderr",
     "output_type": "stream",
     "text": [
      "You have provided too many parameters: 0 required, 1 supplied. Aborting calculation!\n"
     ]
    },
    {
     "ename": "TESPyNetworkError",
     "evalue": "You have provided too many parameters: 0 required, 1 supplied. Aborting calculation!",
     "output_type": "error",
     "traceback": [
      "\u001b[31m---------------------------------------------------------------------------\u001b[39m",
      "\u001b[31mTESPyNetworkError\u001b[39m                         Traceback (most recent call last)",
      "\u001b[36mCell\u001b[39m\u001b[36m \u001b[39m\u001b[32mIn[28]\u001b[39m\u001b[32m, line 8\u001b[39m\n\u001b[32m      5\u001b[39m b2.set_attr(T=\u001b[32m25\u001b[39m, p=\u001b[32m1\u001b[39m)\n\u001b[32m      6\u001b[39m compressor.set_attr(dissipation_ratio=\u001b[32m0.1\u001b[39m)\n\u001b[32m----> \u001b[39m\u001b[32m8\u001b[39m \u001b[43mnw\u001b[49m\u001b[43m.\u001b[49m\u001b[43msolve\u001b[49m\u001b[43m(\u001b[49m\u001b[33;43m\"\u001b[39;49m\u001b[33;43mdesign\u001b[39;49m\u001b[33;43m\"\u001b[39;49m\u001b[43m)\u001b[49m\n",
      "\u001b[36mFile \u001b[39m\u001b[32m~/gitprojects/tespy/src/tespy/networks/network.py:2486\u001b[39m, in \u001b[36mNetwork.solve\u001b[39m\u001b[34m(self, mode, init_path, design_path, max_iter, min_iter, init_only, init_previous, use_cuda, print_results, robust_relax)\u001b[39m\n\u001b[32m   2483\u001b[39m msg = \u001b[33m'\u001b[39m\u001b[33mStarting solver.\u001b[39m\u001b[33m'\u001b[39m\n\u001b[32m   2484\u001b[39m logger.info(msg)\n\u001b[32m-> \u001b[39m\u001b[32m2486\u001b[39m \u001b[38;5;28;43mself\u001b[39;49m\u001b[43m.\u001b[49m\u001b[43msolve_determination\u001b[49m\u001b[43m(\u001b[49m\u001b[43m)\u001b[49m\n\u001b[32m   2488\u001b[39m \u001b[38;5;28;01mtry\u001b[39;00m:\n\u001b[32m   2489\u001b[39m     \u001b[38;5;28mself\u001b[39m.solve_loop(print_results=print_results)\n",
      "\u001b[36mFile \u001b[39m\u001b[32m~/gitprojects/tespy/src/tespy/networks/network.py:2603\u001b[39m, in \u001b[36mNetwork.solve_determination\u001b[39m\u001b[34m(self)\u001b[39m\n\u001b[32m   2601\u001b[39m     logger.error(msg)\n\u001b[32m   2602\u001b[39m     \u001b[38;5;28mself\u001b[39m.status = \u001b[32m12\u001b[39m\n\u001b[32m-> \u001b[39m\u001b[32m2603\u001b[39m     \u001b[38;5;28;01mraise\u001b[39;00m hlp.TESPyNetworkError(msg)\n\u001b[32m   2604\u001b[39m \u001b[38;5;28;01melif\u001b[39;00m n < \u001b[38;5;28mself\u001b[39m.variable_counter:\n\u001b[32m   2605\u001b[39m     msg = (\n\u001b[32m   2606\u001b[39m         \u001b[33mf\u001b[39m\u001b[33m\"\u001b[39m\u001b[33mYou have not provided enough parameters: \u001b[39m\u001b[38;5;132;01m{\u001b[39;00m\u001b[38;5;28mself\u001b[39m.variable_counter\u001b[38;5;132;01m}\u001b[39;00m\u001b[33m \u001b[39m\u001b[33m\"\u001b[39m\n\u001b[32m   2607\u001b[39m         \u001b[33mf\u001b[39m\u001b[33m\"\u001b[39m\u001b[33mrequired, \u001b[39m\u001b[38;5;132;01m{\u001b[39;00mn\u001b[38;5;132;01m}\u001b[39;00m\u001b[33m supplied. Aborting calculation!\u001b[39m\u001b[33m\"\u001b[39m\n\u001b[32m   2608\u001b[39m     )\n",
      "\u001b[31mTESPyNetworkError\u001b[39m: You have provided too many parameters: 0 required, 1 supplied. Aborting calculation!"
     ]
    }
   ],
   "source": [
    "c1.set_attr(fluid={\"R290\": 1}, m=1, T_dew=10, td_dew=10)\n",
    "c2.set_attr(T_dew=60, td_dew=50)\n",
    "\n",
    "b1.set_attr(fluid={\"water\": 1}, m=1, T=15, p=1)\n",
    "b2.set_attr(T=25, p=1)\n",
    "compressor.set_attr(dissipation_ratio=0.1)\n",
    "\n",
    "nw.solve(\"design\")"
   ]
  },
  {
   "cell_type": "markdown",
   "id": "d8ff93d0",
   "metadata": {},
   "source": [
    "- we now have one extra equation, that means we can set one less parameter,\n",
    "  e.g. cooling mass flow"
   ]
  },
  {
   "cell_type": "code",
   "execution_count": 29,
   "id": "c938d854",
   "metadata": {},
   "outputs": [
    {
     "name": "stdout",
     "output_type": "stream",
     "text": [
      "\n",
      " iter  | residual   | progress   | massflow   | pressure   | enthalpy   | fluid      | component  \n",
      "-------+------------+------------+------------+------------+------------+------------+------------\n",
      " 1     | 5.81e+04   | 13 %       | 1.39e+00   | 0.00e+00   | 0.00e+00   | 0.00e+00   | 0.00e+00   \n",
      " 2     | 2.17e-08   | 100 %      | 5.19e-13   | 0.00e+00   | 0.00e+00   | 0.00e+00   | 0.00e+00   \n",
      " 3     | 1.82e-12   | 100 %      | 4.35e-17   | 0.00e+00   | 0.00e+00   | 0.00e+00   | 0.00e+00   \n",
      " 4     | 0.00e+00   | 100 %      | 0.00e+00   | 0.00e+00   | 0.00e+00   | 0.00e+00   | 0.00e+00   \n",
      "Total iterations: 4, Calculation time: 0.00 s, Iterations per second: 1478.82\n"
     ]
    }
   ],
   "source": [
    "b1.set_attr(m=None)\n",
    "nw.solve(\"design\")"
   ]
  },
  {
   "cell_type": "code",
   "execution_count": 30,
   "id": "435836dc",
   "metadata": {},
   "outputs": [
    {
     "data": {
      "text/plain": [
       "0.34934083402916394"
      ]
     },
     "execution_count": 30,
     "metadata": {},
     "output_type": "execute_result"
    }
   ],
   "source": [
    "b1.m.val_SI"
   ]
  },
  {
   "cell_type": "code",
   "execution_count": 31,
   "id": "fcd72532",
   "metadata": {},
   "outputs": [],
   "source": [
    "from tespy.tools.data_containers import ComponentProperties as dc_cp\n",
    "from tespy.tools.helpers import TESPyComponentError\n",
    "\n",
    "\n",
    "class PolynomialCompressorWithCooling(PolynomialCompressor):\n",
    "\n",
    "    def _preprocess(self, row_idx):\n",
    "        if not self.eta_recovery.is_set:\n",
    "            msg = (\n",
    "                f\"The component {self.label} of type {self.__class__.__name__}\"\n",
    "                \"requires you to specify the share of heat recovery \"\n",
    "                \"eta_recovery.\"\n",
    "            )\n",
    "            raise TESPyComponentError(msg)\n",
    "\n",
    "        return super()._preprocess(row_idx)\n",
    "\n",
    "    @staticmethod\n",
    "    def inlets():\n",
    "        return ['in1', 'in2']\n",
    "\n",
    "    @staticmethod\n",
    "    def outlets():\n",
    "        return ['out1', 'out2']\n",
    "\n",
    "    def get_mandatory_constraints(self) -> dict:\n",
    "        constraints = super().get_mandatory_constraints()\n",
    "        # this is a dictionary\n",
    "        constraints[\"cooling_energy_balance_constraints\"] = dc_cmc(\n",
    "            func=self.cooling_energy_balance_func,\n",
    "            dependents=self.cooling_energy_balance_dependents,\n",
    "            num_eq_sets=1\n",
    "        )\n",
    "        return constraints\n",
    "\n",
    "    def get_parameters(self):\n",
    "        params = super().get_parameters()\n",
    "        params[\"eta_recovery\"] = dc_cp()\n",
    "        return params\n",
    "\n",
    "    def cooling_energy_balance_func(self):\n",
    "        usable_share = self.eta_recovery.val_SI\n",
    "        residual = (\n",
    "            self.inl[1].m.val_SI * (self.outl[1].h.val_SI - self.inl[1].h.val_SI)\n",
    "            + self.inl[0].m.val_SI * (\n",
    "                self.outl[0].h.val_SI\n",
    "                - self.outl[0].h.val_SI / (1 - self.dissipation_ratio.val_SI)\n",
    "                + self.inl[0].h.val_SI * (self.dissipation_ratio.val_SI / (1 - self.dissipation_ratio.val_SI))\n",
    "            ) * usable_share\n",
    "        )\n",
    "        return residual\n",
    "\n",
    "    def cooling_energy_balance_dependents(self):\n",
    "        return [\n",
    "            self.inl[0].m, self.inl[1].m,\n",
    "            self.inl[0].h, self.inl[1].h,\n",
    "            self.outl[0].h, self.outl[1].h\n",
    "        ]\n",
    "\n",
    "\n",
    "nw = Network()\n",
    "nw.units.set_defaults(\n",
    "    temperature=\"°C\",\n",
    "    pressure=\"bar\"\n",
    ")\n",
    "\n",
    "\n",
    "gas_inlet = Source(\"gas inlet\")\n",
    "gas_outlet = Sink(\"gas outlet\")\n",
    "\n",
    "water_inlet = Source(\"water cold\")\n",
    "water_outlet = Sink(\"water hot\")\n",
    "\n",
    "compressor = PolynomialCompressorWithCooling(\"compressor\")\n",
    "\n",
    "c1 = Connection(gas_inlet, \"out1\", compressor, \"in1\", label=\"c1\")\n",
    "c2 = Connection(compressor, \"out1\", gas_outlet, \"in1\", label=\"c2\")\n",
    "\n",
    "b1 = Connection(water_inlet, \"out1\", compressor, \"in2\", label=\"b1\")\n",
    "b2 = Connection(compressor, \"out2\", water_outlet, \"in1\", label=\"b2\")\n",
    "\n",
    "\n",
    "nw.add_conns(c1, c2, b1, b2)"
   ]
  },
  {
   "cell_type": "code",
   "execution_count": 32,
   "id": "9f5763cc",
   "metadata": {},
   "outputs": [
    {
     "name": "stdout",
     "output_type": "stream",
     "text": [
      "\n",
      " iter  | residual   | progress   | massflow   | pressure   | enthalpy   | fluid      | component  \n",
      "-------+------------+------------+------------+------------+------------+------------+------------\n",
      " 1     | 6.40e+04   | 13 %       | 1.53e+00   | 0.00e+00   | 0.00e+00   | 0.00e+00   | 0.00e+00   \n",
      " 2     | 2.39e-08   | 100 %      | 5.72e-13   | 0.00e+00   | 0.00e+00   | 0.00e+00   | 0.00e+00   \n",
      " 3     | 1.82e-12   | 100 %      | 4.35e-17   | 0.00e+00   | 0.00e+00   | 0.00e+00   | 0.00e+00   \n",
      " 4     | 0.00e+00   | 100 %      | 0.00e+00   | 0.00e+00   | 0.00e+00   | 0.00e+00   | 0.00e+00   \n",
      "Total iterations: 4, Calculation time: 0.00 s, Iterations per second: 1407.72\n"
     ]
    }
   ],
   "source": [
    "c1.set_attr(fluid={\"R290\": 1}, m=1, T_dew=10, td_dew=10)\n",
    "c2.set_attr(T_dew=60, td_dew=25)\n",
    "\n",
    "b1.set_attr(fluid={\"water\": 1}, T=15, p=1)\n",
    "b2.set_attr(T=25, p=1)\n",
    "compressor.set_attr(dissipation_ratio=0.1, eta_recovery=0.9)\n",
    "\n",
    "nw.solve(\"design\")"
   ]
  },
  {
   "cell_type": "code",
   "execution_count": 33,
   "id": "c9d0003e",
   "metadata": {},
   "outputs": [
    {
     "data": {
      "text/plain": [
       "-9676.90346751688"
      ]
     },
     "execution_count": 33,
     "metadata": {},
     "output_type": "execute_result"
    }
   ],
   "source": [
    "compressor.Q_diss.val"
   ]
  },
  {
   "cell_type": "code",
   "execution_count": 34,
   "id": "10f5fe15",
   "metadata": {},
   "outputs": [
    {
     "data": {
      "text/plain": [
       "8709.213120765153"
      ]
     },
     "execution_count": 34,
     "metadata": {},
     "output_type": "execute_result"
    }
   ],
   "source": [
    "b1.m.val_SI * (b2.h.val_SI - b1.h.val_SI)"
   ]
  },
  {
   "cell_type": "code",
   "execution_count": 35,
   "id": "a6ab4dfa",
   "metadata": {},
   "outputs": [
    {
     "name": "stdout",
     "output_type": "stream",
     "text": [
      "\n",
      " iter  | residual   | progress   | massflow   | pressure   | enthalpy   | fluid      | component  \n",
      "-------+------------+------------+------------+------------+------------+------------+------------\n",
      " 1     | 8.50e+03   | 23 %       | 0.00e+00   | 0.00e+00   | 1.70e+06   | 0.00e+00   | 0.00e+00   \n",
      " 2     | 2.15e-04   | 100 %      | 0.00e+00   | 0.00e+00   | 4.29e-02   | 0.00e+00   | 0.00e+00   \n",
      " 3     | 7.28e-12   | 100 %      | 0.00e+00   | 0.00e+00   | 1.46e-09   | 0.00e+00   | 0.00e+00   \n",
      " 4     | 1.82e-12   | 100 %      | 0.00e+00   | 0.00e+00   | 3.64e-10   | 0.00e+00   | 0.00e+00   \n",
      "Total iterations: 4, Calculation time: 0.00 s, Iterations per second: 1196.75\n"
     ]
    }
   ],
   "source": [
    "b1.set_attr(m=0.005)\n",
    "b2.set_attr(T=None)\n",
    "nw.solve(\"design\")"
   ]
  },
  {
   "cell_type": "code",
   "execution_count": 36,
   "id": "4f42bded",
   "metadata": {},
   "outputs": [
    {
     "data": {
      "text/plain": [
       "(99.60592889710517, 85.00000000002717)"
      ]
     },
     "execution_count": 36,
     "metadata": {},
     "output_type": "execute_result"
    }
   ],
   "source": [
    "b2.T.val, c2.T.val"
   ]
  },
  {
   "cell_type": "code",
   "execution_count": 37,
   "id": "c8e97b7d",
   "metadata": {},
   "outputs": [
    {
     "data": {
      "text/plain": [
       "2116752.919654245"
      ]
     },
     "execution_count": 37,
     "metadata": {},
     "output_type": "execute_result"
    }
   ],
   "source": [
    "h_2 = c1.h.val_SI + (c2.h.val_SI - c1.h.val_SI) / (1 - compressor.dissipation_ratio.val_SI)\n",
    "c2.p.val_SI"
   ]
  },
  {
   "cell_type": "code",
   "execution_count": 38,
   "id": "9ee7bfcf",
   "metadata": {},
   "outputs": [
    {
     "data": {
      "text/plain": [
       "89.04451026537305"
      ]
     },
     "execution_count": 38,
     "metadata": {},
     "output_type": "execute_result"
    }
   ],
   "source": [
    "from tespy.tools.fluid_properties import T_mix_ph\n",
    "\n",
    "\n",
    "T_mix_ph(c2.p.val_SI, h_2, c2.fluid_data) - 273.15"
   ]
  },
  {
   "cell_type": "code",
   "execution_count": 39,
   "id": "03192994",
   "metadata": {},
   "outputs": [
    {
     "data": {
      "text/plain": [
       "0.6108450059552428"
      ]
     },
     "execution_count": 39,
     "metadata": {},
     "output_type": "execute_result"
    }
   ],
   "source": [
    "compressor.eta_s.val"
   ]
  },
  {
   "cell_type": "code",
   "execution_count": 40,
   "id": "6b4ebec1",
   "metadata": {},
   "outputs": [],
   "source": [
    "class PolynomialCompressorWithCooling(PolynomialCompressor):\n",
    "\n",
    "    def _preprocess(self, row_idx):\n",
    "        if not self.eta_recovery.is_set:\n",
    "            msg = (\n",
    "                f\"The component {self.label} of type {self.__class__.__name__}\"\n",
    "                \"requires you to specify the share of heat recovery \"\n",
    "                \"eta_recovery.\"\n",
    "            )\n",
    "            raise TESPyComponentError(msg)\n",
    "\n",
    "        return super()._preprocess(row_idx)\n",
    "\n",
    "    @staticmethod\n",
    "    def inlets():\n",
    "        return ['in1', 'in2']\n",
    "\n",
    "    @staticmethod\n",
    "    def outlets():\n",
    "        return ['out1', 'out2']\n",
    "\n",
    "    def get_mandatory_constraints(self) -> dict:\n",
    "        constraints = super().get_mandatory_constraints()\n",
    "        # this is a dictionary\n",
    "        constraints[\"cooling_energy_balance_constraints\"] = dc_cmc(\n",
    "            func=self.cooling_energy_balance_func,\n",
    "            dependents=self.cooling_energy_balance_dependents,\n",
    "            num_eq_sets=1\n",
    "        )\n",
    "        return constraints\n",
    "\n",
    "    def get_parameters(self):\n",
    "        params = super().get_parameters()\n",
    "        params[\"eta_recovery\"] = dc_cp()\n",
    "        params[\"td_minimal\"] = dc_cp(\n",
    "            min_val=0\n",
    "        )\n",
    "        return params\n",
    "\n",
    "    def cooling_energy_balance_func(self):\n",
    "        usable_share = self.eta_recovery.val_SI\n",
    "        residual = (\n",
    "            self.inl[1].m.val_SI * (self.outl[1].h.val_SI - self.inl[1].h.val_SI)\n",
    "            + self.inl[0].m.val_SI * (\n",
    "                self.outl[0].h.val_SI\n",
    "                - self.outl[0].h.val_SI / (1 - self.dissipation_ratio.val_SI)\n",
    "                + self.inl[0].h.val_SI * (self.dissipation_ratio.val_SI / (1 - self.dissipation_ratio.val_SI))\n",
    "            ) * usable_share\n",
    "        )\n",
    "        return residual\n",
    "\n",
    "    def cooling_energy_balance_dependents(self):\n",
    "        return [\n",
    "            self.inl[0].m, self.inl[1].m,\n",
    "            self.inl[0].h, self.inl[1].h,\n",
    "            self.outl[0].h, self.outl[1].h\n",
    "        ]\n",
    "\n",
    "    def calc_parameters(self):\n",
    "        super().calc_parameters()\n",
    "\n",
    "        i = self.inl[0]\n",
    "        o = self.outl[0]\n",
    "        h_2 = (\n",
    "            (o.h.val_SI - i.h.val_SI * self.dissipation_ratio.val_SI)\n",
    "            / (1 - self.dissipation_ratio.val_SI)\n",
    "        )\n",
    "\n",
    "        T_max_compressor_internal = T_mix_ph(\n",
    "            self.outl[0].p.val_SI,\n",
    "            h_2,\n",
    "            self.outl[0].fluid_data,\n",
    "            self.outl[0].mixing_rule,\n",
    "            T0=self.outl[0].T.val_SI\n",
    "        )\n",
    "        self.td_minimal.val_SI = (\n",
    "            T_max_compressor_internal\n",
    "            - self.outl[1].T.val_SI\n",
    "        )\n",
    "\n",
    "\n",
    "nw = Network()\n",
    "nw.units.set_defaults(\n",
    "    temperature=\"°C\",\n",
    "    pressure=\"bar\"\n",
    ")\n",
    "\n",
    "\n",
    "gas_inlet = Source(\"gas inlet\")\n",
    "gas_outlet = Sink(\"gas outlet\")\n",
    "\n",
    "water_inlet = Source(\"water cold\")\n",
    "water_outlet = Sink(\"water hot\")\n",
    "\n",
    "compressor = PolynomialCompressorWithCooling(\"compressor\")\n",
    "\n",
    "c1 = Connection(gas_inlet, \"out1\", compressor, \"in1\", label=\"c1\")\n",
    "c2 = Connection(compressor, \"out1\", gas_outlet, \"in1\", label=\"c2\")\n",
    "\n",
    "b1 = Connection(water_inlet, \"out1\", compressor, \"in2\", label=\"b1\")\n",
    "b2 = Connection(compressor, \"out2\", water_outlet, \"in1\", label=\"b2\")\n",
    "\n",
    "\n",
    "nw.add_conns(c1, c2, b1, b2)"
   ]
  },
  {
   "cell_type": "code",
   "execution_count": 41,
   "id": "e3d92714",
   "metadata": {},
   "outputs": [
    {
     "name": "stdout",
     "output_type": "stream",
     "text": [
      "\n",
      " iter  | residual   | progress   | massflow   | pressure   | enthalpy   | fluid      | component  \n",
      "-------+------------+------------+------------+------------+------------+------------+------------\n",
      " 1     | 3.81e+04   | 15 %       | 0.00e+00   | 0.00e+00   | 7.63e+05   | 0.00e+00   | 0.00e+00   \n",
      " 2     | 3.74e-03   | 93 %       | 0.00e+00   | 0.00e+00   | 7.48e-02   | 0.00e+00   | 0.00e+00   \n",
      " 3     | 4.37e-11   | 100 %      | 0.00e+00   | 0.00e+00   | 8.73e-10   | 0.00e+00   | 0.00e+00   \n",
      " 4     | 0.00e+00   | 100 %      | 0.00e+00   | 0.00e+00   | 0.00e+00   | 0.00e+00   | 0.00e+00   \n",
      "Total iterations: 4, Calculation time: 0.00 s, Iterations per second: 1002.46\n"
     ]
    }
   ],
   "source": [
    "c1.set_attr(fluid={\"R290\": 1}, m=1, T_dew=10, td_dew=10)\n",
    "c2.set_attr(T_dew=60, td_dew=25)\n",
    "\n",
    "b1.set_attr(fluid={\"water\": 1}, T=15, m=0.05, p=1)\n",
    "b2.set_attr(p=1)\n",
    "compressor.set_attr(dissipation_ratio=0.1, eta_recovery=0.9)\n",
    "\n",
    "nw.solve(\"design\")"
   ]
  },
  {
   "cell_type": "code",
   "execution_count": 42,
   "id": "1129b47c",
   "metadata": {},
   "outputs": [],
   "source": [
    "class PolynomialCompressorWithCooling(PolynomialCompressor):\n",
    "\n",
    "    def _preprocess(self, row_idx):\n",
    "        if not self.eta_recovery.is_set:\n",
    "            msg = (\n",
    "                f\"The component {self.label} of type {self.__class__.__name__}\"\n",
    "                \"requires you to specify the share of heat recovery \"\n",
    "                \"eta_recovery.\"\n",
    "            )\n",
    "            raise TESPyComponentError(msg)\n",
    "\n",
    "        return super()._preprocess(row_idx)\n",
    "\n",
    "    @staticmethod\n",
    "    def inlets():\n",
    "        return ['in1', 'in2']\n",
    "\n",
    "    @staticmethod\n",
    "    def outlets():\n",
    "        return ['out1', 'out2']\n",
    "\n",
    "    def get_mandatory_constraints(self) -> dict:\n",
    "        constraints = super().get_mandatory_constraints()\n",
    "        # this is a dictionary\n",
    "        constraints[\"cooling_energy_balance_constraints\"] = dc_cmc(\n",
    "            func=self.cooling_energy_balance_func,\n",
    "            dependents=self.cooling_energy_balance_dependents,\n",
    "            num_eq_sets=1\n",
    "        )\n",
    "        return constraints\n",
    "\n",
    "    def get_parameters(self):\n",
    "        params = super().get_parameters()\n",
    "        params[\"eta_recovery\"] = dc_cp(\n",
    "            quantity=\"efficiency\"\n",
    "        )\n",
    "        params[\"td_minimal\"] = dc_cp(\n",
    "            min_val=0,\n",
    "            quantity=\"temperature_difference\"\n",
    "        )\n",
    "        params[\"dp_cooling\"] = dc_cp(\n",
    "            min_val=0,\n",
    "            structure_matrix=self.dp_structure_matrix,\n",
    "            func_params={\"inconn\": 1, \"outconn\": 1, \"dp\": \"dp_cooling\"},\n",
    "            quantity=\"pressure\"\n",
    "        )\n",
    "        return params\n",
    "\n",
    "    def cooling_energy_balance_func(self):\n",
    "        residual = (\n",
    "            self.inl[1].m.val_SI * (self.outl[1].h.val_SI - self.inl[1].h.val_SI)\n",
    "            + self.inl[0].m.val_SI * (\n",
    "                self.outl[0].h.val_SI\n",
    "                - self.outl[0].h.val_SI / (1 - self.dissipation_ratio.val_SI)\n",
    "                + self.inl[0].h.val_SI * (\n",
    "                    self.dissipation_ratio.val_SI / (1 - self.dissipation_ratio.val_SI)\n",
    "                )\n",
    "            ) * self.eta_recovery.val_SI\n",
    "        )\n",
    "        return residual\n",
    "\n",
    "    def cooling_energy_balance_dependents(self):\n",
    "        return [\n",
    "            self.inl[0].m, self.inl[1].m,\n",
    "            self.inl[0].h, self.inl[1].h,\n",
    "            self.outl[0].h, self.outl[1].h\n",
    "        ]\n",
    "\n",
    "    def calc_parameters(self):\n",
    "        super().calc_parameters()\n",
    "\n",
    "        i = self.inl[0]\n",
    "        o = self.outl[0]\n",
    "        h_2 = (\n",
    "            (o.h.val_SI - i.h.val_SI * self.dissipation_ratio.val_SI)\n",
    "            / (1 - self.dissipation_ratio.val_SI)\n",
    "        )\n",
    "        T_max_compressor_internal = T_mix_ph(\n",
    "            self.outl[0].p.val_SI,\n",
    "            h_2,\n",
    "            self.outl[0].fluid_data,\n",
    "            self.outl[0].mixing_rule,\n",
    "            T0=self.outl[0].T.val_SI\n",
    "        )\n",
    "        self.td_minimal.val_SI = (\n",
    "            T_max_compressor_internal\n",
    "            - self.outl[1].T.val_SI\n",
    "        )\n",
    "\n",
    "        self.dp_cooling.val_SI = self.inl[1].p.val_SI - self.outl[1].p.val_SI\n",
    "\n",
    "\n",
    "nw = Network()\n",
    "nw.units.set_defaults(\n",
    "    temperature=\"°C\",\n",
    "    pressure=\"bar\"\n",
    ")\n",
    "\n",
    "\n",
    "gas_inlet = Source(\"gas inlet\")\n",
    "gas_outlet = Sink(\"gas outlet\")\n",
    "\n",
    "water_inlet = Source(\"water cold\")\n",
    "water_outlet = Sink(\"water hot\")\n",
    "\n",
    "compressor = PolynomialCompressorWithCooling(\"compressor\")\n",
    "\n",
    "c1 = Connection(gas_inlet, \"out1\", compressor, \"in1\", label=\"c1\")\n",
    "c2 = Connection(compressor, \"out1\", gas_outlet, \"in1\", label=\"c2\")\n",
    "\n",
    "b1 = Connection(water_inlet, \"out1\", compressor, \"in2\", label=\"b1\")\n",
    "b2 = Connection(compressor, \"out2\", water_outlet, \"in1\", label=\"b2\")\n",
    "\n",
    "\n",
    "nw.add_conns(c1, c2, b1, b2)"
   ]
  },
  {
   "cell_type": "code",
   "execution_count": 43,
   "id": "afa2e946",
   "metadata": {},
   "outputs": [
    {
     "name": "stdout",
     "output_type": "stream",
     "text": [
      "\n",
      " iter  | residual   | progress   | massflow   | pressure   | enthalpy   | fluid      | component  \n",
      "-------+------------+------------+------------+------------+------------+------------+------------\n",
      " 1     | 3.81e+04   | 15 %       | 0.00e+00   | 0.00e+00   | 7.63e+05   | 0.00e+00   | 0.00e+00   \n",
      " 2     | 3.74e-03   | 93 %       | 0.00e+00   | 0.00e+00   | 7.48e-02   | 0.00e+00   | 0.00e+00   \n",
      " 3     | 4.37e-11   | 100 %      | 0.00e+00   | 0.00e+00   | 8.73e-10   | 0.00e+00   | 0.00e+00   \n",
      " 4     | 0.00e+00   | 100 %      | 0.00e+00   | 0.00e+00   | 0.00e+00   | 0.00e+00   | 0.00e+00   \n",
      "Total iterations: 4, Calculation time: 0.00 s, Iterations per second: 1393.46\n"
     ]
    }
   ],
   "source": [
    "c1.set_attr(fluid={\"R290\": 1}, m=1, T_dew=10, td_dew=10)\n",
    "c2.set_attr(T_dew=60, td_dew=25)\n",
    "\n",
    "b1.set_attr(fluid={\"water\": 1}, T=15, m=0.05, p=1)\n",
    "b2.set_attr(p=0.9)\n",
    "compressor.set_attr(dissipation_ratio=0.1, eta_recovery=0.9)\n",
    "\n",
    "nw.solve(\"design\")"
   ]
  },
  {
   "cell_type": "code",
   "execution_count": 44,
   "id": "f99f2568",
   "metadata": {},
   "outputs": [
    {
     "name": "stdout",
     "output_type": "stream",
     "text": [
      "\n",
      "##### RESULTS (PolynomialCompressorWithCooling) #####\n",
      "+------------+----------+-----------+---------------------+----------------+--------------+\n",
      "|            |       pr |        dp |   dissipation_ratio |   eta_recovery |   dp_cooling |\n",
      "|------------+----------+-----------+---------------------+----------------+--------------|\n",
      "| compressor | 3.33e+00 | -1.48e+01 |            \u001b[94m1.00e-01\u001b[0m |       \u001b[94m9.00e-01\u001b[0m |     1.00e-01 |\n",
      "+------------+----------+-----------+---------------------+----------------+--------------+\n",
      "##### RESULTS (Connection) #####\n",
      "+----+-----------+-----------+-----------+-----------+-----------+---------+\n",
      "|    |         m |         p |         h |         T |         x | phase   |\n",
      "|----+-----------+-----------+-----------+-----------+-----------+---------|\n",
      "| b1 | \u001b[94m5.000e-02\u001b[0m | \u001b[94m1.000e+00\u001b[0m | 6.308e+04 | \u001b[94m1.500e+01\u001b[0m | 0.000e+00 | l       |\n",
      "| b2 | 5.000e-02 | \u001b[94m9.000e-01\u001b[0m | 2.373e+05 | 5.666e+01 | 0.000e+00 | l       |\n",
      "| c1 | \u001b[94m1.000e+00\u001b[0m | 6.366e+00 | 6.040e+05 | 2.000e+01 | 1.000e+00 | g       |\n",
      "| c2 | 1.000e+00 | 2.117e+01 | 6.911e+05 | 8.500e+01 | 1.000e+00 | g       |\n",
      "+----+-----------+-----------+-----------+-----------+-----------+---------+\n"
     ]
    }
   ],
   "source": [
    "nw.print_results()"
   ]
  }
 ],
 "metadata": {
  "kernelspec": {
   "display_name": "tespy-user-meeting-2025",
   "language": "python",
   "name": "python3"
  },
  "language_info": {
   "codemirror_mode": {
    "name": "ipython",
    "version": 3
   },
   "file_extension": ".py",
   "mimetype": "text/x-python",
   "name": "python",
   "nbconvert_exporter": "python",
   "pygments_lexer": "ipython3",
   "version": "3.13.6"
  }
 },
 "nbformat": 4,
 "nbformat_minor": 5
}
