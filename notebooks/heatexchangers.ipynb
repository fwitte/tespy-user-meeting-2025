{
 "cells": [
  {
   "cell_type": "markdown",
   "id": "7f3ca169",
   "metadata": {},
   "source": [
    "# MovingBoundaryHeatExchanger (and SectionedHeatExchanger) class\n",
    "\n",
    "- 3 different categories of HeatExchangers\n",
    "\n",
    "1. 0D models without secondary side\n",
    "   - energy balance only, no pinch information\n",
    "   - SimpleHeatExchanger\n",
    "   - (ParabolicTrough, SolarCollector, Pipe)\n",
    "2. 0D models with secondary side (no internal states know)\n",
    "   - HeatExchanger\n",
    "   - Desuperheater (x=1 at hot side outlet)\n",
    "   - Condenser (x=0 at hot side outlet, upper terminal temperature difference\n",
    "     and kA refer to hot side condensation temperature level)\n",
    "3. 1D models (discretized internal states)\n",
    "   - SectionedHeatExchanger (cut into specified number of linear sections)\n",
    "   - MovingBoundaryHeatExchanger (cut into sections at phase boundaries, no pressure loss)\n",
    "\n",
    "## MovingBoundaryHeatExchanger\n",
    "\n",
    "Workflow\n",
    "\n",
    "1. For hot and for cold side:\n",
    "   1. Check if phase changes between inlet and outlet\n",
    "   2. If yes, calculate enthalpy of phase change point (assumes pressure does\n",
    "      not change). Idea to include pressure drop at end.\n",
    "   3. Use enthalpies at inlets and outlets and phase change points of each side\n",
    "      to calculate heat exchanged from start to that point ($Q_i$)\n",
    "   4. Merge both heat exchanged lists from hot and cold side\n",
    "   5. Cut the heat exchanger into sections at each heat exchange step\n",
    "2. Calculate internal temperatures \n",
    "   1. Calculate enthalpies at each step\n",
    "   $h_i = h_\\text{in} + \\frac{\\dot Q_i}{\\dot m}$, $h_i = h_\\text{out} - \\frac{\\dot Q_i}{\\dot m}$\n",
    "   1. Calculate temperature at each step $T_i=T(p, h_i)$ \n",
    "   2. Calculate temperature difference at each step $\\Delta T_i=T_{\\text{hot,}i} - T_{\\text{cold,}i}$\n",
    "3. For UA only:\n",
    "   1. Calculate logarithmic temperature difference per section between adjacent steps $\\Delta T_{\\text{log,}k}=\\frac{\\Delta T_i - \\Delta T_{i+1}}{\\ln\\frac{\\Delta T_i}{\\Delta T_{i+1}}}$\n",
    "   2. Calculate UA per section $UA_k=\\frac{\\dot Q_k}{\\Delta T_{\\text{log,}k}}$\n",
    "   3. Sum UA for overall $UA = \\sum UA_k$\n"
   ]
  },
  {
   "cell_type": "code",
   "execution_count": 1,
   "id": "f48591dc",
   "metadata": {
    "execution": {
     "iopub.execute_input": "2025-10-15T15:10:21.646871Z",
     "iopub.status.busy": "2025-10-15T15:10:21.646581Z",
     "iopub.status.idle": "2025-10-15T15:10:23.491783Z",
     "shell.execute_reply": "2025-10-15T15:10:23.490853Z"
    }
   },
   "outputs": [],
   "source": [
    "from tespy.components import MovingBoundaryHeatExchanger, Source, Sink, HeatExchanger\n",
    "from tespy.connections import Connection\n",
    "from tespy.networks import Network"
   ]
  },
  {
   "cell_type": "code",
   "execution_count": 2,
   "id": "cae298e9",
   "metadata": {
    "execution": {
     "iopub.execute_input": "2025-10-15T15:10:23.495032Z",
     "iopub.status.busy": "2025-10-15T15:10:23.494714Z",
     "iopub.status.idle": "2025-10-15T15:10:23.519179Z",
     "shell.execute_reply": "2025-10-15T15:10:23.518202Z"
    }
   },
   "outputs": [],
   "source": [
    "nw = Network()\n",
    "nw.units.set_defaults(\n",
    "    temperature=\"°C\",\n",
    "    pressure=\"bar\"\n",
    ")"
   ]
  },
  {
   "cell_type": "code",
   "execution_count": 3,
   "id": "2170ded3",
   "metadata": {
    "execution": {
     "iopub.execute_input": "2025-10-15T15:10:23.521977Z",
     "iopub.status.busy": "2025-10-15T15:10:23.521802Z",
     "iopub.status.idle": "2025-10-15T15:10:23.533804Z",
     "shell.execute_reply": "2025-10-15T15:10:23.533382Z"
    }
   },
   "outputs": [],
   "source": [
    "so1 = Source(\"source 1\")\n",
    "so2 = Source(\"source 2\")\n",
    "\n",
    "si1 = Sink(\"sink 1\")\n",
    "si2 = Sink(\"sink 2\")\n",
    "\n",
    "heatex = MovingBoundaryHeatExchanger(\"heatexchanger\")\n",
    "\n",
    "c1 = Connection(so1, \"out1\", heatex, \"in1\", label=\"c1\")\n",
    "c2 = Connection(heatex, \"out1\", si1, \"in1\", label=\"c2\")\n",
    "d1 = Connection(so2, \"out1\", heatex, \"in2\", label=\"d1\")\n",
    "d2 = Connection(heatex, \"out2\", si2, \"in1\", label=\"d2\")\n",
    "\n",
    "nw.add_conns(c1, c2, d1, d2)"
   ]
  },
  {
   "cell_type": "markdown",
   "id": "38832361",
   "metadata": {},
   "source": [
    "- In principle, the MovingBoundaryHeatExchanger works exactly as the 0D model"
   ]
  },
  {
   "cell_type": "code",
   "execution_count": 4,
   "id": "c0a64bec",
   "metadata": {
    "execution": {
     "iopub.execute_input": "2025-10-15T15:10:23.536197Z",
     "iopub.status.busy": "2025-10-15T15:10:23.536031Z",
     "iopub.status.idle": "2025-10-15T15:10:23.592340Z",
     "shell.execute_reply": "2025-10-15T15:10:23.591789Z"
    }
   },
   "outputs": [
    {
     "name": "stdout",
     "output_type": "stream",
     "text": [
      "\n",
      " iter  | residual   | progress   | massflow   | pressure   | enthalpy   | fluid      | component  \n",
      "-------+------------+------------+------------+------------+------------+------------+------------\n",
      " 1     | 1.93e+06   | 0 %        | 4.62e+01   | 0.00e+00   | 0.00e+00   | 0.00e+00   | 0.00e+00   \n",
      " 2     | 4.49e-06   | 100 %      | 1.07e-10   | 0.00e+00   | 0.00e+00   | 0.00e+00   | 0.00e+00   \n",
      " 3     | 4.66e-10   | 100 %      | 1.11e-14   | 0.00e+00   | 0.00e+00   | 0.00e+00   | 0.00e+00   \n",
      " 4     | 0.00e+00   | 100 %      | 0.00e+00   | 0.00e+00   | 0.00e+00   | 0.00e+00   | 0.00e+00   \n",
      "Total iterations: 4, Calculation time: 0.00 s, Iterations per second: 3042.66\n"
     ]
    }
   ],
   "source": [
    "c1.set_attr(fluid={\"R290\": 1}, td_dew=50, T_dew=60, m=5)\n",
    "c2.set_attr(td_bubble=5)\n",
    "d1.set_attr(fluid={\"water\": 1}, p=1, T=45)\n",
    "d2.set_attr(T=55)\n",
    "\n",
    "heatex.set_attr(dp1=0, dp2=0)\n",
    "\n",
    "nw.solve(\"design\")"
   ]
  },
  {
   "cell_type": "markdown",
   "id": "b508699a",
   "metadata": {},
   "source": [
    "- The component has internal pinch and overall UA based on identified sections\n",
    "  on top of final (upper ttd) and initial (lower ttd) pinch"
   ]
  },
  {
   "cell_type": "code",
   "execution_count": 5,
   "id": "f2705467",
   "metadata": {
    "execution": {
     "iopub.execute_input": "2025-10-15T15:10:23.594761Z",
     "iopub.status.busy": "2025-10-15T15:10:23.594567Z",
     "iopub.status.idle": "2025-10-15T15:10:23.605116Z",
     "shell.execute_reply": "2025-10-15T15:10:23.604505Z"
    }
   },
   "outputs": [
    {
     "data": {
      "text/html": [
       "<div>\n",
       "<style scoped>\n",
       "    .dataframe tbody tr th:only-of-type {\n",
       "        vertical-align: middle;\n",
       "    }\n",
       "\n",
       "    .dataframe tbody tr th {\n",
       "        vertical-align: top;\n",
       "    }\n",
       "\n",
       "    .dataframe thead th {\n",
       "        text-align: right;\n",
       "    }\n",
       "</style>\n",
       "<table border=\"1\" class=\"dataframe\">\n",
       "  <thead>\n",
       "    <tr style=\"text-align: right;\">\n",
       "      <th></th>\n",
       "      <th>td_pinch</th>\n",
       "      <th>UA</th>\n",
       "      <th>ttd_u</th>\n",
       "      <th>ttd_l</th>\n",
       "      <th>kA</th>\n",
       "    </tr>\n",
       "  </thead>\n",
       "  <tbody>\n",
       "    <tr>\n",
       "      <th>heatexchanger</th>\n",
       "      <td>8.083313</td>\n",
       "      <td>149421.272696</td>\n",
       "      <td>55.0</td>\n",
       "      <td>10.0</td>\n",
       "      <td>75450.770006</td>\n",
       "    </tr>\n",
       "  </tbody>\n",
       "</table>\n",
       "</div>"
      ],
      "text/plain": [
       "               td_pinch             UA ttd_u ttd_l            kA\n",
       "heatexchanger  8.083313  149421.272696  55.0  10.0  75450.770006"
      ]
     },
     "execution_count": 5,
     "metadata": {},
     "output_type": "execute_result"
    }
   ],
   "source": [
    "nw.results[\"MovingBoundaryHeatExchanger\"][[\"td_pinch\", \"UA\", \"ttd_u\", \"ttd_l\", \"kA\"]]"
   ]
  },
  {
   "cell_type": "markdown",
   "id": "70178447",
   "metadata": {},
   "source": [
    "- We can extract the sections: temperatures and heat transfer and make a QT plot"
   ]
  },
  {
   "cell_type": "code",
   "execution_count": 6,
   "id": "a0592ea2",
   "metadata": {
    "execution": {
     "iopub.execute_input": "2025-10-15T15:10:23.607397Z",
     "iopub.status.busy": "2025-10-15T15:10:23.607223Z",
     "iopub.status.idle": "2025-10-15T15:10:24.035622Z",
     "shell.execute_reply": "2025-10-15T15:10:24.034889Z"
    }
   },
   "outputs": [
    {
     "data": {
      "text/plain": [
       "[<matplotlib.lines.Line2D at 0x7b32aae43d90>]"
      ]
     },
     "execution_count": 6,
     "metadata": {},
     "output_type": "execute_result"
    },
    {
     "data": {
      "image/png": "[encoded data removed]",
      "text/plain": [
       "<Figure size 640x480 with 1 Axes>"
      ]
     },
     "metadata": {},
     "output_type": "display_data"
    }
   ],
   "source": [
    "from matplotlib import pyplot as plt\n",
    "\n",
    "\n",
    "heat, T_hot, T_cold, heat_per_section, td_log_per_section = heatex.calc_sections()\n",
    "\n",
    "fig, ax = plt.subplots(1)\n",
    "\n",
    "ax.plot(heat, T_hot, \"o-\", color=\"red\")\n",
    "ax.plot(heat, T_cold, \"o-\", color=\"blue\")"
   ]
  },
  {
   "cell_type": "markdown",
   "id": "08303634",
   "metadata": {},
   "source": [
    "- pinches are T_hot - T_cold"
   ]
  },
  {
   "cell_type": "code",
   "execution_count": 7,
   "id": "fb6f140f",
   "metadata": {
    "execution": {
     "iopub.execute_input": "2025-10-15T15:10:24.038700Z",
     "iopub.status.busy": "2025-10-15T15:10:24.038361Z",
     "iopub.status.idle": "2025-10-15T15:10:24.043597Z",
     "shell.execute_reply": "2025-10-15T15:10:24.042883Z"
    }
   },
   "outputs": [
    {
     "data": {
      "text/plain": [
       "array([10.        , 14.59169089,  8.08331341, 55.        ])"
      ]
     },
     "execution_count": 7,
     "metadata": {},
     "output_type": "execute_result"
    }
   ],
   "source": [
    "T_hot - T_cold"
   ]
  },
  {
   "cell_type": "code",
   "execution_count": 8,
   "id": "3b4327d3",
   "metadata": {
    "execution": {
     "iopub.execute_input": "2025-10-15T15:10:24.046544Z",
     "iopub.status.busy": "2025-10-15T15:10:24.046338Z",
     "iopub.status.idle": "2025-10-15T15:10:24.233619Z",
     "shell.execute_reply": "2025-10-15T15:10:24.233060Z"
    }
   },
   "outputs": [
    {
     "name": "stdout",
     "output_type": "stream",
     "text": [
      "\n",
      " iter  | residual   | progress   | massflow   | pressure   | enthalpy   | fluid      | component  \n",
      "-------+------------+------------+------------+------------+------------+------------+------------\n",
      " 1     | 5.58e+00   | 58 %       | 1.13e+00   | 2.35e+05   | 1.82e+04   | 0.00e+00   | 0.00e+00   \n",
      " 2     | 3.16e-01   | 72 %       | 3.28e-02   | 8.92e+03   | 2.14e+02   | 0.00e+00   | 0.00e+00   \n",
      " 3     | 6.28e-04   | 100 %      | 2.86e-05   | 1.09e+01   | 7.03e-01   | 0.00e+00   | 0.00e+00   \n",
      " 4     | 1.47e-07   | 100 %      | 2.79e-08   | 5.45e-03   | 4.56e-04   | 0.00e+00   | 0.00e+00   \n",
      " 5     | 1.40e-09   | 100 %      | 7.77e-12   | 1.56e-06   | 1.29e-07   | 0.00e+00   | 0.00e+00   \n",
      "Total iterations: 5, Calculation time: 0.05 s, Iterations per second: 100.22\n"
     ]
    },
    {
     "data": {
      "text/plain": [
       "array([ 4.59722394,  9.2137448 ,  2.5       , 49.59722394])"
      ]
     },
     "execution_count": 8,
     "metadata": {},
     "output_type": "execute_result"
    },
    {
     "data": {
      "image/png": "[encoded data removed]",
      "text/plain": [
       "<Figure size 640x480 with 1 Axes>"
      ]
     },
     "metadata": {},
     "output_type": "display_data"
    }
   ],
   "source": [
    "c1.set_attr(T_dew=None)\n",
    "heatex.set_attr(td_pinch=2.5)\n",
    "nw.solve(\"design\")\n",
    "\n",
    "heat, T_hot, T_cold, heat_per_section, td_log_per_section = heatex.calc_sections()\n",
    "\n",
    "fig, ax = plt.subplots(1)\n",
    "\n",
    "ax.plot(heat, T_hot, \"o-\", color=\"red\")\n",
    "ax.plot(heat, T_cold, \"o-\", color=\"blue\")\n",
    "\n",
    "T_hot - T_cold"
   ]
  },
  {
   "cell_type": "markdown",
   "id": "0f08462c",
   "metadata": {},
   "source": [
    "- kA references the terminal temperatures and calculates td_log based on those\n",
    "- UA references the terminal temperatures of each section and sums the UA of\n",
    "  all sections to total UA"
   ]
  },
  {
   "cell_type": "code",
   "execution_count": 9,
   "id": "e57599dd",
   "metadata": {
    "execution": {
     "iopub.execute_input": "2025-10-15T15:10:24.236300Z",
     "iopub.status.busy": "2025-10-15T15:10:24.236093Z",
     "iopub.status.idle": "2025-10-15T15:10:24.240274Z",
     "shell.execute_reply": "2025-10-15T15:10:24.239788Z"
    }
   },
   "outputs": [
    {
     "data": {
      "text/plain": [
       "(107696.44791648, 315051.56453399634)"
      ]
     },
     "execution_count": 9,
     "metadata": {},
     "output_type": "execute_result"
    }
   ],
   "source": [
    "heatex.kA.val, heatex.UA.val"
   ]
  },
  {
   "cell_type": "markdown",
   "id": "381fc1f8",
   "metadata": {},
   "source": [
    "Fix UA for pinch calculation is also possible"
   ]
  },
  {
   "cell_type": "code",
   "execution_count": 10,
   "id": "fab3f6b1",
   "metadata": {
    "execution": {
     "iopub.execute_input": "2025-10-15T15:10:24.242544Z",
     "iopub.status.busy": "2025-10-15T15:10:24.242387Z",
     "iopub.status.idle": "2025-10-15T15:10:24.334092Z",
     "shell.execute_reply": "2025-10-15T15:10:24.333165Z"
    }
   },
   "outputs": [
    {
     "name": "stdout",
     "output_type": "stream",
     "text": [
      "\n",
      " iter  | residual   | progress   | massflow   | pressure   | enthalpy   | fluid      | component  \n",
      "-------+------------+------------+------------+------------+------------+------------+------------\n",
      " 1     | 3.49e+04   | 16 %       | 9.91e-02   | 2.02e+04   | 1.67e+03   | 0.00e+00   | 0.00e+00   \n",
      " 2     | 5.42e+03   | 25 %       | 1.14e-02   | 2.34e+03   | 1.90e+02   | 0.00e+00   | 0.00e+00   \n",
      " 3     | 9.95e+01   | 44 %       | 2.18e-04   | 4.45e+01   | 3.63e+00   | 0.00e+00   | 0.00e+00   \n",
      " 4     | 4.22e-02   | 81 %       | 9.43e-08   | 1.89e-02   | 1.56e-03   | 0.00e+00   | 0.00e+00   \n",
      " 5     | 5.97e-06   | 100 %      | 1.34e-11   | 2.66e-06   | 2.32e-07   | 0.00e+00   | 0.00e+00   \n",
      " 6     | 7.93e-07   | 100 %      | 1.67e-12   | 3.56e-07   | 2.82e-08   | 0.00e+00   | 0.00e+00   \n",
      "Total iterations: 6, Calculation time: 0.06 s, Iterations per second: 102.78\n"
     ]
    }
   ],
   "source": [
    "heatex.set_attr(td_pinch=None, UA=350e3)\n",
    "nw.solve(\"design\")\n",
    "nw.save(\"design.json\")"
   ]
  },
  {
   "cell_type": "code",
   "execution_count": 11,
   "id": "90e21569",
   "metadata": {
    "execution": {
     "iopub.execute_input": "2025-10-15T15:10:24.336107Z",
     "iopub.status.busy": "2025-10-15T15:10:24.335916Z",
     "iopub.status.idle": "2025-10-15T15:10:24.443532Z",
     "shell.execute_reply": "2025-10-15T15:10:24.442866Z"
    }
   },
   "outputs": [
    {
     "data": {
      "text/plain": [
       "array([ 4.15215426,  8.77051812,  2.04118551, 49.15215426])"
      ]
     },
     "execution_count": 11,
     "metadata": {},
     "output_type": "execute_result"
    },
    {
     "data": {
      "image/png": "[encoded data removed]",
      "text/plain": [
       "<Figure size 640x480 with 1 Axes>"
      ]
     },
     "metadata": {},
     "output_type": "display_data"
    }
   ],
   "source": [
    "heat, T_hot, T_cold, heat_per_section, td_log_per_section = heatex.calc_sections()\n",
    "\n",
    "fig, ax = plt.subplots(1)\n",
    "\n",
    "ax.plot(heat, T_hot, \"o-\", color=\"red\")\n",
    "ax.plot(heat, T_cold, \"o-\", color=\"blue\")\n",
    "\n",
    "T_hot - T_cold"
   ]
  },
  {
   "cell_type": "markdown",
   "id": "4cd0981d",
   "metadata": {},
   "source": [
    "We can adapt UA in offdesign with the UA_cecchinato modification\n",
    "\n",
    "\n",
    "$$\n",
    "            f_\\text{UA}=\\frac{\n",
    "                1 + \\frac{\\alpha_\\text{sf}}{\\alpha_\\text{r}}\n",
    "                \\cdot\\frac{A_\\text{sf}}{A_\\text{r}}\n",
    "            }{\n",
    "                \\frac{\\dot m_\\text{sf}}{\\dot m_\\text{sf,ref}}^{-Re_\\text{sf}} +\n",
    "                \\frac{\\alpha_\\text{sf}}{\\alpha_\\text{r}}\n",
    "                \\cdot\\frac{A_\\text{sf}}{A_\\text{r}}\n",
    "                \\cdot\\frac{\\dot m_\\text{r}}{\\dot m_\\text{r,ref}}^{-Re_\\text{r}}\n",
    "            }\n",
    "$$"
   ]
  },
  {
   "cell_type": "code",
   "execution_count": 12,
   "id": "cc447d95",
   "metadata": {
    "execution": {
     "iopub.execute_input": "2025-10-15T15:10:24.445806Z",
     "iopub.status.busy": "2025-10-15T15:10:24.445608Z",
     "iopub.status.idle": "2025-10-15T15:10:25.504047Z",
     "shell.execute_reply": "2025-10-15T15:10:25.503413Z"
    }
   },
   "outputs": [
    {
     "name": "stdout",
     "output_type": "stream",
     "text": [
      "\n",
      " iter  | residual   | progress   | massflow   | pressure   | enthalpy   | fluid      | component  \n",
      "-------+------------+------------+------------+------------+------------+------------+------------\n",
      " 1     | 1.70e-06   | 100 %      | 3.94e-12   | 7.61e-07   | 6.43e-08   | 0.00e+00   | 0.00e+00   \n",
      " 2     | 3.25e-06   | 100 %      | 7.17e-12   | 1.46e-06   | 1.22e-07   | 0.00e+00   | 0.00e+00   \n",
      " 3     | 6.14e-07   | 100 %      | 1.39e-12   | 2.76e-07   | 2.32e-08   | 0.00e+00   | 0.00e+00   \n",
      " 4     | 1.39e-07   | 100 %      | 2.59e-15   | 6.54e-08   | 2.34e-09   | 0.00e+00   | 0.00e+00   \n",
      "Total iterations: 4, Calculation time: 0.04 s, Iterations per second: 102.85\n",
      "\n",
      " iter  | residual   | progress   | massflow   | pressure   | enthalpy   | fluid      | component  \n",
      "-------+------------+------------+------------+------------+------------+------------+------------\n",
      " 1     | 1.27e+05   | 9 %        | 2.90e+00   | 6.50e+03   | 5.40e+02   | 0.00e+00   | 0.00e+00   \n",
      " 2     | 6.61e+03   | 24 %       | 1.32e-02   | 2.84e+03   | 2.36e+02   | 0.00e+00   | 0.00e+00   \n"
     ]
    },
    {
     "name": "stdout",
     "output_type": "stream",
     "text": [
      " 3     | 1.55e+02   | 42 %       | 3.23e-04   | 7.01e+01   | 5.74e+00   | 0.00e+00   | 0.00e+00   \n",
      " 4     | 6.89e-02   | 79 %       | 1.44e-07   | 3.12e-02   | 2.52e-03   | 0.00e+00   | 0.00e+00   \n",
      " 5     | 3.38e-05   | 100 %      | 7.16e-11   | 1.52e-05   | 1.27e-06   | 0.00e+00   | 0.00e+00   \n",
      " 6     | 2.51e-06   | 100 %      | 5.44e-12   | 1.13e-06   | 9.46e-08   | 0.00e+00   | 0.00e+00   \n",
      "Total iterations: 6, Calculation time: 0.06 s, Iterations per second: 103.23\n",
      "\n",
      " iter  | residual   | progress   | massflow   | pressure   | enthalpy   | fluid      | component  \n",
      "-------+------------+------------+------------+------------+------------+------------+------------\n",
      " 1     | 1.27e+05   | 9 %        | 2.90e+00   | 7.06e+03   | 5.88e+02   | 0.00e+00   | 0.00e+00   \n",
      " 2     | 7.66e+03   | 23 %       | 1.42e-02   | 3.28e+03   | 2.73e+02   | 0.00e+00   | 0.00e+00   \n",
      " 3     | 2.17e+02   | 40 %       | 4.25e-04   | 9.85e+01   | 8.07e+00   | 0.00e+00   | 0.00e+00   \n",
      " 4     | 2.66e-01   | 73 %       | 5.26e-07   | 1.21e-01   | 1.00e-02   | 0.00e+00   | 0.00e+00   \n",
      " 5     | 4.36e-05   | 100 %      | 8.07e-11   | 1.98e-05   | 1.66e-06   | 0.00e+00   | 0.00e+00   \n",
      " 6     | 1.54e-06   | 100 %      | 3.04e-12   | 7.01e-07   | 5.81e-08   | 0.00e+00   | 0.00e+00   \n",
      "Total iterations: 6, Calculation time: 0.06 s, Iterations per second: 106.74\n",
      "\n",
      " iter  | residual   | progress   | massflow   | pressure   | enthalpy   | fluid      | component  \n",
      "-------+------------+------------+------------+------------+------------+------------+------------\n"
     ]
    },
    {
     "name": "stdout",
     "output_type": "stream",
     "text": [
      " 1     | 1.28e+05   | 9 %        | 2.90e+00   | 7.75e+03   | 6.46e+02   | 0.00e+00   | 0.00e+00   \n",
      " 2     | 8.99e+03   | 22 %       | 1.54e-02   | 3.81e+03   | 3.18e+02   | 0.00e+00   | 0.00e+00   \n",
      " 3     | 3.11e+02   | 38 %       | 5.68e-04   | 1.41e+02   | 1.16e+01   | 0.00e+00   | 0.00e+00   \n",
      " 4     | 3.22e-01   | 72 %       | 5.99e-07   | 1.47e-01   | 1.20e-02   | 0.00e+00   | 0.00e+00   \n",
      " 5     | 1.14e-04   | 100 %      | 2.21e-10   | 5.20e-05   | 4.40e-06   | 0.00e+00   | 0.00e+00   \n",
      " 6     | 3.10e-07   | 100 %      | 4.00e-13   | 1.42e-07   | 1.07e-08   | 0.00e+00   | 0.00e+00   \n",
      "Total iterations: 6, Calculation time: 0.06 s, Iterations per second: 102.60\n",
      "\n",
      " iter  | residual   | progress   | massflow   | pressure   | enthalpy   | fluid      | component  \n",
      "-------+------------+------------+------------+------------+------------+------------+------------\n",
      " 1     | 1.28e+05   | 9 %        | 2.90e+00   | 8.59e+03   | 7.17e+02   | 0.00e+00   | 0.00e+00   \n"
     ]
    },
    {
     "name": "stdout",
     "output_type": "stream",
     "text": [
      " 2     | 1.07e+04   | 21 %       | 1.67e-02   | 4.47e+03   | 3.73e+02   | 0.00e+00   | 0.00e+00   \n",
      " 3     | 4.59e+02   | 37 %       | 7.81e-04   | 2.10e+02   | 1.72e+01   | 0.00e+00   | 0.00e+00   \n",
      " 4     | 9.56e-01   | 66 %       | 1.62e-06   | 4.38e-01   | 3.60e-02   | 0.00e+00   | 0.00e+00   \n",
      " 5     | 3.10e-05   | 100 %      | 6.81e-11   | 1.39e-05   | 1.46e-06   | 0.00e+00   | 0.00e+00   \n",
      " 6     | 5.74e-07   | 100 %      | 8.74e-13   | 2.64e-07   | 2.08e-08   | 0.00e+00   | 0.00e+00   \n",
      "Total iterations: 6, Calculation time: 0.06 s, Iterations per second: 101.73\n",
      "\n",
      " iter  | residual   | progress   | massflow   | pressure   | enthalpy   | fluid      | component  \n",
      "-------+------------+------------+------------+------------+------------+------------+------------\n",
      " 1     | 1.29e+05   | 9 %        | 2.90e+00   | 9.67e+03   | 8.07e+02   | 0.00e+00   | 0.00e+00   \n",
      " 2     | 1.30e+04   | 20 %       | 1.83e-02   | 5.30e+03   | 4.43e+02   | 0.00e+00   | 0.00e+00   \n",
      " 3     | 7.02e+02   | 35 %       | 1.10e-03   | 3.21e+02   | 2.65e+01   | 0.00e+00   | 0.00e+00   \n",
      " 4     | 2.42e+00   | 62 %       | 3.83e-06   | 1.11e+00   | 9.18e-02   | 0.00e+00   | 0.00e+00   \n",
      " 5     | 6.48e-05   | 100 %      | 1.15e-10   | 3.00e-05   | 2.32e-06   | 0.00e+00   | 0.00e+00   \n",
      " 6     | 5.94e-07   | 100 %      | 8.92e-13   | 2.74e-07   | 2.17e-08   | 0.00e+00   | 0.00e+00   \n",
      "Total iterations: 6, Calculation time: 0.06 s, Iterations per second: 106.29\n",
      "\n",
      " iter  | residual   | progress   | massflow   | pressure   | enthalpy   | fluid      | component  \n",
      "-------+------------+------------+------------+------------+------------+------------+------------\n",
      " 1     | 1.30e+05   | 9 %        | 2.90e+00   | 1.10e+04   | 9.23e+02   | 0.00e+00   | 0.00e+00   \n",
      " 2     | 1.60e+04   | 19 %       | 2.00e-02   | 6.34e+03   | 5.30e+02   | 0.00e+00   | 0.00e+00   \n",
      " 3     | 1.11e+03   | 32 %       | 1.60e-03   | 5.08e+02   | 4.20e+01   | 0.00e+00   | 0.00e+00   \n",
      " 4     | 5.80e+00   | 58 %       | 8.43e-06   | 2.68e+00   | 2.21e-01   | 0.00e+00   | 0.00e+00   \n",
      " 5     | 1.87e-03   | 96 %       | 2.63e-09   | 8.66e-04   | 6.97e-05   | 0.00e+00   | 0.00e+00   \n"
     ]
    },
    {
     "name": "stdout",
     "output_type": "stream",
     "text": [
      " 6     | 1.69e-07   | 100 %      | 3.05e-13   | 7.73e-08   | 6.97e-09   | 0.00e+00   | 0.00e+00   \n",
      " 7     | 4.44e-07   | 100 %      | 7.73e-13   | 2.04e-07   | 1.80e-08   | 0.00e+00   | 0.00e+00   \n",
      "Total iterations: 7, Calculation time: 0.07 s, Iterations per second: 105.01\n",
      "\n",
      " iter  | residual   | progress   | massflow   | pressure   | enthalpy   | fluid      | component  \n",
      "-------+------------+------------+------------+------------+------------+------------+------------\n",
      " 1     | 1.30e+05   | 9 %        | 2.90e+00   | 1.28e+04   | 1.07e+03   | 0.00e+00   | 0.00e+00   \n",
      " 2     | 2.04e+04   | 18 %       | 2.19e-02   | 7.64e+03   | 6.40e+02   | 0.00e+00   | 0.00e+00   \n",
      " 3     | 1.87e+03   | 30 %       | 2.42e-03   | 8.48e+02   | 7.04e+01   | 0.00e+00   | 0.00e+00   \n"
     ]
    },
    {
     "name": "stdout",
     "output_type": "stream",
     "text": [
      " 4     | 1.89e+01   | 52 %       | 2.49e-05   | 8.76e+00   | 7.24e-01   | 0.00e+00   | 0.00e+00   \n",
      " 5     | 6.43e-04   | 100 %      | 4.46e-10   | 2.97e-04   | 2.36e-05   | 0.00e+00   | 0.00e+00   \n",
      " 6     | 2.25e-07   | 100 %      | 2.09e-13   | 1.04e-07   | 8.83e-09   | 0.00e+00   | 0.00e+00   \n",
      "Total iterations: 6, Calculation time: 0.06 s, Iterations per second: 103.17\n",
      "\n",
      " iter  | residual   | progress   | massflow   | pressure   | enthalpy   | fluid      | component  \n",
      "-------+------------+------------+------------+------------+------------+------------+------------\n",
      " 1     | 1.31e+05   | 9 %        | 2.90e+00   | 1.53e+04   | 1.28e+03   | 0.00e+00   | 0.00e+00   \n",
      " 2     | 2.70e+04   | 17 %       | 2.37e-02   | 9.23e+03   | 7.74e+02   | 0.00e+00   | 0.00e+00   \n",
      " 3     | 3.36e+03   | 27 %       | 3.84e-03   | 1.50e+03   | 1.25e+02   | 0.00e+00   | 0.00e+00   \n",
      " 4     | 6.22e+01   | 46 %       | 7.36e-05   | 2.88e+01   | 2.39e+00   | 0.00e+00   | 0.00e+00   \n",
      " 5     | 2.90e-02   | 83 %       | 3.17e-08   | 1.34e-02   | 1.09e-03   | 0.00e+00   | 0.00e+00   \n",
      " 6     | 9.99e-06   | 100 %      | 1.23e-11   | 4.62e-06   | 3.88e-07   | 0.00e+00   | 0.00e+00   \n",
      " 7     | 2.72e-06   | 100 %      | 3.24e-12   | 1.26e-06   | 1.06e-07   | 0.00e+00   | 0.00e+00   \n",
      "Total iterations: 7, Calculation time: 0.07 s, Iterations per second: 103.31\n",
      "\n",
      " iter  | residual   | progress   | massflow   | pressure   | enthalpy   | fluid      | component  \n",
      "-------+------------+------------+------------+------------+------------+------------+------------\n",
      " 1     | 1.32e+05   | 9 %        | 2.90e+00   | 1.87e+04   | 1.57e+03   | 0.00e+00   | 0.00e+00   \n",
      " 2     | 3.79e+04   | 15 %       | 2.51e-02   | 1.10e+04   | 9.28e+02   | 0.00e+00   | 0.00e+00   \n",
      " 3     | 6.64e+03   | 24 %       | 6.42e-03   | 2.83e+03   | 2.36e+02   | 0.00e+00   | 0.00e+00   \n",
      " 4     | 2.61e+02   | 39 %       | 2.73e-04   | 1.21e+02   | 1.00e+01   | 0.00e+00   | 0.00e+00   \n",
      " 5     | 4.21e-01   | 70 %       | 4.47e-07   | 1.95e-01   | 1.63e-02   | 0.00e+00   | 0.00e+00   \n"
     ]
    },
    {
     "name": "stdout",
     "output_type": "stream",
     "text": [
      " 6     | 1.79e-05   | 100 %      | 1.48e-11   | 8.32e-06   | 6.27e-07   | 0.00e+00   | 0.00e+00   \n",
      " 7     | 7.10e-07   | 100 %      | 8.06e-13   | 3.27e-07   | 2.88e-08   | 0.00e+00   | 0.00e+00   \n",
      "Total iterations: 7, Calculation time: 0.07 s, Iterations per second: 98.56\n",
      "\n",
      " iter  | residual   | progress   | massflow   | pressure   | enthalpy   | fluid      | component  \n",
      "-------+------------+------------+------------+------------+------------+------------+------------\n",
      " 1     | 1.33e+05   | 9 %        | 2.89e+00   | 2.37e+04   | 1.99e+03   | 0.00e+00   | 0.00e+00   \n",
      " 2     | 5.94e+04   | 13 %       | 2.45e-02   | 1.24e+04   | 1.04e+03   | 0.00e+00   | 0.00e+00   \n",
      " 3     | 1.54e+04   | 20 %       | 1.13e-02   | 5.72e+03   | 4.81e+02   | 0.00e+00   | 0.00e+00   \n",
      " 4     | 1.45e+03   | 31 %       | 1.29e-03   | 6.53e+02   | 5.46e+01   | 0.00e+00   | 0.00e+00   \n",
      " 5     | 1.48e+01   | 53 %       | 1.34e-05   | 6.81e+00   | 5.68e-01   | 0.00e+00   | 0.00e+00   \n"
     ]
    },
    {
     "name": "stdout",
     "output_type": "stream",
     "text": [
      " 6     | 3.31e-03   | 94 %       | 3.01e-09   | 1.52e-03   | 1.27e-04   | 0.00e+00   | 0.00e+00   \n",
      " 7     | 6.13e-07   | 100 %      | 6.12e-13   | 2.82e-07   | 2.41e-08   | 0.00e+00   | 0.00e+00   \n",
      " 8     | 2.12e-06   | 100 %      | 1.99e-12   | 9.77e-07   | 8.32e-08   | 0.00e+00   | 0.00e+00   \n",
      "Total iterations: 8, Calculation time: 0.08 s, Iterations per second: 106.28\n"
     ]
    },
    {
     "data": {
      "text/plain": [
       "<matplotlib.collections.PathCollection at 0x7b32ae36a900>"
      ]
     },
     "execution_count": 12,
     "metadata": {},
     "output_type": "execute_result"
    },
    {
     "data": {
      "image/png": "[encoded data removed]",
      "text/plain": [
       "<Figure size 640x480 with 1 Axes>"
      ]
     },
     "metadata": {},
     "output_type": "display_data"
    }
   ],
   "source": [
    "import numpy as np\n",
    "\n",
    "\n",
    "heatex.set_attr(UA=None, alpha_ratio=1, area_ratio=1, refrigerant_index=0, re_exp_sf=0.55, re_exp_r=0.7)\n",
    "\n",
    "m_range = np.linspace(5, 2, 11)\n",
    "UA_offdesign = []\n",
    "for m in m_range:\n",
    "    c1.set_attr(m=m)\n",
    "    nw.solve(\"offdesign\", design_path=\"design.json\")\n",
    "    UA_offdesign.append(heatex.UA.val)\n",
    "\n",
    "\n",
    "fig, ax = plt.subplots(1)\n",
    "\n",
    "ax.scatter(m_range, UA_offdesign)"
   ]
  },
  {
   "cell_type": "markdown",
   "id": "2d7ad09f",
   "metadata": {},
   "source": [
    "## SectionedHeatExchanger\n",
    "\n",
    "Workflow\n",
    "\n",
    "1. One one side:\n",
    "   1. Calculate the enthalpy (linearly spaced) at $N+1$ steps (numpy linspace)\n",
    "      ($N$: number sections) steps $h_i=h_\\text{in} + \\frac{h_\\text{out} - h_\\text{in}}{N} \\cdot i$\n",
    "   2. Assign pressure for each step (numpy linspace) $p_i=h_\\text{in} + \\frac{p_\\text{out} - p_\\text{in}}{N} \\cdot i$\n",
    "2. Calculate internal temperatures \n",
    "   1. Calculate enthalpies at each step\n",
    "   $h_i = h_\\text{in} + \\frac{\\dot Q_i}{\\dot m}$, $h_i = h_\\text{out} - \\frac{\\dot Q_i}{\\dot m}$\n",
    "   1. Calculate temperature at each step $T_i=T(p_i, h_i)$ \n",
    "   2. Calculate temperature difference at each step $\\Delta T_i=T_{\\text{hot,}i} - T_{\\text{cold,}i}$\n",
    "3. For UA only:\n",
    "   1. Calculate logarithmic temperature difference per section between adjacent steps $\\Delta T_{\\text{log,}k}=\\frac{\\Delta T_i - \\Delta T_{i+1}}{\\ln\\frac{\\Delta T_i}{\\Delta T_{i+1}}}$\n",
    "   2. Calculate UA per section $UA_k=\\frac{\\dot Q_k}{\\Delta T_{\\text{log,}k}}$\n",
    "   3. Sum UA for overall $UA = \\sum UA_k$"
   ]
  },
  {
   "cell_type": "code",
   "execution_count": 13,
   "id": "985c13e7",
   "metadata": {
    "execution": {
     "iopub.execute_input": "2025-10-15T15:10:25.506480Z",
     "iopub.status.busy": "2025-10-15T15:10:25.506285Z",
     "iopub.status.idle": "2025-10-15T15:10:25.509070Z",
     "shell.execute_reply": "2025-10-15T15:10:25.508459Z"
    }
   },
   "outputs": [],
   "source": [
    "from tespy.components import SectionedHeatExchanger"
   ]
  },
  {
   "cell_type": "code",
   "execution_count": 14,
   "id": "f5a372e1",
   "metadata": {
    "execution": {
     "iopub.execute_input": "2025-10-15T15:10:25.511381Z",
     "iopub.status.busy": "2025-10-15T15:10:25.511212Z",
     "iopub.status.idle": "2025-10-15T15:10:25.533368Z",
     "shell.execute_reply": "2025-10-15T15:10:25.532686Z"
    }
   },
   "outputs": [],
   "source": [
    "nw = Network()\n",
    "nw.units.set_defaults(\n",
    "    temperature=\"°C\",\n",
    "    pressure=\"bar\"\n",
    ")"
   ]
  },
  {
   "cell_type": "code",
   "execution_count": 15,
   "id": "bbd0ca2d",
   "metadata": {
    "execution": {
     "iopub.execute_input": "2025-10-15T15:10:25.536227Z",
     "iopub.status.busy": "2025-10-15T15:10:25.536044Z",
     "iopub.status.idle": "2025-10-15T15:10:25.547302Z",
     "shell.execute_reply": "2025-10-15T15:10:25.546916Z"
    }
   },
   "outputs": [],
   "source": [
    "so1 = Source(\"source 1\")\n",
    "so2 = Source(\"source 2\")\n",
    "\n",
    "si1 = Sink(\"sink 1\")\n",
    "si2 = Sink(\"sink 2\")\n",
    "\n",
    "heatex = SectionedHeatExchanger(\"heatexchanger\")\n",
    "\n",
    "c1 = Connection(so1, \"out1\", heatex, \"in1\", label=\"c1\")\n",
    "c2 = Connection(heatex, \"out1\", si1, \"in1\", label=\"c2\")\n",
    "d1 = Connection(so2, \"out1\", heatex, \"in2\", label=\"d1\")\n",
    "d2 = Connection(heatex, \"out2\", si2, \"in1\", label=\"d2\")\n",
    "\n",
    "nw.add_conns(c1, c2, d1, d2)"
   ]
  },
  {
   "cell_type": "markdown",
   "id": "37b7cdb3",
   "metadata": {},
   "source": [
    "Impose pressure difference and note drift of T in QT diagram"
   ]
  },
  {
   "cell_type": "code",
   "execution_count": 16,
   "id": "c7a0065c",
   "metadata": {
    "execution": {
     "iopub.execute_input": "2025-10-15T15:10:25.549592Z",
     "iopub.status.busy": "2025-10-15T15:10:25.549418Z",
     "iopub.status.idle": "2025-10-15T15:10:25.615178Z",
     "shell.execute_reply": "2025-10-15T15:10:25.614611Z"
    }
   },
   "outputs": [
    {
     "name": "stdout",
     "output_type": "stream",
     "text": [
      "\n",
      " iter  | residual   | progress   | massflow   | pressure   | enthalpy   | fluid      | component  \n",
      "-------+------------+------------+------------+------------+------------+------------+------------\n",
      " 1     | 1.97e+06   | 0 %        | 4.71e+01   | 0.00e+00   | 0.00e+00   | 0.00e+00   | 0.00e+00   \n",
      " 2     | 4.57e-06   | 100 %      | 1.09e-10   | 0.00e+00   | 0.00e+00   | 0.00e+00   | 0.00e+00   \n",
      " 3     | 0.00e+00   | 100 %      | 0.00e+00   | 0.00e+00   | 0.00e+00   | 0.00e+00   | 0.00e+00   \n",
      " 4     | 4.66e-10   | 100 %      | 1.11e-14   | 0.00e+00   | 0.00e+00   | 0.00e+00   | 0.00e+00   \n",
      "Total iterations: 4, Calculation time: 0.00 s, Iterations per second: 3366.89\n"
     ]
    }
   ],
   "source": [
    "c1.set_attr(fluid={\"R290\": 1}, td_dew=50, T_dew=60, m=5)\n",
    "c2.set_attr(td_bubble=5)\n",
    "d1.set_attr(fluid={\"water\": 1}, p=1, T=45)\n",
    "d2.set_attr(T=55)\n",
    "\n",
    "heatex.set_attr(dp1=1, dp2=0)\n",
    "\n",
    "nw.solve(\"design\")"
   ]
  },
  {
   "cell_type": "code",
   "execution_count": 17,
   "id": "48a0f3ee",
   "metadata": {
    "execution": {
     "iopub.execute_input": "2025-10-15T15:10:25.617606Z",
     "iopub.status.busy": "2025-10-15T15:10:25.617390Z",
     "iopub.status.idle": "2025-10-15T15:10:25.621125Z",
     "shell.execute_reply": "2025-10-15T15:10:25.620623Z"
    }
   },
   "outputs": [
    {
     "data": {
      "text/plain": [
       "173083.64661125193"
      ]
     },
     "execution_count": 17,
     "metadata": {},
     "output_type": "execute_result"
    }
   ],
   "source": [
    "heatex.UA.val"
   ]
  },
  {
   "cell_type": "code",
   "execution_count": 18,
   "id": "5671af1b",
   "metadata": {
    "execution": {
     "iopub.execute_input": "2025-10-15T15:10:25.623428Z",
     "iopub.status.busy": "2025-10-15T15:10:25.623253Z",
     "iopub.status.idle": "2025-10-15T15:10:25.750026Z",
     "shell.execute_reply": "2025-10-15T15:10:25.749422Z"
    }
   },
   "outputs": [
    {
     "data": {
      "image/png": "[encoded data removed]",
      "text/plain": [
       "<Figure size 640x480 with 1 Axes>"
      ]
     },
     "metadata": {},
     "output_type": "display_data"
    }
   ],
   "source": [
    "heat, T_hot, T_cold, heat_per_section, td_log_per_section = heatex.calc_sections()\n",
    "\n",
    "fig, ax = plt.subplots(1)\n",
    "\n",
    "ax.plot(heat, T_hot, \"o-\", color=\"red\")\n",
    "ax.plot(heat, T_cold, \"o-\", color=\"blue\")\n",
    "\n",
    "ax.grid()"
   ]
  },
  {
   "cell_type": "code",
   "execution_count": 19,
   "id": "7d4cceaa",
   "metadata": {
    "execution": {
     "iopub.execute_input": "2025-10-15T15:10:25.752557Z",
     "iopub.status.busy": "2025-10-15T15:10:25.752337Z",
     "iopub.status.idle": "2025-10-15T15:10:25.935784Z",
     "shell.execute_reply": "2025-10-15T15:10:25.935107Z"
    }
   },
   "outputs": [
    {
     "name": "stdout",
     "output_type": "stream",
     "text": [
      "\n",
      " iter  | residual   | progress   | massflow   | pressure   | enthalpy   | fluid      | component  \n",
      "-------+------------+------------+------------+------------+------------+------------+------------\n",
      " 1     | 2.33e-10   | 100 %      | 5.57e-15   | 0.00e+00   | 0.00e+00   | 0.00e+00   | 0.00e+00   \n",
      " 2     | 4.66e-10   | 100 %      | 1.11e-14   | 0.00e+00   | 0.00e+00   | 0.00e+00   | 0.00e+00   \n",
      " 3     | 2.33e-10   | 100 %      | 5.57e-15   | 0.00e+00   | 0.00e+00   | 0.00e+00   | 0.00e+00   \n",
      " 4     | 0.00e+00   | 100 %      | 0.00e+00   | 0.00e+00   | 0.00e+00   | 0.00e+00   | 0.00e+00   \n",
      "Total iterations: 4, Calculation time: 0.00 s, Iterations per second: 2842.15\n"
     ]
    },
    {
     "data": {
      "image/png": "[encoded data removed]",
      "text/plain": [
       "<Figure size 640x480 with 1 Axes>"
      ]
     },
     "metadata": {},
     "output_type": "display_data"
    }
   ],
   "source": [
    "heatex.set_attr(num_sections=100)\n",
    "nw.solve(\"design\")\n",
    "\n",
    "heat, T_hot, T_cold, heat_per_section, td_log_per_section = heatex.calc_sections()\n",
    "\n",
    "fig, ax = plt.subplots(1)\n",
    "\n",
    "ax.plot(heat, T_hot, \"o-\", color=\"red\")\n",
    "ax.plot(heat, T_cold, \"o-\", color=\"blue\")\n",
    "\n",
    "ax.grid()"
   ]
  },
  {
   "cell_type": "markdown",
   "id": "ba452019",
   "metadata": {},
   "source": [
    "setting UA/td_pinch is significantly slower"
   ]
  },
  {
   "cell_type": "code",
   "execution_count": 20,
   "id": "a281f688",
   "metadata": {
    "execution": {
     "iopub.execute_input": "2025-10-15T15:10:25.937882Z",
     "iopub.status.busy": "2025-10-15T15:10:25.937695Z",
     "iopub.status.idle": "2025-10-15T15:10:26.962937Z",
     "shell.execute_reply": "2025-10-15T15:10:26.962077Z"
    }
   },
   "outputs": [
    {
     "name": "stdout",
     "output_type": "stream",
     "text": [
      "\n",
      " iter  | residual   | progress   | massflow   | pressure   | enthalpy   | fluid      | component  \n",
      "-------+------------+------------+------------+------------+------------+------------+------------\n"
     ]
    },
    {
     "name": "stdout",
     "output_type": "stream",
     "text": [
      " 1     | 4.88e+00   | 59 %       | 1.06e+00   | 2.10e+05   | 1.67e+04   | 0.00e+00   | 0.00e+00   \n"
     ]
    },
    {
     "name": "stdout",
     "output_type": "stream",
     "text": [
      " 2     | 3.93e-01   | 71 %       | 5.70e-02   | 1.37e+04   | 6.58e+02   | 0.00e+00   | 0.00e+00   \n"
     ]
    },
    {
     "name": "stdout",
     "output_type": "stream",
     "text": [
      " 3     | 1.51e-03   | 98 %       | 8.88e-05   | 3.66e+01   | 6.36e-01   | 0.00e+00   | 0.00e+00   \n"
     ]
    },
    {
     "name": "stdout",
     "output_type": "stream",
     "text": [
      " 4     | 6.88e-08   | 100 %      | 2.17e-09   | 2.92e-04   | 1.60e-05   | 0.00e+00   | 0.00e+00   \n"
     ]
    },
    {
     "name": "stdout",
     "output_type": "stream",
     "text": [
      " 5     | 9.31e-10   | 100 %      | 2.22e-12   | 3.87e-07   | 3.47e-08   | 0.00e+00   | 0.00e+00   \n",
      "Total iterations: 5, Calculation time: 0.97 s, Iterations per second: 5.14\n"
     ]
    }
   ],
   "source": [
    "c1.set_attr(T_dew=None)\n",
    "heatex.set_attr(td_pinch=2.5)\n",
    "nw.solve(\"design\")"
   ]
  }
 ],
 "metadata": {
  "kernelspec": {
   "display_name": "tespy-user-meeting-2025",
   "language": "python",
   "name": "python3"
  },
  "language_info": {
   "codemirror_mode": {
    "name": "ipython",
    "version": 3
   },
   "file_extension": ".py",
   "mimetype": "text/x-python",
   "name": "python",
   "nbconvert_exporter": "python",
   "pygments_lexer": "ipython3",
   "version": "3.13.6"
  }
 },
 "nbformat": 4,
 "nbformat_minor": 5
}
