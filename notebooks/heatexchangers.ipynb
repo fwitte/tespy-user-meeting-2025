{
 "cells": [
  {
   "cell_type": "markdown",
   "id": "7f3ca169",
   "metadata": {},
   "source": [
    "# MovingBoundaryHeatExchanger (and SectionedHeatExchanger) class\n",
    "\n",
    "- 3 different categories of HeatExchangers\n",
    "\n",
    "1. 0D models without secondary side\n",
    "   - SimpleHeatExchanger\n",
    "   - (ParabolicTrough, SolarCollector, Pipe)\n",
    "2. 0D models with secondary side (no internal states know)\n",
    "   - HeatExchanger\n",
    "   - Desuperheater (x=1 at hot side outlet)\n",
    "   - Condenser (x=0 at hot side outlet, upper terminal temperature difference\n",
    "     and kA refer to hot side condensation temperature level)\n",
    "3. 1D models (discretized internal states)\n",
    "   - SectionedHeatExchanger (cut into specified number of linear sections)\n",
    "   - MovingBoundaryHeatExchanger (cut into sections at phase boundaries)\n",
    "\n",
    "## MovingBoundaryHeatExchanger\n",
    "\n",
    "Workflow\n",
    "\n",
    "1. For hot and for cold side:\n",
    "   1. Check if phase changes between inlet and outlet\n",
    "   2. If yes, calculate enthalpy of phase change point (assumes pressure does\n",
    "      not change). Idea to include pressure drop at end.\n",
    "   3. Use enthalpies at inlets and outlets and phase change points of each side\n",
    "      to calculate heat exchanged from start to that point ($Q_i$)\n",
    "   4. Merge both heat exchanged lists from hot and cold side\n",
    "   5. Cut the heat exchanger into sections at each heat exchange step\n",
    "2. Calculate internal temperatures \n",
    "   1. Calculate enthalpies at each step\n",
    "   $h_i = h_\\text{in} + \\frac{\\dot Q_i}{\\dot m}$, $h_i = h_\\text{out} - \\frac{\\dot Q_i}{\\dot m}$\n",
    "   1. Calculate temperature at each step $T_i=T(p, h_i)$ \n",
    "   2. Calculate temperature difference at each step $\\Delta T_i=T_{\\text{hot,}i} - T_{\\text{cold,}i}$\n",
    "3. For UA only:\n",
    "   1. Calculate logarithmic temperature difference per section between adjacent steps $\\Delta T_{\\text{log,}k}=\\frac{\\Delta T_i - \\Delta T_{i+1}}{\\ln\\frac{\\Delta T_i}{\\Delta T_{i+1}}}$\n",
    "   2. Calculate UA per section $UA_k=\\frac{\\dot Q_k}{\\Delta T_{\\text{log,}k}}$\n",
    "   3. Sum UA for overall $UA = \\sum UA_k$\n"
   ]
  },
  {
   "cell_type": "code",
   "execution_count": 1,
   "id": "f48591dc",
   "metadata": {
    "execution": {
     "iopub.execute_input": "2025-10-08T11:17:06.221360Z",
     "iopub.status.busy": "2025-10-08T11:17:06.221071Z",
     "iopub.status.idle": "2025-10-08T11:17:09.090654Z",
     "shell.execute_reply": "2025-10-08T11:17:09.089543Z"
    }
   },
   "outputs": [],
   "source": [
    "from tespy.components import MovingBoundaryHeatExchanger, Source, Sink\n",
    "from tespy.connections import Connection\n",
    "from tespy.networks import Network"
   ]
  },
  {
   "cell_type": "code",
   "execution_count": 2,
   "id": "cae298e9",
   "metadata": {
    "execution": {
     "iopub.execute_input": "2025-10-08T11:17:09.094016Z",
     "iopub.status.busy": "2025-10-08T11:17:09.093579Z",
     "iopub.status.idle": "2025-10-08T11:17:09.128870Z",
     "shell.execute_reply": "2025-10-08T11:17:09.127803Z"
    }
   },
   "outputs": [],
   "source": [
    "nw = Network()\n",
    "nw.units.set_defaults(\n",
    "    temperature=\"°C\",\n",
    "    pressure=\"bar\"\n",
    ")"
   ]
  },
  {
   "cell_type": "code",
   "execution_count": 3,
   "id": "2170ded3",
   "metadata": {
    "execution": {
     "iopub.execute_input": "2025-10-08T11:17:09.132715Z",
     "iopub.status.busy": "2025-10-08T11:17:09.132401Z",
     "iopub.status.idle": "2025-10-08T11:17:09.150726Z",
     "shell.execute_reply": "2025-10-08T11:17:09.149771Z"
    }
   },
   "outputs": [],
   "source": [
    "so1 = Source(\"source 1\")\n",
    "so2 = Source(\"source 2\")\n",
    "\n",
    "si1 = Sink(\"sink 1\")\n",
    "si2 = Sink(\"sink 2\")\n",
    "\n",
    "heatex = MovingBoundaryHeatExchanger(\"heatexchanger\")\n",
    "\n",
    "c1 = Connection(so1, \"out1\", heatex, \"in1\", label=\"c1\")\n",
    "c2 = Connection(heatex, \"out1\", si1, \"in1\", label=\"c2\")\n",
    "d1 = Connection(so2, \"out1\", heatex, \"in2\", label=\"d1\")\n",
    "d2 = Connection(heatex, \"out2\", si2, \"in1\", label=\"d2\")\n",
    "\n",
    "nw.add_conns(c1, c2, d1, d2)"
   ]
  },
  {
   "cell_type": "markdown",
   "id": "38832361",
   "metadata": {},
   "source": [
    "- In principle, the MovingBoundaryHeatExchanger works exactly as the 0D model"
   ]
  },
  {
   "cell_type": "code",
   "execution_count": 4,
   "id": "c0a64bec",
   "metadata": {
    "execution": {
     "iopub.execute_input": "2025-10-08T11:17:09.153019Z",
     "iopub.status.busy": "2025-10-08T11:17:09.152802Z",
     "iopub.status.idle": "2025-10-08T11:17:09.229324Z",
     "shell.execute_reply": "2025-10-08T11:17:09.228418Z"
    }
   },
   "outputs": [
    {
     "name": "stdout",
     "output_type": "stream",
     "text": [
      "\n",
      " iter  | residual   | progress   | massflow   | pressure   | enthalpy   | fluid      | component  \n",
      "-------+------------+------------+------------+------------+------------+------------+------------\n",
      " 1     | 1.94e+06   | 0 %        | 4.65e+01   | 0.00e+00   | 0.00e+00   | 0.00e+00   | 0.00e+00   \n",
      " 2     | 4.52e-06   | 100 %      | 1.08e-10   | 0.00e+00   | 0.00e+00   | 0.00e+00   | 0.00e+00   \n",
      " 3     | 4.66e-10   | 100 %      | 1.11e-14   | 0.00e+00   | 0.00e+00   | 0.00e+00   | 0.00e+00   \n",
      " 4     | 0.00e+00   | 100 %      | 0.00e+00   | 0.00e+00   | 0.00e+00   | 0.00e+00   | 0.00e+00   \n",
      "Total iterations: 4, Calculation time: 0.00 s, Iterations per second: 1900.89\n"
     ]
    }
   ],
   "source": [
    "c1.set_attr(fluid={\"R290\": 1}, td_dew=50, T_dew=60, m=5)\n",
    "c2.set_attr(td_bubble=5)\n",
    "d1.set_attr(fluid={\"water\": 1}, p=1, T=45)\n",
    "d2.set_attr(T=55)\n",
    "\n",
    "heatex.set_attr(dp1=0, dp2=0)\n",
    "\n",
    "nw.solve(\"design\")"
   ]
  },
  {
   "cell_type": "markdown",
   "id": "b508699a",
   "metadata": {},
   "source": [
    "- The component has internal pinch and overall UA based on identified sections\n",
    "  on top of final (upper ttd) and initial (lower ttd) pinch"
   ]
  },
  {
   "cell_type": "code",
   "execution_count": 5,
   "id": "f2705467",
   "metadata": {
    "execution": {
     "iopub.execute_input": "2025-10-08T11:17:09.231971Z",
     "iopub.status.busy": "2025-10-08T11:17:09.231756Z",
     "iopub.status.idle": "2025-10-08T11:17:09.243929Z",
     "shell.execute_reply": "2025-10-08T11:17:09.243391Z"
    }
   },
   "outputs": [
    {
     "data": {
      "text/html": [
       "<div>\n",
       "<style scoped>\n",
       "    .dataframe tbody tr th:only-of-type {\n",
       "        vertical-align: middle;\n",
       "    }\n",
       "\n",
       "    .dataframe tbody tr th {\n",
       "        vertical-align: top;\n",
       "    }\n",
       "\n",
       "    .dataframe thead th {\n",
       "        text-align: right;\n",
       "    }\n",
       "</style>\n",
       "<table border=\"1\" class=\"dataframe\">\n",
       "  <thead>\n",
       "    <tr style=\"text-align: right;\">\n",
       "      <th></th>\n",
       "      <th>td_pinch</th>\n",
       "      <th>UA</th>\n",
       "      <th>ttd_u</th>\n",
       "      <th>ttd_l</th>\n",
       "      <th>kA</th>\n",
       "    </tr>\n",
       "  </thead>\n",
       "  <tbody>\n",
       "    <tr>\n",
       "      <th>heatexchanger</th>\n",
       "      <td>8.083313</td>\n",
       "      <td>149421.272696</td>\n",
       "      <td>55.0</td>\n",
       "      <td>10.0</td>\n",
       "      <td>75450.770006</td>\n",
       "    </tr>\n",
       "  </tbody>\n",
       "</table>\n",
       "</div>"
      ],
      "text/plain": [
       "               td_pinch             UA ttd_u ttd_l            kA\n",
       "heatexchanger  8.083313  149421.272696  55.0  10.0  75450.770006"
      ]
     },
     "execution_count": 5,
     "metadata": {},
     "output_type": "execute_result"
    }
   ],
   "source": [
    "nw.results[\"MovingBoundaryHeatExchanger\"][[\"td_pinch\", \"UA\", \"ttd_u\", \"ttd_l\", \"kA\"]]"
   ]
  },
  {
   "cell_type": "markdown",
   "id": "70178447",
   "metadata": {},
   "source": [
    "- We can extract the sections: temperatures and heat transfer and make a QT plot"
   ]
  },
  {
   "cell_type": "code",
   "execution_count": 6,
   "id": "f334cc0e",
   "metadata": {
    "execution": {
     "iopub.execute_input": "2025-10-08T11:17:09.246655Z",
     "iopub.status.busy": "2025-10-08T11:17:09.246454Z",
     "iopub.status.idle": "2025-10-08T11:17:09.251547Z",
     "shell.execute_reply": "2025-10-08T11:17:09.250713Z"
    }
   },
   "outputs": [],
   "source": [
    "heat, T_hot, T_cold, heat_per_section, td_log_per_section = heatex.calc_sections()"
   ]
  },
  {
   "cell_type": "code",
   "execution_count": 7,
   "id": "fa512048",
   "metadata": {
    "execution": {
     "iopub.execute_input": "2025-10-08T11:17:09.253936Z",
     "iopub.status.busy": "2025-10-08T11:17:09.253749Z",
     "iopub.status.idle": "2025-10-08T11:17:09.775638Z",
     "shell.execute_reply": "2025-10-08T11:17:09.774506Z"
    }
   },
   "outputs": [
    {
     "data": {
      "text/plain": [
       "[<matplotlib.lines.Line2D at 0x754ca061fb10>]"
      ]
     },
     "execution_count": 7,
     "metadata": {},
     "output_type": "execute_result"
    },
    {
     "data": {
      "image/png": "[encoded data removed]",
      "text/plain": [
       "<Figure size 640x480 with 1 Axes>"
      ]
     },
     "metadata": {},
     "output_type": "display_data"
    }
   ],
   "source": [
    "from matplotlib import pyplot as plt\n",
    "\n",
    "\n",
    "fig, ax = plt.subplots(1)\n",
    "\n",
    "ax.plot(heat, T_hot, \"o-\", color=\"red\")\n",
    "ax.plot(heat, T_cold, \"o-\", color=\"blue\")"
   ]
  },
  {
   "cell_type": "markdown",
   "id": "08303634",
   "metadata": {},
   "source": [
    "- pinches are T_hot - T_cold"
   ]
  },
  {
   "cell_type": "code",
   "execution_count": 8,
   "id": "fb6f140f",
   "metadata": {
    "execution": {
     "iopub.execute_input": "2025-10-08T11:17:09.780216Z",
     "iopub.status.busy": "2025-10-08T11:17:09.779646Z",
     "iopub.status.idle": "2025-10-08T11:17:09.786785Z",
     "shell.execute_reply": "2025-10-08T11:17:09.785718Z"
    }
   },
   "outputs": [
    {
     "data": {
      "text/plain": [
       "array([10.        , 14.59169089,  8.08331341, 55.        ])"
      ]
     },
     "execution_count": 8,
     "metadata": {},
     "output_type": "execute_result"
    }
   ],
   "source": [
    "T_hot - T_cold"
   ]
  },
  {
   "cell_type": "code",
   "execution_count": 9,
   "id": "3b4327d3",
   "metadata": {
    "execution": {
     "iopub.execute_input": "2025-10-08T11:17:09.791502Z",
     "iopub.status.busy": "2025-10-08T11:17:09.791089Z",
     "iopub.status.idle": "2025-10-08T11:17:10.153677Z",
     "shell.execute_reply": "2025-10-08T11:17:10.152688Z"
    }
   },
   "outputs": [
    {
     "name": "stdout",
     "output_type": "stream",
     "text": [
      "\n",
      " iter  | residual   | progress   | massflow   | pressure   | enthalpy   | fluid      | component  \n",
      "-------+------------+------------+------------+------------+------------+------------+------------\n",
      " 1     | 5.58e+00   | 58 %       | 1.13e+00   | 2.35e+05   | 1.82e+04   | 0.00e+00   | 0.00e+00   \n",
      " 2     | 3.16e-01   | 72 %       | 3.27e-02   | 8.92e+03   | 2.13e+02   | 0.00e+00   | 0.00e+00   \n",
      " 3     | 7.25e-04   | 100 %      | 6.32e-05   | 1.82e+01   | 3.94e-01   | 0.00e+00   | 0.00e+00   \n",
      " 4     | 1.55e-07   | 100 %      | 3.13e-08   | 5.85e-03   | 4.96e-04   | 0.00e+00   | 0.00e+00   \n",
      " 5     | 1.40e-09   | 100 %      | 1.30e-11   | 2.69e-06   | 2.19e-07   | 0.00e+00   | 0.00e+00   \n",
      "Total iterations: 5, Calculation time: 0.13 s, Iterations per second: 39.06\n"
     ]
    },
    {
     "data": {
      "text/plain": [
       "array([ 4.59722394,  9.2137448 ,  2.5       , 49.59722394])"
      ]
     },
     "execution_count": 9,
     "metadata": {},
     "output_type": "execute_result"
    },
    {
     "data": {
      "image/png": "[encoded data removed]",
      "text/plain": [
       "<Figure size 640x480 with 1 Axes>"
      ]
     },
     "metadata": {},
     "output_type": "display_data"
    }
   ],
   "source": [
    "c1.set_attr(T_dew=None)\n",
    "heatex.set_attr(td_pinch=2.5)\n",
    "nw.solve(\"design\")\n",
    "\n",
    "heat, T_hot, T_cold, heat_per_section, td_log_per_section = heatex.calc_sections()\n",
    "\n",
    "fig, ax = plt.subplots(1)\n",
    "\n",
    "ax.plot(heat, T_hot, \"o-\", color=\"red\")\n",
    "ax.plot(heat, T_cold, \"o-\", color=\"blue\")\n",
    "\n",
    "T_hot - T_cold"
   ]
  },
  {
   "cell_type": "markdown",
   "id": "0f08462c",
   "metadata": {},
   "source": [
    "- kA references the terminal temperatures and calculates td_log based on those\n",
    "- UA references the terminal temperatures of each section and sums the UA of\n",
    "  all sections to total UA"
   ]
  },
  {
   "cell_type": "code",
   "execution_count": 10,
   "id": "e57599dd",
   "metadata": {
    "execution": {
     "iopub.execute_input": "2025-10-08T11:17:10.158818Z",
     "iopub.status.busy": "2025-10-08T11:17:10.158279Z",
     "iopub.status.idle": "2025-10-08T11:17:10.166957Z",
     "shell.execute_reply": "2025-10-08T11:17:10.165663Z"
    }
   },
   "outputs": [
    {
     "data": {
      "text/plain": [
       "(107696.44791629621, 315051.5645328209)"
      ]
     },
     "execution_count": 10,
     "metadata": {},
     "output_type": "execute_result"
    }
   ],
   "source": [
    "heatex.kA.val, heatex.UA.val"
   ]
  },
  {
   "cell_type": "markdown",
   "id": "381fc1f8",
   "metadata": {},
   "source": [
    "Fix UA for pinch calculation is also possible"
   ]
  },
  {
   "cell_type": "code",
   "execution_count": 11,
   "id": "fab3f6b1",
   "metadata": {
    "execution": {
     "iopub.execute_input": "2025-10-08T11:17:10.172790Z",
     "iopub.status.busy": "2025-10-08T11:17:10.172163Z",
     "iopub.status.idle": "2025-10-08T11:17:10.306280Z",
     "shell.execute_reply": "2025-10-08T11:17:10.305593Z"
    }
   },
   "outputs": [
    {
     "name": "stdout",
     "output_type": "stream",
     "text": [
      "\n",
      " iter  | residual   | progress   | massflow   | pressure   | enthalpy   | fluid      | component  \n",
      "-------+------------+------------+------------+------------+------------+------------+------------\n",
      " 1     | 3.49e+04   | 16 %       | 9.90e-02   | 2.02e+04   | 1.67e+03   | 0.00e+00   | 0.00e+00   \n",
      " 2     | 5.41e+03   | 25 %       | 1.14e-02   | 2.34e+03   | 1.90e+02   | 0.00e+00   | 0.00e+00   \n",
      " 3     | 9.68e+01   | 44 %       | 2.12e-04   | 4.34e+01   | 3.53e+00   | 0.00e+00   | 0.00e+00   \n",
      " 4     | 1.73e-02   | 86 %       | 4.44e-08   | 7.74e-03   | 6.46e-04   | 0.00e+00   | 0.00e+00   \n",
      " 5     | 2.66e-07   | 100 %      | 1.03e-12   | 1.10e-07   | 1.73e-08   | 0.00e+00   | 0.00e+00   \n",
      " 6     | 1.03e-06   | 100 %      | 2.28e-12   | 4.61e-07   | 3.77e-08   | 0.00e+00   | 0.00e+00   \n",
      "Total iterations: 6, Calculation time: 0.08 s, Iterations per second: 72.19\n"
     ]
    }
   ],
   "source": [
    "heatex.set_attr(td_pinch=None, UA=350e3)\n",
    "nw.solve(\"design\")\n",
    "nw.save(\"design.json\")"
   ]
  },
  {
   "cell_type": "code",
   "execution_count": 12,
   "id": "90e21569",
   "metadata": {
    "execution": {
     "iopub.execute_input": "2025-10-08T11:17:10.308945Z",
     "iopub.status.busy": "2025-10-08T11:17:10.308716Z",
     "iopub.status.idle": "2025-10-08T11:17:10.532744Z",
     "shell.execute_reply": "2025-10-08T11:17:10.531928Z"
    }
   },
   "outputs": [
    {
     "data": {
      "text/plain": [
       "array([ 4.15215426,  8.77051812,  2.04118551, 49.15215426])"
      ]
     },
     "execution_count": 12,
     "metadata": {},
     "output_type": "execute_result"
    },
    {
     "data": {
      "image/png": "[encoded data removed]",
      "text/plain": [
       "<Figure size 640x480 with 1 Axes>"
      ]
     },
     "metadata": {},
     "output_type": "display_data"
    }
   ],
   "source": [
    "heat, T_hot, T_cold, heat_per_section, td_log_per_section = heatex.calc_sections()\n",
    "\n",
    "fig, ax = plt.subplots(1)\n",
    "\n",
    "ax.plot(heat, T_hot, \"o-\", color=\"red\")\n",
    "ax.plot(heat, T_cold, \"o-\", color=\"blue\")\n",
    "\n",
    "T_hot - T_cold"
   ]
  },
  {
   "cell_type": "markdown",
   "id": "4cd0981d",
   "metadata": {},
   "source": [
    "We can adapt UA in offdesign with the UA_cecchinato modification"
   ]
  },
  {
   "cell_type": "code",
   "execution_count": 13,
   "id": "cc447d95",
   "metadata": {
    "execution": {
     "iopub.execute_input": "2025-10-08T11:17:10.535907Z",
     "iopub.status.busy": "2025-10-08T11:17:10.535691Z",
     "iopub.status.idle": "2025-10-08T11:17:10.624888Z",
     "shell.execute_reply": "2025-10-08T11:17:10.624010Z"
    }
   },
   "outputs": [
    {
     "name": "stdout",
     "output_type": "stream",
     "text": [
      "\n",
      " iter  | residual   | progress   | massflow   | pressure   | enthalpy   | fluid      | component  \n",
      "-------+------------+------------+------------+------------+------------+------------+------------\n",
      " 1     | 3.70e-07   | 100 %      | 8.87e-13   | 1.66e-07   | 1.44e-08   | 0.00e+00   | 0.00e+00   \n",
      " 2     | 1.02e-07   | 100 %      | 1.43e-13   | 4.65e-08   | 3.38e-09   | 0.00e+00   | 0.00e+00   \n",
      " 3     | 6.76e-07   | 100 %      | 1.52e-12   | 3.03e-07   | 2.57e-08   | 0.00e+00   | 0.00e+00   \n",
      " 4     | 7.73e-07   | 100 %      | 1.83e-12   | 3.48e-07   | 2.86e-08   | 0.00e+00   | 0.00e+00   \n",
      "Total iterations: 4, Calculation time: 0.04 s, Iterations per second: 95.57\n"
     ]
    }
   ],
   "source": [
    "heatex.set_attr(UA=None, alpha_ratio=1, area_ratio=1, refrigerant_index=0, re_exp_sf=0.55, re_exp_r=0.7)\n",
    "nw.solve(\"offdesign\", design_path=\"design.json\")"
   ]
  },
  {
   "cell_type": "markdown",
   "id": "2d7ad09f",
   "metadata": {},
   "source": [
    "## SectionedHeatExchanger\n",
    "\n",
    "Workflow\n",
    "\n",
    "1. One one side:\n",
    "   1. Calculate the enthalpy (linearly spaced) at $N+1$ steps (numpy linspace)\n",
    "      ($N$: number sections) steps $h_i=h_\\text{in} + \\frac{h_\\text{out} - h_\\text{in}}{N} \\cdot i$\n",
    "   2. Assign pressure for each step (numpy linspace) $p_i=h_\\text{in} + \\frac{p_\\text{out} - p_\\text{in}}{N} \\cdot i$\n",
    "2. Calculate internal temperatures \n",
    "   1. Calculate enthalpies at each step\n",
    "   $h_i = h_\\text{in} + \\frac{\\dot Q_i}{\\dot m}$, $h_i = h_\\text{out} - \\frac{\\dot Q_i}{\\dot m}$\n",
    "   1. Calculate temperature at each step $T_i=T(p_i, h_i)$ \n",
    "   2. Calculate temperature difference at each step $\\Delta T_i=T_{\\text{hot,}i} - T_{\\text{cold,}i}$\n",
    "3. For UA only:\n",
    "   1. Calculate logarithmic temperature difference per section between adjacent steps $\\Delta T_{\\text{log,}k}=\\frac{\\Delta T_i - \\Delta T_{i+1}}{\\ln\\frac{\\Delta T_i}{\\Delta T_{i+1}}}$\n",
    "   2. Calculate UA per section $UA_k=\\frac{\\dot Q_k}{\\Delta T_{\\text{log,}k}}$\n",
    "   3. Sum UA for overall $UA = \\sum UA_k$"
   ]
  },
  {
   "cell_type": "code",
   "execution_count": null,
   "id": "bbd0ca2d",
   "metadata": {},
   "outputs": [],
   "source": []
  },
  {
   "cell_type": "markdown",
   "id": "af74e647",
   "metadata": {},
   "source": []
  }
 ],
 "metadata": {
  "kernelspec": {
   "display_name": "tespy-user-meeting-2025",
   "language": "python",
   "name": "python3"
  },
  "language_info": {
   "codemirror_mode": {
    "name": "ipython",
    "version": 3
   },
   "file_extension": ".py",
   "mimetype": "text/x-python",
   "name": "python",
   "nbconvert_exporter": "python",
   "pygments_lexer": "ipython3",
   "version": "3.13.6"
  }
 },
 "nbformat": 4,
 "nbformat_minor": 5
}
