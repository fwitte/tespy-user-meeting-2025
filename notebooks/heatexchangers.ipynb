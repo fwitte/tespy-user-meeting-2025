{
 "cells": [
  {
   "cell_type": "markdown",
   "id": "7f3ca169",
   "metadata": {},
   "source": [
    "# MovingBoundaryHeatExchanger (and SectionedHeatExchanger) class"
   ]
  }
 ],
 "metadata": {
  "kernelspec": {
   "display_name": "tespy-user-meeting-2025",
   "language": "python",
   "name": "python3"
  },
  "language_info": {
   "codemirror_mode": {
    "name": "ipython",
    "version": 3
   },
   "file_extension": ".py",
   "mimetype": "text/x-python",
   "name": "python",
   "nbconvert_exporter": "python",
   "pygments_lexer": "ipython3",
   "version": "3.11.13"
  }
 },
 "nbformat": 4,
 "nbformat_minor": 5
}
